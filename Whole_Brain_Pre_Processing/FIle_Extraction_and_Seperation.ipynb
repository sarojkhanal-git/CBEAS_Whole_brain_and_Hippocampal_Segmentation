{
  "nbformat": 4,
  "nbformat_minor": 0,
  "metadata": {
    "colab": {
      "provenance": [],
      "include_colab_link": true
    },
    "kernelspec": {
      "name": "python3",
      "display_name": "Python 3"
    },
    "language_info": {
      "name": "python"
    }
  },
  "cells": [
    {
      "cell_type": "markdown",
      "metadata": {
        "id": "view-in-github",
        "colab_type": "text"
      },
      "source": [
        "<a href=\"https://colab.research.google.com/github/sarojkhanal-git/CBEAS-Project-Preprocessing/blob/Very_New_Codes/FIle_Extraction_and_Seperation.ipynb\" target=\"_parent\"><img src=\"https://colab.research.google.com/assets/colab-badge.svg\" alt=\"Open In Colab\"/></a>"
      ]
    },
    {
      "cell_type": "code",
      "execution_count": 1,
      "metadata": {
        "id": "UKTzt_OvW5w0"
      },
      "outputs": [],
      "source": [
        "import os\n",
        "from glob import glob\n",
        "from google.colab import drive\n",
        "import shutil\n",
        "import nibabel as nib"
      ]
    },
    {
      "cell_type": "code",
      "source": [
        "drive.mount('/content/drive/')"
      ],
      "metadata": {
        "colab": {
          "base_uri": "https://localhost:8080/"
        },
        "id": "REOo1kIkXC25",
        "outputId": "dc39e550-093c-48ca-ea4f-50a22e08b47f"
      },
      "execution_count": 2,
      "outputs": [
        {
          "output_type": "stream",
          "name": "stdout",
          "text": [
            "Mounted at /content/drive/\n"
          ]
        }
      ]
    },
    {
      "cell_type": "code",
      "source": [
        "#Function to extract .nii.gz image files and aseg.mgz label files path\n",
        "def files_extraction_seperation(data_directory, image_directory, label_directory):\n",
        "  Loc_Image_Files=sorted(glob(f'{data_directory}/**/**.nii.gz*',recursive=True))\n",
        "  Label_Files_Path=sorted(glob(f'{data_directory}/**/aseg.mgz*',recursive=True))\n",
        "  Patient_Index=[Label_Files_Path[i].split('/')[7] for i in range(0,len(Label_Files_Path))]\n",
        "  Image_Files_Path=[]\n",
        "  for i in range(0,len(Loc_Image_Files)):\n",
        "    if Loc_Image_Files[i].split('/')[7]!=Loc_Image_Files[i-1].split('/')[7]:\n",
        "      if Loc_Image_Files[i].split('/')[7] in Patient_Index:\n",
        "        Image_Files_Path.append(Loc_Image_Files[i])\n",
        "\n",
        "\n",
        "  for f in Image_Files_Path:\n",
        "    destination = os.path.join(image_directory, f.split('/')[7] + '_T1w.nii.gz')\n",
        "    shutil.copy(f, destination)\n",
        "    print(f\"{f} is copied to {destination}\")\n",
        "\n",
        "  for f in Label_Files_Path:\n",
        "    destination = os.path.join(label_directory, f.split('/')[7] + '_label.nii.gz')\n",
        "    nib.save(nib.load(f), destination)\n",
        "    print(f\"{f} is copied to {destination}\")\n",
        "\n",
        "\n",
        "  image_files = sorted(glob(f\"{image_directory}/*.nii.gz\"))\n",
        "  label_files = sorted(glob(f\"{label_directory}/*.nii.gz\"))\n",
        "\n",
        "  return image_files,label_files"
      ],
      "metadata": {
        "id": "srsw3CqAXUUA"
      },
      "execution_count": 3,
      "outputs": []
    },
    {
      "cell_type": "code",
      "source": [
        "data_path = '/content/drive/MyDrive/ALLDATASETS/dat_261-279'\n",
        "image_directory = '/content/drive/MyDrive/image_directory_temp'\n",
        "label_directory = '/content/drive/MyDrive/label_directory_temp'\n",
        "\n",
        "os.makedirs(image_directory, exist_ok=True)\n",
        "os.makedirs(label_directory, exist_ok=True)\n",
        "\n"
      ],
      "metadata": {
        "id": "QuqpiZgFZ9Wy"
      },
      "execution_count": 24,
      "outputs": []
    },
    {
      "cell_type": "code",
      "source": [
        "image_files,label_files = files_extraction_seperation(data_path, image_directory, label_directory)"
      ],
      "metadata": {
        "colab": {
          "base_uri": "https://localhost:8080/"
        },
        "id": "xRehIhrM6nMz",
        "outputId": "016b45a1-e4b6-4823-ceec-e865f929b57b"
      },
      "execution_count": 25,
      "outputs": [
        {
          "output_type": "stream",
          "name": "stdout",
          "text": [
            "/content/drive/MyDrive/ALLDATASETS/281-300/OASIS/OAS30281_MR_d0042/anat4/NIFTI/sub-OAS30281_ses-d0042_T1w.nii.gz is copied to /content/drive/MyDrive/image_directory_temp/OAS30281_MR_d0042_T1w.nii.gz\n",
            "/content/drive/MyDrive/ALLDATASETS/281-300/OASIS/OAS30282_MR_d0040/anat3/NIFTI/sub-OAS30282_ses-d0040_T1w.nii.gz is copied to /content/drive/MyDrive/image_directory_temp/OAS30282_MR_d0040_T1w.nii.gz\n",
            "/content/drive/MyDrive/ALLDATASETS/281-300/OASIS/OAS30283_MR_d3737/anat2/NIFTI/sub-OAS30283_sess-d3737_T1w.nii.gz is copied to /content/drive/MyDrive/image_directory_temp/OAS30283_MR_d3737_T1w.nii.gz\n",
            "/content/drive/MyDrive/ALLDATASETS/281-300/OASIS/OAS30284_MR_d4667/anat2/NIFTI/sub-OAS30284_sess-d4667_T1w.nii.gz is copied to /content/drive/MyDrive/image_directory_temp/OAS30284_MR_d4667_T1w.nii.gz\n",
            "/content/drive/MyDrive/ALLDATASETS/281-300/OASIS/OAS30285_MR_d0055/anat2/NIFTI/sub-OAS30285_ses-d0055_run-01_T1w.nii.gz is copied to /content/drive/MyDrive/image_directory_temp/OAS30285_MR_d0055_T1w.nii.gz\n",
            "/content/drive/MyDrive/ALLDATASETS/281-300/OASIS/OAS30286_MR_d0047/anat2/NIFTI/sub-OAS30286_ses-d0047_T1w.nii.gz is copied to /content/drive/MyDrive/image_directory_temp/OAS30286_MR_d0047_T1w.nii.gz\n",
            "/content/drive/MyDrive/ALLDATASETS/281-300/OASIS/OAS30287_MR_d0890/anat2/NIFTI/sub-OAS30287_ses-d0890_T1w.nii.gz is copied to /content/drive/MyDrive/image_directory_temp/OAS30287_MR_d0890_T1w.nii.gz\n",
            "/content/drive/MyDrive/ALLDATASETS/281-300/OASIS/OAS30288_MR_d0897/anat3/NIFTI/sub-OAS30288_ses-d0897_run-01_T1w.nii.gz is copied to /content/drive/MyDrive/image_directory_temp/OAS30288_MR_d0897_T1w.nii.gz\n",
            "/content/drive/MyDrive/ALLDATASETS/281-300/OASIS/OAS30289_MR_d0160/anat2/NIFTI/sub-OAS30289_ses-d0160_T1w.nii.gz is copied to /content/drive/MyDrive/image_directory_temp/OAS30289_MR_d0160_T1w.nii.gz\n",
            "/content/drive/MyDrive/ALLDATASETS/281-300/OASIS/OAS30290_MR_d0000/anat4/NIFTI/sub-OAS30290_ses-d0000_T1w.nii.gz is copied to /content/drive/MyDrive/image_directory_temp/OAS30290_MR_d0000_T1w.nii.gz\n",
            "/content/drive/MyDrive/ALLDATASETS/281-300/OASIS/OAS30291_MR_d1979/anat4/NIFTI/sub-OAS30291_ses-d1979_T1w.nii.gz is copied to /content/drive/MyDrive/image_directory_temp/OAS30291_MR_d1979_T1w.nii.gz\n",
            "/content/drive/MyDrive/ALLDATASETS/281-300/OASIS/OAS30292_MR_d0165/anat2/NIFTI/sub-OAS30292_ses-d0165_run-01_T1w.nii.gz is copied to /content/drive/MyDrive/image_directory_temp/OAS30292_MR_d0165_T1w.nii.gz\n",
            "/content/drive/MyDrive/ALLDATASETS/281-300/OASIS/OAS30293_MR_d0056/anat3/NIFTI/sub-OAS30293_ses-d0056_T1w.nii.gz is copied to /content/drive/MyDrive/image_directory_temp/OAS30293_MR_d0056_T1w.nii.gz\n",
            "/content/drive/MyDrive/ALLDATASETS/281-300/OASIS/OAS30294_MR_d0462/anat2/NIFTI/sub-OAS30294_ses-d0462_run-01_T1w.nii.gz is copied to /content/drive/MyDrive/image_directory_temp/OAS30294_MR_d0462_T1w.nii.gz\n",
            "/content/drive/MyDrive/ALLDATASETS/281-300/OASIS/OAS30295_MR_d0611/anat2/NIFTI/sub-OAS30295_ses-d0611_run-01_T1w.nii.gz is copied to /content/drive/MyDrive/image_directory_temp/OAS30295_MR_d0611_T1w.nii.gz\n",
            "/content/drive/MyDrive/ALLDATASETS/281-300/OASIS/OAS30296_MR_d0069/anat4/NIFTI/sub-OAS30296_ses-d0069_T1w.nii.gz is copied to /content/drive/MyDrive/image_directory_temp/OAS30296_MR_d0069_T1w.nii.gz\n",
            "/content/drive/MyDrive/ALLDATASETS/281-300/OASIS/OAS30297_MR_d2331/anat3/NIFTI/sub-OAS30297_sess-d2331_run-01_T1w.nii.gz is copied to /content/drive/MyDrive/image_directory_temp/OAS30297_MR_d2331_T1w.nii.gz\n",
            "/content/drive/MyDrive/ALLDATASETS/281-300/OASIS/OAS30298_MR_d0292/anat2/NIFTI/sub-OAS30298_ses-d0292_run-01_T1w.nii.gz is copied to /content/drive/MyDrive/image_directory_temp/OAS30298_MR_d0292_T1w.nii.gz\n",
            "/content/drive/MyDrive/ALLDATASETS/281-300/OASIS/OAS30300_MR_d0100/anat3/NIFTI/sub-OAS30300_ses-d0100_T1w.nii.gz is copied to /content/drive/MyDrive/image_directory_temp/OAS30300_MR_d0100_T1w.nii.gz\n",
            "/content/drive/MyDrive/ALLDATASETS/281-300/OASIS/OAS30281_MR_d0042/OAS30281_Freesurfer53_d0042/DATA/OAS30281_MR_d0042/mri/aseg.mgz is copied to /content/drive/MyDrive/label_directory_temp/OAS30281_MR_d0042_label.nii.gz\n",
            "/content/drive/MyDrive/ALLDATASETS/281-300/OASIS/OAS30282_MR_d0040/OAS30282_Freesurfer53_d0040/DATA/OAS30282_MR_d0040/mri/aseg.mgz is copied to /content/drive/MyDrive/label_directory_temp/OAS30282_MR_d0040_label.nii.gz\n",
            "/content/drive/MyDrive/ALLDATASETS/281-300/OASIS/OAS30283_MR_d3737/OAS30283_Freesurfer53_d3737/DATA/OAS30283_MR_d3737/mri/aseg.mgz is copied to /content/drive/MyDrive/label_directory_temp/OAS30283_MR_d3737_label.nii.gz\n",
            "/content/drive/MyDrive/ALLDATASETS/281-300/OASIS/OAS30284_MR_d4667/OAS30284_Freesurfer53_d4667/DATA/OAS30284_MR_d4667/mri/aseg.mgz is copied to /content/drive/MyDrive/label_directory_temp/OAS30284_MR_d4667_label.nii.gz\n",
            "/content/drive/MyDrive/ALLDATASETS/281-300/OASIS/OAS30285_MR_d0055/OAS30285_Freesurfer53_d0055/DATA/OAS30285_MR_d0055/mri/aseg.mgz is copied to /content/drive/MyDrive/label_directory_temp/OAS30285_MR_d0055_label.nii.gz\n",
            "/content/drive/MyDrive/ALLDATASETS/281-300/OASIS/OAS30286_MR_d0047/OAS30286_Freesurfer53_d0047/DATA/OAS30286_MR_d0047/mri/aseg.mgz is copied to /content/drive/MyDrive/label_directory_temp/OAS30286_MR_d0047_label.nii.gz\n",
            "/content/drive/MyDrive/ALLDATASETS/281-300/OASIS/OAS30287_MR_d0890/OAS30287_Freesurfer53_d0890/DATA/OAS30287_MR_d0890/mri/aseg.mgz is copied to /content/drive/MyDrive/label_directory_temp/OAS30287_MR_d0890_label.nii.gz\n",
            "/content/drive/MyDrive/ALLDATASETS/281-300/OASIS/OAS30288_MR_d0897/OAS30288_Freesurfer50_d0897/DATA/OAS30288_MR_d0897/mri/aseg.mgz is copied to /content/drive/MyDrive/label_directory_temp/OAS30288_MR_d0897_label.nii.gz\n",
            "/content/drive/MyDrive/ALLDATASETS/281-300/OASIS/OAS30289_MR_d0160/OAS30289_Freesurfer53_d0160/DATA/OAS30289_MR_d0160/mri/aseg.mgz is copied to /content/drive/MyDrive/label_directory_temp/OAS30289_MR_d0160_label.nii.gz\n",
            "/content/drive/MyDrive/ALLDATASETS/281-300/OASIS/OAS30290_MR_d0000/OAS30290_Freesurfer53_d0000/DATA/OAS30290_MR_d0000/mri/aseg.mgz is copied to /content/drive/MyDrive/label_directory_temp/OAS30290_MR_d0000_label.nii.gz\n",
            "/content/drive/MyDrive/ALLDATASETS/281-300/OASIS/OAS30291_MR_d1979/OAS30291_Freesurfer53_d1979/DATA/OAS30291_MR_d1979/mri/aseg.mgz is copied to /content/drive/MyDrive/label_directory_temp/OAS30291_MR_d1979_label.nii.gz\n",
            "/content/drive/MyDrive/ALLDATASETS/281-300/OASIS/OAS30292_MR_d0165/OAS30292_Freesurfer53_d0165/DATA/OAS30292_MR_d0165/mri/aseg.mgz is copied to /content/drive/MyDrive/label_directory_temp/OAS30292_MR_d0165_label.nii.gz\n",
            "/content/drive/MyDrive/ALLDATASETS/281-300/OASIS/OAS30293_MR_d0056/OAS30293_Freesurfer53_d0056/DATA/OAS30293_MR_d0056/mri/aseg.mgz is copied to /content/drive/MyDrive/label_directory_temp/OAS30293_MR_d0056_label.nii.gz\n",
            "/content/drive/MyDrive/ALLDATASETS/281-300/OASIS/OAS30294_MR_d0462/OAS30294_Freesurfer53_d0462/DATA/OAS30294_MR_d0462/mri/aseg.mgz is copied to /content/drive/MyDrive/label_directory_temp/OAS30294_MR_d0462_label.nii.gz\n",
            "/content/drive/MyDrive/ALLDATASETS/281-300/OASIS/OAS30295_MR_d0611/OAS30295_Freesurfer53_d0611/DATA/OAS30295_MR_d0611/mri/aseg.mgz is copied to /content/drive/MyDrive/label_directory_temp/OAS30295_MR_d0611_label.nii.gz\n",
            "/content/drive/MyDrive/ALLDATASETS/281-300/OASIS/OAS30296_MR_d0069/OAS30296_Freesurfer53_d0069/DATA/OAS30296_MR_d0069/mri/aseg.mgz is copied to /content/drive/MyDrive/label_directory_temp/OAS30296_MR_d0069_label.nii.gz\n",
            "/content/drive/MyDrive/ALLDATASETS/281-300/OASIS/OAS30297_MR_d2331/OAS30297_Freesurfer53_d2331/DATA/OAS30297_MR_d2331/mri/aseg.mgz is copied to /content/drive/MyDrive/label_directory_temp/OAS30297_MR_d2331_label.nii.gz\n",
            "/content/drive/MyDrive/ALLDATASETS/281-300/OASIS/OAS30298_MR_d0292/OAS30298_Freesurfer53_d0292/DATA/OAS30298_MR_d0292/mri/aseg.mgz is copied to /content/drive/MyDrive/label_directory_temp/OAS30298_MR_d0292_label.nii.gz\n",
            "/content/drive/MyDrive/ALLDATASETS/281-300/OASIS/OAS30300_MR_d0100/OAS30300_Freesurfer53_d0100/DATA/OAS30300_MR_d0100/mri/aseg.mgz is copied to /content/drive/MyDrive/label_directory_temp/OAS30300_MR_d0100_label.nii.gz\n"
          ]
        }
      ]
    },
    {
      "cell_type": "code",
      "source": [
        "len(image_files), len(label_files)"
      ],
      "metadata": {
        "colab": {
          "base_uri": "https://localhost:8080/"
        },
        "id": "v058--eb7WLd",
        "outputId": "e02da04e-4e15-4141-8686-3a77cff85826"
      },
      "execution_count": 28,
      "outputs": [
        {
          "output_type": "execute_result",
          "data": {
            "text/plain": [
              "(28, 28)"
            ]
          },
          "metadata": {},
          "execution_count": 28
        }
      ]
    },
    {
      "cell_type": "code",
      "source": [
        "image_files"
      ],
      "metadata": {
        "colab": {
          "base_uri": "https://localhost:8080/"
        },
        "id": "S-grDJdU1lcJ",
        "outputId": "8fa10215-8bfb-4b58-f0d7-807db1ba5a8a"
      },
      "execution_count": null,
      "outputs": [
        {
          "output_type": "execute_result",
          "data": {
            "text/plain": [
              "['/content/drive/MyDrive/image_directory_161_to_220/OAS30161_MR_d0297_T1w.nii.gz',\n",
              " '/content/drive/MyDrive/image_directory_161_to_220/OAS30163_MR_d0091_T1w.nii.gz',\n",
              " '/content/drive/MyDrive/image_directory_161_to_220/OAS30164_MR_d0233_T1w.nii.gz',\n",
              " '/content/drive/MyDrive/image_directory_161_to_220/OAS30165_MR_d0563_T1w.nii.gz',\n",
              " '/content/drive/MyDrive/image_directory_161_to_220/OAS30167_MR_d0111_T1w.nii.gz',\n",
              " '/content/drive/MyDrive/image_directory_161_to_220/OAS30168_MR_d0059_T1w.nii.gz',\n",
              " '/content/drive/MyDrive/image_directory_161_to_220/OAS30169_MR_d0282_T1w.nii.gz',\n",
              " '/content/drive/MyDrive/image_directory_161_to_220/OAS30170_MR_d0005_T1w.nii.gz',\n",
              " '/content/drive/MyDrive/image_directory_161_to_220/OAS30171_MR_d0139_T1w.nii.gz',\n",
              " '/content/drive/MyDrive/image_directory_161_to_220/OAS30172_MR_d0028_T1w.nii.gz',\n",
              " '/content/drive/MyDrive/image_directory_161_to_220/OAS30173_MR_d1188_T1w.nii.gz',\n",
              " '/content/drive/MyDrive/image_directory_161_to_220/OAS30174_MR_d0582_T1w.nii.gz',\n",
              " '/content/drive/MyDrive/image_directory_161_to_220/OAS30175_MR_d0349_T1w.nii.gz',\n",
              " '/content/drive/MyDrive/image_directory_161_to_220/OAS30176_MR_d0000_T1w.nii.gz',\n",
              " '/content/drive/MyDrive/image_directory_161_to_220/OAS30178_MR_d0049_T1w.nii.gz',\n",
              " '/content/drive/MyDrive/image_directory_161_to_220/OAS30179_MR_d0061_T1w.nii.gz',\n",
              " '/content/drive/MyDrive/image_directory_161_to_220/OAS30180_MR_d0051_T1w.nii.gz',\n",
              " '/content/drive/MyDrive/image_directory_161_to_220/OAS30181_MR_d0058_T1w.nii.gz',\n",
              " '/content/drive/MyDrive/image_directory_161_to_220/OAS30182_MR_d0094_T1w.nii.gz',\n",
              " '/content/drive/MyDrive/image_directory_161_to_220/OAS30183_MR_d0082_T1w.nii.gz',\n",
              " '/content/drive/MyDrive/image_directory_161_to_220/OAS30184_MR_d0169_T1w.nii.gz',\n",
              " '/content/drive/MyDrive/image_directory_161_to_220/OAS30185_MR_d3787_T1w.nii.gz',\n",
              " '/content/drive/MyDrive/image_directory_161_to_220/OAS30187_MR_d1210_T1w.nii.gz',\n",
              " '/content/drive/MyDrive/image_directory_161_to_220/OAS30188_MR_d3844_T1w.nii.gz',\n",
              " '/content/drive/MyDrive/image_directory_161_to_220/OAS30189_MR_d0072_T1w.nii.gz',\n",
              " '/content/drive/MyDrive/image_directory_161_to_220/OAS30190_MR_d0082_T1w.nii.gz',\n",
              " '/content/drive/MyDrive/image_directory_161_to_220/OAS30191_MR_d1136_T1w.nii.gz',\n",
              " '/content/drive/MyDrive/image_directory_161_to_220/OAS30192_MR_d1409_T1w.nii.gz',\n",
              " '/content/drive/MyDrive/image_directory_161_to_220/OAS30193_MR_d1611_T1w.nii.gz',\n",
              " '/content/drive/MyDrive/image_directory_161_to_220/OAS30195_MR_d0193_T1w.nii.gz',\n",
              " '/content/drive/MyDrive/image_directory_161_to_220/OAS30197_MR_d0115_T1w.nii.gz',\n",
              " '/content/drive/MyDrive/image_directory_161_to_220/OAS30200_MR_d0075_T1w.nii.gz']"
            ]
          },
          "metadata": {},
          "execution_count": 19
        }
      ]
    },
    {
      "cell_type": "code",
      "source": [
        "label_files"
      ],
      "metadata": {
        "colab": {
          "base_uri": "https://localhost:8080/"
        },
        "id": "qf8ZsbVS8HUg",
        "outputId": "6d45fb84-8728-4696-b092-03b73cc84063"
      },
      "execution_count": null,
      "outputs": [
        {
          "output_type": "execute_result",
          "data": {
            "text/plain": [
              "['/content/drive/MyDrive/label_directory/OAS30001_MR_d0757_label.nii.gz',\n",
              " '/content/drive/MyDrive/label_directory/OAS30002_MR_d2340_label.nii.gz',\n",
              " '/content/drive/MyDrive/label_directory/OAS30003_MR_d0558_label.nii.gz',\n",
              " '/content/drive/MyDrive/label_directory/OAS30004_MR_d2232_label.nii.gz',\n",
              " '/content/drive/MyDrive/label_directory/OAS30005_MR_d2384_label.nii.gz',\n",
              " '/content/drive/MyDrive/label_directory/OAS30006_MR_d2341_label.nii.gz',\n",
              " '/content/drive/MyDrive/label_directory/OAS30007_MR_d1641_label.nii.gz',\n",
              " '/content/drive/MyDrive/label_directory/OAS30008_MR_d2035_label.nii.gz',\n",
              " '/content/drive/MyDrive/label_directory/OAS30009_MR_d2457_label.nii.gz',\n",
              " '/content/drive/MyDrive/label_directory/OAS30010_MR_d1514_label.nii.gz',\n",
              " '/content/drive/MyDrive/label_directory/OAS30011_MR_d1671_label.nii.gz',\n",
              " '/content/drive/MyDrive/label_directory/OAS30012_MR_d0124_label.nii.gz',\n",
              " '/content/drive/MyDrive/label_directory/OAS30013_MR_d0102_label.nii.gz',\n",
              " '/content/drive/MyDrive/label_directory/OAS30014_MR_d1176_label.nii.gz',\n",
              " '/content/drive/MyDrive/label_directory/OAS30015_MR_d2004_label.nii.gz',\n",
              " '/content/drive/MyDrive/label_directory/OAS30016_MR_d0021_label.nii.gz',\n",
              " '/content/drive/MyDrive/label_directory/OAS30017_MR_d0054_label.nii.gz',\n",
              " '/content/drive/MyDrive/label_directory/OAS30018_MR_d0893_label.nii.gz',\n",
              " '/content/drive/MyDrive/label_directory/OAS30020_MR_d0911_label.nii.gz',\n",
              " '/content/drive/MyDrive/label_directory/OAS30021_MR_d0071_label.nii.gz',\n",
              " '/content/drive/MyDrive/label_directory/OAS30022_MR_d1324_label.nii.gz',\n",
              " '/content/drive/MyDrive/label_directory/OAS30024_MR_d0084_label.nii.gz',\n",
              " '/content/drive/MyDrive/label_directory/OAS30025_MR_d0210_label.nii.gz']"
            ]
          },
          "metadata": {},
          "execution_count": 73
        }
      ]
    },
    {
      "cell_type": "code",
      "source": [
        "for f, g in zip(image_files, label_files):\n",
        "  if nib.aff2axcodes(nib.load(f).affine)!=('R','A','S'):\n",
        "    print(f, g)\n",
        "    os.remove(f)\n",
        "    os.remove(g)"
      ],
      "metadata": {
        "colab": {
          "base_uri": "https://localhost:8080/"
        },
        "id": "NaYJuHkv8OV4",
        "outputId": "614a6a84-d48f-4d57-8da4-4de5726adb0e"
      },
      "execution_count": 27,
      "outputs": [
        {
          "output_type": "stream",
          "name": "stdout",
          "text": [
            "/content/drive/MyDrive/image_directory_temp/OAS30249_MR_d0091_T1w.nii.gz /content/drive/MyDrive/label_directory_temp/OAS30249_MR_d0091_label.nii.gz\n",
            "/content/drive/MyDrive/image_directory_temp/OAS30288_MR_d0897_T1w.nii.gz /content/drive/MyDrive/label_directory_temp/OAS30288_MR_d0897_label.nii.gz\n"
          ]
        }
      ]
    },
    {
      "cell_type": "code",
      "source": [
        "image_files = sorted(glob(f\"{image_directory}/*.nii.gz\"))\n",
        "label_files = sorted(glob(f\"{label_directory}/*.nii.gz\"))\n",
        "len(image_files), len(label_files)"
      ],
      "metadata": {
        "colab": {
          "base_uri": "https://localhost:8080/"
        },
        "id": "xTXzxj-H-cP5",
        "outputId": "b6fbab19-a353-4d1c-e365-3a149e06dc20"
      },
      "execution_count": 29,
      "outputs": [
        {
          "output_type": "execute_result",
          "data": {
            "text/plain": [
              "(26, 26)"
            ]
          },
          "metadata": {},
          "execution_count": 29
        }
      ]
    },
    {
      "cell_type": "code",
      "source": [
        "label1 = sorted(glob('/content/drive/MyDrive/Datasets_for_model/label_directory/*.nii.gz'))\n",
        "len(label1)"
      ],
      "metadata": {
        "id": "BjkUv9CnVjQb",
        "outputId": "00999ceb-7651-4090-ea98-365c2497ed65",
        "colab": {
          "base_uri": "https://localhost:8080/"
        }
      },
      "execution_count": 32,
      "outputs": [
        {
          "output_type": "execute_result",
          "data": {
            "text/plain": [
              "197"
            ]
          },
          "metadata": {},
          "execution_count": 32
        }
      ]
    },
    {
      "cell_type": "code",
      "source": [
        "import shutil\n",
        "\n",
        "des = \"/content/drive/MyDrive/Datasets_for_model/label_directory\"\n",
        "for f in label_files:\n",
        "  shutil.copy(f, des)"
      ],
      "metadata": {
        "id": "sMNaZNs5_hzQ"
      },
      "execution_count": 31,
      "outputs": []
    },
    {
      "cell_type": "code",
      "source": [
        "label1"
      ],
      "metadata": {
        "id": "hN9nmuXOV9W4",
        "outputId": "995a780f-ec17-45a7-b825-4254f44ab66e",
        "colab": {
          "base_uri": "https://localhost:8080/"
        }
      },
      "execution_count": null,
      "outputs": [
        {
          "output_type": "execute_result",
          "data": {
            "text/plain": [
              "['/content/drive/MyDrive/Datasets_for_model/label_directory/OAS30001_MR_d0757_label.nii.gz',\n",
              " '/content/drive/MyDrive/Datasets_for_model/label_directory/OAS30002_MR_d2340_label.nii.gz',\n",
              " '/content/drive/MyDrive/Datasets_for_model/label_directory/OAS30003_MR_d0558_label.nii.gz',\n",
              " '/content/drive/MyDrive/Datasets_for_model/label_directory/OAS30004_MR_d2232_label.nii.gz',\n",
              " '/content/drive/MyDrive/Datasets_for_model/label_directory/OAS30005_MR_d2384_label.nii.gz',\n",
              " '/content/drive/MyDrive/Datasets_for_model/label_directory/OAS30006_MR_d2341_label.nii.gz',\n",
              " '/content/drive/MyDrive/Datasets_for_model/label_directory/OAS30007_MR_d1641_label.nii.gz',\n",
              " '/content/drive/MyDrive/Datasets_for_model/label_directory/OAS30008_MR_d2035_label.nii.gz',\n",
              " '/content/drive/MyDrive/Datasets_for_model/label_directory/OAS30009_MR_d2457_label.nii.gz',\n",
              " '/content/drive/MyDrive/Datasets_for_model/label_directory/OAS30010_MR_d1514_label.nii.gz',\n",
              " '/content/drive/MyDrive/Datasets_for_model/label_directory/OAS30011_MR_d1671_label.nii.gz',\n",
              " '/content/drive/MyDrive/Datasets_for_model/label_directory/OAS30013_MR_d0102_label.nii.gz',\n",
              " '/content/drive/MyDrive/Datasets_for_model/label_directory/OAS30014_MR_d1176_label.nii.gz',\n",
              " '/content/drive/MyDrive/Datasets_for_model/label_directory/OAS30015_MR_d2004_label.nii.gz',\n",
              " '/content/drive/MyDrive/Datasets_for_model/label_directory/OAS30016_MR_d0021_label.nii.gz',\n",
              " '/content/drive/MyDrive/Datasets_for_model/label_directory/OAS30017_MR_d0054_label.nii.gz',\n",
              " '/content/drive/MyDrive/Datasets_for_model/label_directory/OAS30018_MR_d0893_label.nii.gz',\n",
              " '/content/drive/MyDrive/Datasets_for_model/label_directory/OAS30021_MR_d0071_label.nii.gz',\n",
              " '/content/drive/MyDrive/Datasets_for_model/label_directory/OAS30024_MR_d0084_label.nii.gz',\n",
              " '/content/drive/MyDrive/Datasets_for_model/label_directory/OAS30025_MR_d0210_label.nii.gz',\n",
              " '/content/drive/MyDrive/Datasets_for_model/label_directory/OAS30026_MR_d0129_label.nii.gz',\n",
              " '/content/drive/MyDrive/Datasets_for_model/label_directory/OAS30027_MR_d0433_label.nii.gz',\n",
              " '/content/drive/MyDrive/Datasets_for_model/label_directory/OAS30028_MR_d1260_label.nii.gz',\n",
              " '/content/drive/MyDrive/Datasets_for_model/label_directory/OAS30030_MR_d0170_label.nii.gz',\n",
              " '/content/drive/MyDrive/Datasets_for_model/label_directory/OAS30031_MR_d0427_label.nii.gz',\n",
              " '/content/drive/MyDrive/Datasets_for_model/label_directory/OAS30033_MR_d1267_label.nii.gz',\n",
              " '/content/drive/MyDrive/Datasets_for_model/label_directory/OAS30034_MR_d0044_label.nii.gz',\n",
              " '/content/drive/MyDrive/Datasets_for_model/label_directory/OAS30035_MR_d2218_label.nii.gz',\n",
              " '/content/drive/MyDrive/Datasets_for_model/label_directory/OAS30036_MR_d1199_label.nii.gz',\n",
              " '/content/drive/MyDrive/Datasets_for_model/label_directory/OAS30040_MR_d5108_label.nii.gz',\n",
              " '/content/drive/MyDrive/Datasets_for_model/label_directory/OAS30043_MR_d0145_label.nii.gz',\n",
              " '/content/drive/MyDrive/Datasets_for_model/label_directory/OAS30044_MR_d1319_label.nii.gz',\n",
              " '/content/drive/MyDrive/Datasets_for_model/label_directory/OAS30046_MR_d1968_label.nii.gz',\n",
              " '/content/drive/MyDrive/Datasets_for_model/label_directory/OAS30048_MR_d2292_label.nii.gz',\n",
              " '/content/drive/MyDrive/Datasets_for_model/label_directory/OAS30049_MR_d0013_label.nii.gz',\n",
              " '/content/drive/MyDrive/Datasets_for_model/label_directory/OAS30050_MR_d0110_label.nii.gz',\n",
              " '/content/drive/MyDrive/Datasets_for_model/label_directory/OAS30051_MR_d1286_label.nii.gz',\n",
              " '/content/drive/MyDrive/Datasets_for_model/label_directory/OAS30052_MR_d1296_label.nii.gz',\n",
              " '/content/drive/MyDrive/Datasets_for_model/label_directory/OAS30053_MR_d0428_label.nii.gz',\n",
              " '/content/drive/MyDrive/Datasets_for_model/label_directory/OAS30055_MR_d0065_label.nii.gz',\n",
              " '/content/drive/MyDrive/Datasets_for_model/label_directory/OAS30056_MR_d3491_label.nii.gz',\n",
              " '/content/drive/MyDrive/Datasets_for_model/label_directory/OAS30057_MR_d0075_label.nii.gz',\n",
              " '/content/drive/MyDrive/Datasets_for_model/label_directory/OAS30059_MR_d1188_label.nii.gz',\n",
              " '/content/drive/MyDrive/Datasets_for_model/label_directory/OAS30061_MR_d0035_label.nii.gz',\n",
              " '/content/drive/MyDrive/Datasets_for_model/label_directory/OAS30062_MR_d1745_label.nii.gz',\n",
              " '/content/drive/MyDrive/Datasets_for_model/label_directory/OAS30064_MR_d0687_label.nii.gz',\n",
              " '/content/drive/MyDrive/Datasets_for_model/label_directory/OAS30065_MR_d2009_label.nii.gz',\n",
              " '/content/drive/MyDrive/Datasets_for_model/label_directory/OAS30066_MR_d0524_label.nii.gz',\n",
              " '/content/drive/MyDrive/Datasets_for_model/label_directory/OAS30067_MR_d0057_label.nii.gz',\n",
              " '/content/drive/MyDrive/Datasets_for_model/label_directory/OAS30070_MR_d0070_label.nii.gz',\n",
              " '/content/drive/MyDrive/Datasets_for_model/label_directory/OAS30074_MR_d0049_label.nii.gz',\n",
              " '/content/drive/MyDrive/Datasets_for_model/label_directory/OAS30075_MR_d0143_label.nii.gz',\n",
              " '/content/drive/MyDrive/Datasets_for_model/label_directory/OAS30076_MR_d0534_label.nii.gz',\n",
              " '/content/drive/MyDrive/Datasets_for_model/label_directory/OAS30077_MR_d0944_label.nii.gz',\n",
              " '/content/drive/MyDrive/Datasets_for_model/label_directory/OAS30078_MR_d0210_label.nii.gz',\n",
              " '/content/drive/MyDrive/Datasets_for_model/label_directory/OAS30079_MR_d0019_label.nii.gz',\n",
              " '/content/drive/MyDrive/Datasets_for_model/label_directory/OAS30080_MR_d0048_label.nii.gz',\n",
              " '/content/drive/MyDrive/Datasets_for_model/label_directory/OAS30082_MR_d1700_label.nii.gz',\n",
              " '/content/drive/MyDrive/Datasets_for_model/label_directory/OAS30083_MR_d0465_label.nii.gz',\n",
              " '/content/drive/MyDrive/Datasets_for_model/label_directory/OAS30084_MR_d0470_label.nii.gz',\n",
              " '/content/drive/MyDrive/Datasets_for_model/label_directory/OAS30085_MR_d1566_label.nii.gz',\n",
              " '/content/drive/MyDrive/Datasets_for_model/label_directory/OAS30087_MR_d0260_label.nii.gz',\n",
              " '/content/drive/MyDrive/Datasets_for_model/label_directory/OAS30088_MR_d0093_label.nii.gz',\n",
              " '/content/drive/MyDrive/Datasets_for_model/label_directory/OAS30089_MR_d0001_label.nii.gz',\n",
              " '/content/drive/MyDrive/Datasets_for_model/label_directory/OAS30090_MR_d0118_label.nii.gz',\n",
              " '/content/drive/MyDrive/Datasets_for_model/label_directory/OAS30091_MR_d0092_label.nii.gz',\n",
              " '/content/drive/MyDrive/Datasets_for_model/label_directory/OAS30092_MR_d0636_label.nii.gz',\n",
              " '/content/drive/MyDrive/Datasets_for_model/label_directory/OAS30093_MR_d0056_label.nii.gz',\n",
              " '/content/drive/MyDrive/Datasets_for_model/label_directory/OAS30095_MR_d0033_label.nii.gz',\n",
              " '/content/drive/MyDrive/Datasets_for_model/label_directory/OAS30096_MR_d0024_label.nii.gz',\n",
              " '/content/drive/MyDrive/Datasets_for_model/label_directory/OAS30097_MR_d0504_label.nii.gz',\n",
              " '/content/drive/MyDrive/Datasets_for_model/label_directory/OAS30098_MR_d0036_label.nii.gz',\n",
              " '/content/drive/MyDrive/Datasets_for_model/label_directory/OAS30099_MR_d0032_label.nii.gz',\n",
              " '/content/drive/MyDrive/Datasets_for_model/label_directory/OAS30101_MR_d0101_label.nii.gz',\n",
              " '/content/drive/MyDrive/Datasets_for_model/label_directory/OAS30102_MR_d0024_label.nii.gz',\n",
              " '/content/drive/MyDrive/Datasets_for_model/label_directory/OAS30104_MR_d0328_label.nii.gz',\n",
              " '/content/drive/MyDrive/Datasets_for_model/label_directory/OAS30105_MR_d0056_label.nii.gz',\n",
              " '/content/drive/MyDrive/Datasets_for_model/label_directory/OAS30107_MR_d0387_label.nii.gz',\n",
              " '/content/drive/MyDrive/Datasets_for_model/label_directory/OAS30108_MR_d0168_label.nii.gz',\n",
              " '/content/drive/MyDrive/Datasets_for_model/label_directory/OAS30109_MR_d0270_label.nii.gz',\n",
              " '/content/drive/MyDrive/Datasets_for_model/label_directory/OAS30110_MR_d0155_label.nii.gz',\n",
              " '/content/drive/MyDrive/Datasets_for_model/label_directory/OAS30111_MR_d0385_label.nii.gz',\n",
              " '/content/drive/MyDrive/Datasets_for_model/label_directory/OAS30112_MR_d0091_label.nii.gz',\n",
              " '/content/drive/MyDrive/Datasets_for_model/label_directory/OAS30113_MR_d0894_label.nii.gz',\n",
              " '/content/drive/MyDrive/Datasets_for_model/label_directory/OAS30114_MR_d0086_label.nii.gz',\n",
              " '/content/drive/MyDrive/Datasets_for_model/label_directory/OAS30115_MR_d0138_label.nii.gz',\n",
              " '/content/drive/MyDrive/Datasets_for_model/label_directory/OAS30116_MR_d0017_label.nii.gz',\n",
              " '/content/drive/MyDrive/Datasets_for_model/label_directory/OAS30117_MR_d2034_label.nii.gz',\n",
              " '/content/drive/MyDrive/Datasets_for_model/label_directory/OAS30122_MR_d0136_label.nii.gz',\n",
              " '/content/drive/MyDrive/Datasets_for_model/label_directory/OAS30123_MR_d0122_label.nii.gz',\n",
              " '/content/drive/MyDrive/Datasets_for_model/label_directory/OAS30125_MR_d0201_label.nii.gz',\n",
              " '/content/drive/MyDrive/Datasets_for_model/label_directory/OAS30126_MR_d1105_label.nii.gz',\n",
              " '/content/drive/MyDrive/Datasets_for_model/label_directory/OAS30127_MR_d0098_label.nii.gz',\n",
              " '/content/drive/MyDrive/Datasets_for_model/label_directory/OAS30128_MR_d0044_label.nii.gz',\n",
              " '/content/drive/MyDrive/Datasets_for_model/label_directory/OAS30129_MR_d0055_label.nii.gz',\n",
              " '/content/drive/MyDrive/Datasets_for_model/label_directory/OAS30130_MR_d0025_label.nii.gz',\n",
              " '/content/drive/MyDrive/Datasets_for_model/label_directory/OAS30161_MR_d0297_label.nii.gz',\n",
              " '/content/drive/MyDrive/Datasets_for_model/label_directory/OAS30163_MR_d0091_label.nii.gz',\n",
              " '/content/drive/MyDrive/Datasets_for_model/label_directory/OAS30164_MR_d0233_label.nii.gz',\n",
              " '/content/drive/MyDrive/Datasets_for_model/label_directory/OAS30165_MR_d0563_label.nii.gz',\n",
              " '/content/drive/MyDrive/Datasets_for_model/label_directory/OAS30167_MR_d0111_label.nii.gz',\n",
              " '/content/drive/MyDrive/Datasets_for_model/label_directory/OAS30168_MR_d0059_label.nii.gz',\n",
              " '/content/drive/MyDrive/Datasets_for_model/label_directory/OAS30169_MR_d0282_label.nii.gz',\n",
              " '/content/drive/MyDrive/Datasets_for_model/label_directory/OAS30170_MR_d0005_label.nii.gz',\n",
              " '/content/drive/MyDrive/Datasets_for_model/label_directory/OAS30171_MR_d0139_label.nii.gz',\n",
              " '/content/drive/MyDrive/Datasets_for_model/label_directory/OAS30172_MR_d0028_label.nii.gz',\n",
              " '/content/drive/MyDrive/Datasets_for_model/label_directory/OAS30173_MR_d1188_label.nii.gz',\n",
              " '/content/drive/MyDrive/Datasets_for_model/label_directory/OAS30174_MR_d0582_label.nii.gz',\n",
              " '/content/drive/MyDrive/Datasets_for_model/label_directory/OAS30175_MR_d0349_label.nii.gz',\n",
              " '/content/drive/MyDrive/Datasets_for_model/label_directory/OAS30176_MR_d0000_label.nii.gz',\n",
              " '/content/drive/MyDrive/Datasets_for_model/label_directory/OAS30178_MR_d0049_label.nii.gz',\n",
              " '/content/drive/MyDrive/Datasets_for_model/label_directory/OAS30179_MR_d0061_label.nii.gz',\n",
              " '/content/drive/MyDrive/Datasets_for_model/label_directory/OAS30180_MR_d0051_label.nii.gz',\n",
              " '/content/drive/MyDrive/Datasets_for_model/label_directory/OAS30181_MR_d0058_label.nii.gz',\n",
              " '/content/drive/MyDrive/Datasets_for_model/label_directory/OAS30182_MR_d0094_label.nii.gz',\n",
              " '/content/drive/MyDrive/Datasets_for_model/label_directory/OAS30183_MR_d0082_label.nii.gz',\n",
              " '/content/drive/MyDrive/Datasets_for_model/label_directory/OAS30184_MR_d0169_label.nii.gz',\n",
              " '/content/drive/MyDrive/Datasets_for_model/label_directory/OAS30185_MR_d3787_label.nii.gz',\n",
              " '/content/drive/MyDrive/Datasets_for_model/label_directory/OAS30187_MR_d1210_label.nii.gz',\n",
              " '/content/drive/MyDrive/Datasets_for_model/label_directory/OAS30188_MR_d3844_label.nii.gz',\n",
              " '/content/drive/MyDrive/Datasets_for_model/label_directory/OAS30189_MR_d0072_label.nii.gz',\n",
              " '/content/drive/MyDrive/Datasets_for_model/label_directory/OAS30190_MR_d0082_label.nii.gz',\n",
              " '/content/drive/MyDrive/Datasets_for_model/label_directory/OAS30191_MR_d1136_label.nii.gz',\n",
              " '/content/drive/MyDrive/Datasets_for_model/label_directory/OAS30192_MR_d1409_label.nii.gz',\n",
              " '/content/drive/MyDrive/Datasets_for_model/label_directory/OAS30193_MR_d1611_label.nii.gz',\n",
              " '/content/drive/MyDrive/Datasets_for_model/label_directory/OAS30195_MR_d0193_label.nii.gz',\n",
              " '/content/drive/MyDrive/Datasets_for_model/label_directory/OAS30197_MR_d0115_label.nii.gz',\n",
              " '/content/drive/MyDrive/Datasets_for_model/label_directory/OAS30200_MR_d0075_label.nii.gz',\n",
              " '/content/drive/MyDrive/Datasets_for_model/label_directory/OAS30201_MR_d0077_label.nii.gz',\n",
              " '/content/drive/MyDrive/Datasets_for_model/label_directory/OAS30202_MR_d0175_label.nii.gz',\n",
              " '/content/drive/MyDrive/Datasets_for_model/label_directory/OAS30204_MR_d0020_label.nii.gz',\n",
              " '/content/drive/MyDrive/Datasets_for_model/label_directory/OAS30205_MR_d0061_label.nii.gz',\n",
              " '/content/drive/MyDrive/Datasets_for_model/label_directory/OAS30206_MR_d0306_label.nii.gz',\n",
              " '/content/drive/MyDrive/Datasets_for_model/label_directory/OAS30207_MR_d0346_label.nii.gz',\n",
              " '/content/drive/MyDrive/Datasets_for_model/label_directory/OAS30208_MR_d0436_label.nii.gz',\n",
              " '/content/drive/MyDrive/Datasets_for_model/label_directory/OAS30209_MR_d0609_label.nii.gz',\n",
              " '/content/drive/MyDrive/Datasets_for_model/label_directory/OAS30210_MR_d0047_label.nii.gz',\n",
              " '/content/drive/MyDrive/Datasets_for_model/label_directory/OAS30211_MR_d0046_label.nii.gz',\n",
              " '/content/drive/MyDrive/Datasets_for_model/label_directory/OAS30212_MR_d0091_label.nii.gz',\n",
              " '/content/drive/MyDrive/Datasets_for_model/label_directory/OAS30213_MR_d0041_label.nii.gz',\n",
              " '/content/drive/MyDrive/Datasets_for_model/label_directory/OAS30214_MR_d4464_label.nii.gz',\n",
              " '/content/drive/MyDrive/Datasets_for_model/label_directory/OAS30215_MR_d0098_label.nii.gz',\n",
              " '/content/drive/MyDrive/Datasets_for_model/label_directory/OAS30217_MR_d0077_label.nii.gz',\n",
              " '/content/drive/MyDrive/Datasets_for_model/label_directory/OAS30218_MR_d0092_label.nii.gz',\n",
              " '/content/drive/MyDrive/Datasets_for_model/label_directory/OAS30219_MR_d0064_label.nii.gz',\n",
              " '/content/drive/MyDrive/Datasets_for_model/label_directory/OAS30220_MR_d0104_label.nii.gz']"
            ]
          },
          "metadata": {},
          "execution_count": 31
        }
      ]
    },
    {
      "cell_type": "code",
      "source": [],
      "metadata": {
        "id": "J-LxTXZ_V_2b"
      },
      "execution_count": null,
      "outputs": []
    },
    {
      "cell_type": "code",
      "source": [],
      "metadata": {
        "id": "xFruae25WZ_B"
      },
      "execution_count": null,
      "outputs": []
    }
  ]
}