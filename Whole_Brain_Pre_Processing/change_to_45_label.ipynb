{
  "nbformat": 4,
  "nbformat_minor": 0,
  "metadata": {
    "colab": {
      "provenance": [],
      "authorship_tag": "ABX9TyODik5SaIurNdEbsKEmfKax",
      "include_colab_link": true
    },
    "kernelspec": {
      "name": "python3",
      "display_name": "Python 3"
    },
    "language_info": {
      "name": "python"
    }
  },
  "cells": [
    {
      "cell_type": "markdown",
      "metadata": {
        "id": "view-in-github",
        "colab_type": "text"
      },
      "source": [
        "<a href=\"https://colab.research.google.com/github/sarojkhanal-git/CBEAS-Project-Preprocessing/blob/Very_New_Codes/change_to_45_label.ipynb\" target=\"_parent\"><img src=\"https://colab.research.google.com/assets/colab-badge.svg\" alt=\"Open In Colab\"/></a>"
      ]
    },
    {
      "cell_type": "code",
      "execution_count": 1,
      "metadata": {
        "id": "iNnqCLhljyZN"
      },
      "outputs": [],
      "source": [
        "import nibabel as nib\n",
        "import numpy as np\n",
        "import os\n",
        "from google.colab import drive\n",
        "import glob\n",
        "import matplotlib.pyplot as plt"
      ]
    },
    {
      "cell_type": "code",
      "source": [
        "drive.mount('/content/drive')"
      ],
      "metadata": {
        "colab": {
          "base_uri": "https://localhost:8080/"
        },
        "id": "Jr9tQtpzkAJQ",
        "outputId": "4541542d-5b50-4b42-93cc-bf6a0543824c"
      },
      "execution_count": 2,
      "outputs": [
        {
          "output_type": "stream",
          "name": "stdout",
          "text": [
            "Mounted at /content/drive\n"
          ]
        }
      ]
    },
    {
      "cell_type": "code",
      "source": [
        "labels = sorted(glob.glob('/content/drive/MyDrive/Datasets_for_model/label_directory/*.nii.gz'))\n",
        "images = sorted(glob.glob('/content/drive/MyDrive/Datasets_for_model/resampled_image_directory/*.nii.gz'))"
      ],
      "metadata": {
        "id": "tmSGKf-GkEuw"
      },
      "execution_count": 3,
      "outputs": []
    },
    {
      "cell_type": "code",
      "source": [
        "len(labels), len(images)"
      ],
      "metadata": {
        "colab": {
          "base_uri": "https://localhost:8080/"
        },
        "id": "GuC6A6XAkhmG",
        "outputId": "cffebad1-ff0c-4fa6-f92b-7b994a961c0e"
      },
      "execution_count": 4,
      "outputs": [
        {
          "output_type": "execute_result",
          "data": {
            "text/plain": [
              "(171, 171)"
            ]
          },
          "metadata": {},
          "execution_count": 4
        }
      ]
    },
    {
      "cell_type": "code",
      "source": [
        "print(np.unique(nib.load(labels[0]).get_fdata())[37])\n",
        "print(np.unique(nib.load(labels[8]).get_fdata())[37])"
      ],
      "metadata": {
        "colab": {
          "base_uri": "https://localhost:8080/"
        },
        "id": "mV2uqchDlqJ8",
        "outputId": "897e8b85-9259-4779-efdc-5e08b05d21fd"
      },
      "execution_count": null,
      "outputs": [
        {
          "output_type": "stream",
          "name": "stdout",
          "text": [
            "77.0\n",
            "72.0\n"
          ]
        }
      ]
    },
    {
      "cell_type": "code",
      "source": [
        "b = nib.load(labels[8]).get_fdata()\n",
        "print(len(np.unique(b)))"
      ],
      "metadata": {
        "colab": {
          "base_uri": "https://localhost:8080/"
        },
        "id": "tXNwsjEmm1so",
        "outputId": "8071979d-81f4-4661-fa04-f8bdee21a4ee"
      },
      "execution_count": null,
      "outputs": [
        {
          "output_type": "stream",
          "name": "stdout",
          "text": [
            "46\n"
          ]
        }
      ]
    },
    {
      "cell_type": "code",
      "source": [
        "len(np.where(l8==77)[2])"
      ],
      "metadata": {
        "colab": {
          "base_uri": "https://localhost:8080/"
        },
        "id": "HlQT0MK0sz2Y",
        "outputId": "7e1a8f46-6a29-4dd9-9142-f3457d3c690f"
      },
      "execution_count": null,
      "outputs": [
        {
          "output_type": "execute_result",
          "data": {
            "text/plain": [
              "2807"
            ]
          },
          "metadata": {},
          "execution_count": 46
        }
      ]
    },
    {
      "cell_type": "code",
      "source": [
        "b[b==72]=0\n",
        "print(len(np.unique(b)))"
      ],
      "metadata": {
        "colab": {
          "base_uri": "https://localhost:8080/"
        },
        "id": "RDsI82EYm8Tg",
        "outputId": "96736621-8cd0-4aa9-cdfe-c960ede7df32"
      },
      "execution_count": null,
      "outputs": [
        {
          "output_type": "stream",
          "name": "stdout",
          "text": [
            "45\n"
          ]
        }
      ]
    },
    {
      "cell_type": "code",
      "source": [
        "affine = np.eye(4)\n",
        "img = nib.Nifti1Image(b, affine)\n",
        "nib.save(img, '/content/drive/MyDrive/Datasets_for_model/test.nii.gz')"
      ],
      "metadata": {
        "id": "M7ryte-rnMk8"
      },
      "execution_count": null,
      "outputs": []
    },
    {
      "cell_type": "code",
      "source": [
        "test = nib.load('/content/drive/MyDrive/Datasets_for_model/test.nii.gz').get_fdata()\n",
        "test.shape"
      ],
      "metadata": {
        "colab": {
          "base_uri": "https://localhost:8080/"
        },
        "id": "2SaiblZZnbR7",
        "outputId": "e97936b7-7290-4cd7-80b4-334f530dc0a4"
      },
      "execution_count": null,
      "outputs": [
        {
          "output_type": "execute_result",
          "data": {
            "text/plain": [
              "(256, 256, 256)"
            ]
          },
          "metadata": {},
          "execution_count": 16
        }
      ]
    },
    {
      "cell_type": "code",
      "source": [
        "plt.imshow(test[100, :, :])"
      ],
      "metadata": {
        "colab": {
          "base_uri": "https://localhost:8080/",
          "height": 453
        },
        "id": "YaPHvSavnkFE",
        "outputId": "8faa30b5-984e-404d-ca3d-a372591d80a8"
      },
      "execution_count": null,
      "outputs": [
        {
          "output_type": "execute_result",
          "data": {
            "text/plain": [
              "<matplotlib.image.AxesImage at 0x78c181fd0760>"
            ]
          },
          "metadata": {},
          "execution_count": 18
        },
        {
          "output_type": "display_data",
          "data": {
            "text/plain": [
              "<Figure size 640x480 with 1 Axes>"
            ],
            "image/png": "[encoded data removed]"
          },
          "metadata": {}
        }
      ]
    },
    {
      "cell_type": "code",
      "source": [
        "plt.imshow(nib.load(labels[8]).get_fdata()[100, :, :])"
      ],
      "metadata": {
        "colab": {
          "base_uri": "https://localhost:8080/",
          "height": 453
        },
        "id": "1b5TNVbEnyww",
        "outputId": "73c128b2-be3e-4f98-db48-24a7aac6a6f1"
      },
      "execution_count": null,
      "outputs": [
        {
          "output_type": "execute_result",
          "data": {
            "text/plain": [
              "<matplotlib.image.AxesImage at 0x78c182796e00>"
            ]
          },
          "metadata": {},
          "execution_count": 19
        },
        {
          "output_type": "display_data",
          "data": {
            "text/plain": [
              "<Figure size 640x480 with 1 Axes>"
            ],
            "image/png": "[encoded data removed]"
          },
          "metadata": {}
        }
      ]
    },
    {
      "cell_type": "code",
      "source": [
        "os.makedirs('/content/drive/MyDrive/Datasets_for_model/label_45_directory', exist_ok=True)"
      ],
      "metadata": {
        "id": "uWRaJmQjoFmU"
      },
      "execution_count": null,
      "outputs": []
    },
    {
      "cell_type": "code",
      "source": [
        "label_45 = '/content/drive/MyDrive/Datasets_for_model/label_45_directory'"
      ],
      "metadata": {
        "id": "zRalbgshooMV"
      },
      "execution_count": 5,
      "outputs": []
    },
    {
      "cell_type": "code",
      "source": [
        "import shutil"
      ],
      "metadata": {
        "id": "OGVvvgjaqAvB"
      },
      "execution_count": 6,
      "outputs": []
    },
    {
      "cell_type": "code",
      "source": [
        "labels[96], labels[120]"
      ],
      "metadata": {
        "id": "rCeA6SIYFf7j",
        "outputId": "899e82a5-e9ab-4ef3-bbb7-c8bada81d3bb",
        "colab": {
          "base_uri": "https://localhost:8080/"
        }
      },
      "execution_count": 12,
      "outputs": [
        {
          "output_type": "execute_result",
          "data": {
            "text/plain": [
              "('/content/drive/MyDrive/Datasets_for_model/label_directory/OAS30131_MR_d1901_label.nii.gz',\n",
              " '/content/drive/MyDrive/Datasets_for_model/label_directory/OAS30160_MR_d0751_label.nii.gz')"
            ]
          },
          "metadata": {},
          "execution_count": 12
        }
      ]
    },
    {
      "cell_type": "code",
      "source": [
        "\n",
        "i = 1\n",
        "for f in labels[120:121]:\n",
        "  f2 = nib.load(f).get_fdata()\n",
        "  if len(np.unique(f2))==46:\n",
        "    print(f\"{i} {os.path.basename(f)}\")\n",
        "    i+=1\n",
        "    if np.unique(f2)[37]==72:\n",
        "      f2[f2==72]=0\n",
        "      affine = np.eye(4)\n",
        "      img = nib.Nifti1Image(f2, affine)\n",
        "      nib.save(img, os.path.join(label_45, os.path.basename(f)))\n",
        "  else:\n",
        "    shutil.copy(f, os.path.join(label_45, os.path.basename(f)))\n"
      ],
      "metadata": {
        "colab": {
          "base_uri": "https://localhost:8080/"
        },
        "id": "XSDHdSdFkj5t",
        "outputId": "7f429c16-02be-4ad9-f118-dc7e7da62b7b"
      },
      "execution_count": 18,
      "outputs": [
        {
          "output_type": "stream",
          "name": "stdout",
          "text": [
            "1 OAS30160_MR_d0751_label.nii.gz\n"
          ]
        }
      ]
    },
    {
      "cell_type": "code",
      "source": [
        "new_labels = sorted(glob.glob(os.path.join(label_45, '*.nii.gz')))\n",
        "len(new_labels)"
      ],
      "metadata": {
        "colab": {
          "base_uri": "https://localhost:8080/"
        },
        "id": "1OwkQ8pppMFh",
        "outputId": "cf3ac44b-7f27-4131-c97d-22e9f0c5f3b3"
      },
      "execution_count": 19,
      "outputs": [
        {
          "output_type": "execute_result",
          "data": {
            "text/plain": [
              "171"
            ]
          },
          "metadata": {},
          "execution_count": 19
        }
      ]
    },
    {
      "cell_type": "code",
      "source": [
        "l8 = nib.load(new_labels[8]).get_fdata()\n",
        "len(np.unique(l8))"
      ],
      "metadata": {
        "colab": {
          "base_uri": "https://localhost:8080/"
        },
        "id": "hhGuFXreqfqx",
        "outputId": "1f6c48af-70a5-416b-c6d9-764595ffe7e2"
      },
      "execution_count": null,
      "outputs": [
        {
          "output_type": "execute_result",
          "data": {
            "text/plain": [
              "45"
            ]
          },
          "metadata": {},
          "execution_count": 27
        }
      ]
    },
    {
      "cell_type": "code",
      "source": [
        "new_labels"
      ],
      "metadata": {
        "colab": {
          "base_uri": "https://localhost:8080/"
        },
        "id": "GdrOC7HJqr6d",
        "outputId": "14668782-5a83-4c12-f912-5199cfbe02d3"
      },
      "execution_count": 16,
      "outputs": [
        {
          "output_type": "execute_result",
          "data": {
            "text/plain": [
              "['/content/drive/MyDrive/Datasets_for_model/label_45_directory/OAS30001_MR_d0757_label.nii.gz',\n",
              " '/content/drive/MyDrive/Datasets_for_model/label_45_directory/OAS30002_MR_d2340_label.nii.gz',\n",
              " '/content/drive/MyDrive/Datasets_for_model/label_45_directory/OAS30003_MR_d0558_label.nii.gz',\n",
              " '/content/drive/MyDrive/Datasets_for_model/label_45_directory/OAS30004_MR_d2232_label.nii.gz',\n",
              " '/content/drive/MyDrive/Datasets_for_model/label_45_directory/OAS30005_MR_d2384_label.nii.gz',\n",
              " '/content/drive/MyDrive/Datasets_for_model/label_45_directory/OAS30006_MR_d2341_label.nii.gz',\n",
              " '/content/drive/MyDrive/Datasets_for_model/label_45_directory/OAS30007_MR_d1641_label.nii.gz',\n",
              " '/content/drive/MyDrive/Datasets_for_model/label_45_directory/OAS30008_MR_d2035_label.nii.gz',\n",
              " '/content/drive/MyDrive/Datasets_for_model/label_45_directory/OAS30009_MR_d2457_label.nii.gz',\n",
              " '/content/drive/MyDrive/Datasets_for_model/label_45_directory/OAS30010_MR_d1514_label.nii.gz',\n",
              " '/content/drive/MyDrive/Datasets_for_model/label_45_directory/OAS30011_MR_d1671_label.nii.gz',\n",
              " '/content/drive/MyDrive/Datasets_for_model/label_45_directory/OAS30013_MR_d0102_label.nii.gz',\n",
              " '/content/drive/MyDrive/Datasets_for_model/label_45_directory/OAS30014_MR_d1176_label.nii.gz',\n",
              " '/content/drive/MyDrive/Datasets_for_model/label_45_directory/OAS30015_MR_d2004_label.nii.gz',\n",
              " '/content/drive/MyDrive/Datasets_for_model/label_45_directory/OAS30016_MR_d0021_label.nii.gz',\n",
              " '/content/drive/MyDrive/Datasets_for_model/label_45_directory/OAS30017_MR_d0054_label.nii.gz',\n",
              " '/content/drive/MyDrive/Datasets_for_model/label_45_directory/OAS30018_MR_d0893_label.nii.gz',\n",
              " '/content/drive/MyDrive/Datasets_for_model/label_45_directory/OAS30021_MR_d0071_label.nii.gz',\n",
              " '/content/drive/MyDrive/Datasets_for_model/label_45_directory/OAS30024_MR_d0084_label.nii.gz',\n",
              " '/content/drive/MyDrive/Datasets_for_model/label_45_directory/OAS30025_MR_d0210_label.nii.gz',\n",
              " '/content/drive/MyDrive/Datasets_for_model/label_45_directory/OAS30026_MR_d0129_label.nii.gz',\n",
              " '/content/drive/MyDrive/Datasets_for_model/label_45_directory/OAS30027_MR_d0433_label.nii.gz',\n",
              " '/content/drive/MyDrive/Datasets_for_model/label_45_directory/OAS30028_MR_d1260_label.nii.gz',\n",
              " '/content/drive/MyDrive/Datasets_for_model/label_45_directory/OAS30030_MR_d0170_label.nii.gz',\n",
              " '/content/drive/MyDrive/Datasets_for_model/label_45_directory/OAS30031_MR_d0427_label.nii.gz',\n",
              " '/content/drive/MyDrive/Datasets_for_model/label_45_directory/OAS30033_MR_d1267_label.nii.gz',\n",
              " '/content/drive/MyDrive/Datasets_for_model/label_45_directory/OAS30034_MR_d0044_label.nii.gz',\n",
              " '/content/drive/MyDrive/Datasets_for_model/label_45_directory/OAS30035_MR_d2218_label.nii.gz',\n",
              " '/content/drive/MyDrive/Datasets_for_model/label_45_directory/OAS30036_MR_d1199_label.nii.gz',\n",
              " '/content/drive/MyDrive/Datasets_for_model/label_45_directory/OAS30040_MR_d5108_label.nii.gz',\n",
              " '/content/drive/MyDrive/Datasets_for_model/label_45_directory/OAS30043_MR_d0145_label.nii.gz',\n",
              " '/content/drive/MyDrive/Datasets_for_model/label_45_directory/OAS30044_MR_d1319_label.nii.gz',\n",
              " '/content/drive/MyDrive/Datasets_for_model/label_45_directory/OAS30046_MR_d1968_label.nii.gz',\n",
              " '/content/drive/MyDrive/Datasets_for_model/label_45_directory/OAS30048_MR_d2292_label.nii.gz',\n",
              " '/content/drive/MyDrive/Datasets_for_model/label_45_directory/OAS30049_MR_d0013_label.nii.gz',\n",
              " '/content/drive/MyDrive/Datasets_for_model/label_45_directory/OAS30050_MR_d0110_label.nii.gz',\n",
              " '/content/drive/MyDrive/Datasets_for_model/label_45_directory/OAS30051_MR_d1286_label.nii.gz',\n",
              " '/content/drive/MyDrive/Datasets_for_model/label_45_directory/OAS30052_MR_d1296_label.nii.gz',\n",
              " '/content/drive/MyDrive/Datasets_for_model/label_45_directory/OAS30053_MR_d0428_label.nii.gz',\n",
              " '/content/drive/MyDrive/Datasets_for_model/label_45_directory/OAS30055_MR_d0065_label.nii.gz',\n",
              " '/content/drive/MyDrive/Datasets_for_model/label_45_directory/OAS30056_MR_d3491_label.nii.gz',\n",
              " '/content/drive/MyDrive/Datasets_for_model/label_45_directory/OAS30057_MR_d0075_label.nii.gz',\n",
              " '/content/drive/MyDrive/Datasets_for_model/label_45_directory/OAS30059_MR_d1188_label.nii.gz',\n",
              " '/content/drive/MyDrive/Datasets_for_model/label_45_directory/OAS30061_MR_d0035_label.nii.gz',\n",
              " '/content/drive/MyDrive/Datasets_for_model/label_45_directory/OAS30062_MR_d1745_label.nii.gz',\n",
              " '/content/drive/MyDrive/Datasets_for_model/label_45_directory/OAS30064_MR_d0687_label.nii.gz',\n",
              " '/content/drive/MyDrive/Datasets_for_model/label_45_directory/OAS30065_MR_d2009_label.nii.gz',\n",
              " '/content/drive/MyDrive/Datasets_for_model/label_45_directory/OAS30066_MR_d0524_label.nii.gz',\n",
              " '/content/drive/MyDrive/Datasets_for_model/label_45_directory/OAS30067_MR_d0057_label.nii.gz',\n",
              " '/content/drive/MyDrive/Datasets_for_model/label_45_directory/OAS30070_MR_d0070_label.nii.gz',\n",
              " '/content/drive/MyDrive/Datasets_for_model/label_45_directory/OAS30074_MR_d0049_label.nii.gz',\n",
              " '/content/drive/MyDrive/Datasets_for_model/label_45_directory/OAS30075_MR_d0143_label.nii.gz',\n",
              " '/content/drive/MyDrive/Datasets_for_model/label_45_directory/OAS30076_MR_d0534_label.nii.gz',\n",
              " '/content/drive/MyDrive/Datasets_for_model/label_45_directory/OAS30077_MR_d0944_label.nii.gz',\n",
              " '/content/drive/MyDrive/Datasets_for_model/label_45_directory/OAS30078_MR_d0210_label.nii.gz',\n",
              " '/content/drive/MyDrive/Datasets_for_model/label_45_directory/OAS30079_MR_d0019_label.nii.gz',\n",
              " '/content/drive/MyDrive/Datasets_for_model/label_45_directory/OAS30080_MR_d0048_label.nii.gz',\n",
              " '/content/drive/MyDrive/Datasets_for_model/label_45_directory/OAS30082_MR_d1700_label.nii.gz',\n",
              " '/content/drive/MyDrive/Datasets_for_model/label_45_directory/OAS30083_MR_d0465_label.nii.gz',\n",
              " '/content/drive/MyDrive/Datasets_for_model/label_45_directory/OAS30084_MR_d0470_label.nii.gz',\n",
              " '/content/drive/MyDrive/Datasets_for_model/label_45_directory/OAS30085_MR_d1566_label.nii.gz',\n",
              " '/content/drive/MyDrive/Datasets_for_model/label_45_directory/OAS30087_MR_d0260_label.nii.gz',\n",
              " '/content/drive/MyDrive/Datasets_for_model/label_45_directory/OAS30088_MR_d0093_label.nii.gz',\n",
              " '/content/drive/MyDrive/Datasets_for_model/label_45_directory/OAS30089_MR_d0001_label.nii.gz',\n",
              " '/content/drive/MyDrive/Datasets_for_model/label_45_directory/OAS30090_MR_d0118_label.nii.gz',\n",
              " '/content/drive/MyDrive/Datasets_for_model/label_45_directory/OAS30091_MR_d0092_label.nii.gz',\n",
              " '/content/drive/MyDrive/Datasets_for_model/label_45_directory/OAS30092_MR_d0636_label.nii.gz',\n",
              " '/content/drive/MyDrive/Datasets_for_model/label_45_directory/OAS30093_MR_d0056_label.nii.gz',\n",
              " '/content/drive/MyDrive/Datasets_for_model/label_45_directory/OAS30095_MR_d0033_label.nii.gz',\n",
              " '/content/drive/MyDrive/Datasets_for_model/label_45_directory/OAS30096_MR_d0024_label.nii.gz',\n",
              " '/content/drive/MyDrive/Datasets_for_model/label_45_directory/OAS30097_MR_d0504_label.nii.gz',\n",
              " '/content/drive/MyDrive/Datasets_for_model/label_45_directory/OAS30098_MR_d0036_label.nii.gz',\n",
              " '/content/drive/MyDrive/Datasets_for_model/label_45_directory/OAS30099_MR_d0032_label.nii.gz',\n",
              " '/content/drive/MyDrive/Datasets_for_model/label_45_directory/OAS30101_MR_d0101_label.nii.gz',\n",
              " '/content/drive/MyDrive/Datasets_for_model/label_45_directory/OAS30102_MR_d0024_label.nii.gz',\n",
              " '/content/drive/MyDrive/Datasets_for_model/label_45_directory/OAS30104_MR_d0328_label.nii.gz',\n",
              " '/content/drive/MyDrive/Datasets_for_model/label_45_directory/OAS30105_MR_d0056_label.nii.gz',\n",
              " '/content/drive/MyDrive/Datasets_for_model/label_45_directory/OAS30107_MR_d0387_label.nii.gz',\n",
              " '/content/drive/MyDrive/Datasets_for_model/label_45_directory/OAS30108_MR_d0168_label.nii.gz',\n",
              " '/content/drive/MyDrive/Datasets_for_model/label_45_directory/OAS30109_MR_d0270_label.nii.gz',\n",
              " '/content/drive/MyDrive/Datasets_for_model/label_45_directory/OAS30110_MR_d0155_label.nii.gz',\n",
              " '/content/drive/MyDrive/Datasets_for_model/label_45_directory/OAS30111_MR_d0385_label.nii.gz',\n",
              " '/content/drive/MyDrive/Datasets_for_model/label_45_directory/OAS30112_MR_d0091_label.nii.gz',\n",
              " '/content/drive/MyDrive/Datasets_for_model/label_45_directory/OAS30113_MR_d0894_label.nii.gz',\n",
              " '/content/drive/MyDrive/Datasets_for_model/label_45_directory/OAS30114_MR_d0086_label.nii.gz',\n",
              " '/content/drive/MyDrive/Datasets_for_model/label_45_directory/OAS30115_MR_d0138_label.nii.gz',\n",
              " '/content/drive/MyDrive/Datasets_for_model/label_45_directory/OAS30116_MR_d0017_label.nii.gz',\n",
              " '/content/drive/MyDrive/Datasets_for_model/label_45_directory/OAS30117_MR_d2034_label.nii.gz',\n",
              " '/content/drive/MyDrive/Datasets_for_model/label_45_directory/OAS30122_MR_d0136_label.nii.gz',\n",
              " '/content/drive/MyDrive/Datasets_for_model/label_45_directory/OAS30123_MR_d0122_label.nii.gz',\n",
              " '/content/drive/MyDrive/Datasets_for_model/label_45_directory/OAS30125_MR_d0201_label.nii.gz',\n",
              " '/content/drive/MyDrive/Datasets_for_model/label_45_directory/OAS30126_MR_d1105_label.nii.gz',\n",
              " '/content/drive/MyDrive/Datasets_for_model/label_45_directory/OAS30127_MR_d0098_label.nii.gz',\n",
              " '/content/drive/MyDrive/Datasets_for_model/label_45_directory/OAS30128_MR_d0044_label.nii.gz',\n",
              " '/content/drive/MyDrive/Datasets_for_model/label_45_directory/OAS30129_MR_d0055_label.nii.gz',\n",
              " '/content/drive/MyDrive/Datasets_for_model/label_45_directory/OAS30130_MR_d0025_label.nii.gz',\n",
              " '/content/drive/MyDrive/Datasets_for_model/label_45_directory/OAS30131_MR_d1901_label.nii.gz',\n",
              " '/content/drive/MyDrive/Datasets_for_model/label_45_directory/OAS30132_MR_d2288_label.nii.gz',\n",
              " '/content/drive/MyDrive/Datasets_for_model/label_45_directory/OAS30133_MR_d0505_label.nii.gz',\n",
              " '/content/drive/MyDrive/Datasets_for_model/label_45_directory/OAS30134_MR_d1642_label.nii.gz',\n",
              " '/content/drive/MyDrive/Datasets_for_model/label_45_directory/OAS30135_MR_d0190_label.nii.gz',\n",
              " '/content/drive/MyDrive/Datasets_for_model/label_45_directory/OAS30136_MR_d0063_label.nii.gz',\n",
              " '/content/drive/MyDrive/Datasets_for_model/label_45_directory/OAS30137_MR_d3165_label.nii.gz',\n",
              " '/content/drive/MyDrive/Datasets_for_model/label_45_directory/OAS30138_MR_d0074_label.nii.gz',\n",
              " '/content/drive/MyDrive/Datasets_for_model/label_45_directory/OAS30139_MR_d1702_label.nii.gz',\n",
              " '/content/drive/MyDrive/Datasets_for_model/label_45_directory/OAS30140_MR_d0172_label.nii.gz',\n",
              " '/content/drive/MyDrive/Datasets_for_model/label_45_directory/OAS30141_MR_d0544_label.nii.gz',\n",
              " '/content/drive/MyDrive/Datasets_for_model/label_45_directory/OAS30142_MR_d1279_label.nii.gz',\n",
              " '/content/drive/MyDrive/Datasets_for_model/label_45_directory/OAS30143_MR_d2235_label.nii.gz',\n",
              " '/content/drive/MyDrive/Datasets_for_model/label_45_directory/OAS30145_MR_d4247_label.nii.gz',\n",
              " '/content/drive/MyDrive/Datasets_for_model/label_45_directory/OAS30146_MR_d2309_label.nii.gz',\n",
              " '/content/drive/MyDrive/Datasets_for_model/label_45_directory/OAS30147_MR_d0048_label.nii.gz',\n",
              " '/content/drive/MyDrive/Datasets_for_model/label_45_directory/OAS30149_MR_d1240_label.nii.gz',\n",
              " '/content/drive/MyDrive/Datasets_for_model/label_45_directory/OAS30150_MR_d0100_label.nii.gz',\n",
              " '/content/drive/MyDrive/Datasets_for_model/label_45_directory/OAS30151_MR_d0064_label.nii.gz',\n",
              " '/content/drive/MyDrive/Datasets_for_model/label_45_directory/OAS30152_MR_d0111_label.nii.gz',\n",
              " '/content/drive/MyDrive/Datasets_for_model/label_45_directory/OAS30155_MR_d0785_label.nii.gz',\n",
              " '/content/drive/MyDrive/Datasets_for_model/label_45_directory/OAS30156_MR_d0503_label.nii.gz',\n",
              " '/content/drive/MyDrive/Datasets_for_model/label_45_directory/OAS30158_MR_d2467_label.nii.gz',\n",
              " '/content/drive/MyDrive/Datasets_for_model/label_45_directory/OAS30159_MR_d0110_label.nii.gz',\n",
              " '/content/drive/MyDrive/Datasets_for_model/label_45_directory/OAS30161_MR_d0297_label.nii.gz',\n",
              " '/content/drive/MyDrive/Datasets_for_model/label_45_directory/OAS30163_MR_d0091_label.nii.gz',\n",
              " '/content/drive/MyDrive/Datasets_for_model/label_45_directory/OAS30164_MR_d0233_label.nii.gz',\n",
              " '/content/drive/MyDrive/Datasets_for_model/label_45_directory/OAS30165_MR_d0563_label.nii.gz',\n",
              " '/content/drive/MyDrive/Datasets_for_model/label_45_directory/OAS30167_MR_d0111_label.nii.gz',\n",
              " '/content/drive/MyDrive/Datasets_for_model/label_45_directory/OAS30168_MR_d0059_label.nii.gz',\n",
              " '/content/drive/MyDrive/Datasets_for_model/label_45_directory/OAS30169_MR_d0282_label.nii.gz',\n",
              " '/content/drive/MyDrive/Datasets_for_model/label_45_directory/OAS30170_MR_d0005_label.nii.gz',\n",
              " '/content/drive/MyDrive/Datasets_for_model/label_45_directory/OAS30171_MR_d0139_label.nii.gz',\n",
              " '/content/drive/MyDrive/Datasets_for_model/label_45_directory/OAS30172_MR_d0028_label.nii.gz',\n",
              " '/content/drive/MyDrive/Datasets_for_model/label_45_directory/OAS30173_MR_d1188_label.nii.gz',\n",
              " '/content/drive/MyDrive/Datasets_for_model/label_45_directory/OAS30174_MR_d0582_label.nii.gz',\n",
              " '/content/drive/MyDrive/Datasets_for_model/label_45_directory/OAS30175_MR_d0349_label.nii.gz',\n",
              " '/content/drive/MyDrive/Datasets_for_model/label_45_directory/OAS30176_MR_d0000_label.nii.gz',\n",
              " '/content/drive/MyDrive/Datasets_for_model/label_45_directory/OAS30178_MR_d0049_label.nii.gz',\n",
              " '/content/drive/MyDrive/Datasets_for_model/label_45_directory/OAS30179_MR_d0061_label.nii.gz',\n",
              " '/content/drive/MyDrive/Datasets_for_model/label_45_directory/OAS30180_MR_d0051_label.nii.gz',\n",
              " '/content/drive/MyDrive/Datasets_for_model/label_45_directory/OAS30181_MR_d0058_label.nii.gz',\n",
              " '/content/drive/MyDrive/Datasets_for_model/label_45_directory/OAS30182_MR_d0094_label.nii.gz',\n",
              " '/content/drive/MyDrive/Datasets_for_model/label_45_directory/OAS30183_MR_d0082_label.nii.gz',\n",
              " '/content/drive/MyDrive/Datasets_for_model/label_45_directory/OAS30184_MR_d0169_label.nii.gz',\n",
              " '/content/drive/MyDrive/Datasets_for_model/label_45_directory/OAS30185_MR_d3787_label.nii.gz',\n",
              " '/content/drive/MyDrive/Datasets_for_model/label_45_directory/OAS30187_MR_d1210_label.nii.gz',\n",
              " '/content/drive/MyDrive/Datasets_for_model/label_45_directory/OAS30188_MR_d3844_label.nii.gz',\n",
              " '/content/drive/MyDrive/Datasets_for_model/label_45_directory/OAS30189_MR_d0072_label.nii.gz',\n",
              " '/content/drive/MyDrive/Datasets_for_model/label_45_directory/OAS30190_MR_d0082_label.nii.gz',\n",
              " '/content/drive/MyDrive/Datasets_for_model/label_45_directory/OAS30191_MR_d1136_label.nii.gz',\n",
              " '/content/drive/MyDrive/Datasets_for_model/label_45_directory/OAS30192_MR_d1409_label.nii.gz',\n",
              " '/content/drive/MyDrive/Datasets_for_model/label_45_directory/OAS30193_MR_d1611_label.nii.gz',\n",
              " '/content/drive/MyDrive/Datasets_for_model/label_45_directory/OAS30195_MR_d0193_label.nii.gz',\n",
              " '/content/drive/MyDrive/Datasets_for_model/label_45_directory/OAS30197_MR_d0115_label.nii.gz',\n",
              " '/content/drive/MyDrive/Datasets_for_model/label_45_directory/OAS30200_MR_d0075_label.nii.gz',\n",
              " '/content/drive/MyDrive/Datasets_for_model/label_45_directory/OAS30201_MR_d0077_label.nii.gz',\n",
              " '/content/drive/MyDrive/Datasets_for_model/label_45_directory/OAS30202_MR_d0175_label.nii.gz',\n",
              " '/content/drive/MyDrive/Datasets_for_model/label_45_directory/OAS30204_MR_d0020_label.nii.gz',\n",
              " '/content/drive/MyDrive/Datasets_for_model/label_45_directory/OAS30205_MR_d0061_label.nii.gz',\n",
              " '/content/drive/MyDrive/Datasets_for_model/label_45_directory/OAS30206_MR_d0306_label.nii.gz',\n",
              " '/content/drive/MyDrive/Datasets_for_model/label_45_directory/OAS30207_MR_d0346_label.nii.gz',\n",
              " '/content/drive/MyDrive/Datasets_for_model/label_45_directory/OAS30208_MR_d0436_label.nii.gz',\n",
              " '/content/drive/MyDrive/Datasets_for_model/label_45_directory/OAS30209_MR_d0609_label.nii.gz',\n",
              " '/content/drive/MyDrive/Datasets_for_model/label_45_directory/OAS30210_MR_d0047_label.nii.gz',\n",
              " '/content/drive/MyDrive/Datasets_for_model/label_45_directory/OAS30211_MR_d0046_label.nii.gz',\n",
              " '/content/drive/MyDrive/Datasets_for_model/label_45_directory/OAS30212_MR_d0091_label.nii.gz',\n",
              " '/content/drive/MyDrive/Datasets_for_model/label_45_directory/OAS30213_MR_d0041_label.nii.gz',\n",
              " '/content/drive/MyDrive/Datasets_for_model/label_45_directory/OAS30214_MR_d4464_label.nii.gz',\n",
              " '/content/drive/MyDrive/Datasets_for_model/label_45_directory/OAS30215_MR_d0098_label.nii.gz',\n",
              " '/content/drive/MyDrive/Datasets_for_model/label_45_directory/OAS30217_MR_d0077_label.nii.gz',\n",
              " '/content/drive/MyDrive/Datasets_for_model/label_45_directory/OAS30218_MR_d0092_label.nii.gz',\n",
              " '/content/drive/MyDrive/Datasets_for_model/label_45_directory/OAS30219_MR_d0064_label.nii.gz',\n",
              " '/content/drive/MyDrive/Datasets_for_model/label_45_directory/OAS30220_MR_d0104_label.nii.gz']"
            ]
          },
          "metadata": {},
          "execution_count": 16
        }
      ]
    },
    {
      "cell_type": "code",
      "source": [],
      "metadata": {
        "id": "wBPsDIjjsiB8"
      },
      "execution_count": null,
      "outputs": []
    }
  ]
}