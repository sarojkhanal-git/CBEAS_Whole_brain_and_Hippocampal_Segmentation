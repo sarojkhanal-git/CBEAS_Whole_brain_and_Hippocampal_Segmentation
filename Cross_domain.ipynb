{
  "nbformat": 4,
  "nbformat_minor": 0,
  "metadata": {
    "colab": {
      "provenance": [],
      "gpuType": "L4"
    },
    "kernelspec": {
      "name": "python3",
      "display_name": "Python 3"
    },
    "language_info": {
      "name": "python"
    },
    "accelerator": "GPU"
  },
  "cells": [
    {
      "cell_type": "code",
      "execution_count": null,
      "metadata": {
        "id": "m0Xi6-oCcGjR"
      },
      "outputs": [],
      "source": [
        "%pip install \"monai==1.4.1rc1\" -q"
      ]
    },
    {
      "cell_type": "code",
      "source": [],
      "metadata": {
        "id": "_etj1K4lBZtR"
      },
      "execution_count": null,
      "outputs": []
    },
    {
      "cell_type": "code",
      "source": [
        "from google.colab import drive\n",
        "drive.mount(\"/content/drive/\")"
      ],
      "metadata": {
        "id": "kOl9jd_FcMXL",
        "colab": {
          "base_uri": "https://localhost:8080/"
        },
        "outputId": "13f95025-4cf1-4dc7-b3ed-ff9157ee9383"
      },
      "execution_count": null,
      "outputs": [
        {
          "output_type": "stream",
          "name": "stdout",
          "text": [
            "Drive already mounted at /content/drive/; to attempt to forcibly remount, call drive.mount(\"/content/drive/\", force_remount=True).\n"
          ]
        }
      ]
    },
    {
      "cell_type": "code",
      "source": [],
      "metadata": {
        "id": "rLpHyykjBbx9"
      },
      "execution_count": null,
      "outputs": []
    },
    {
      "cell_type": "code",
      "source": [],
      "metadata": {
        "id": "KnuaSwk7BcEG"
      },
      "execution_count": null,
      "outputs": []
    },
    {
      "cell_type": "code",
      "source": [
        "#%pip uninstall -y numpy\n",
        "#%pip install \"numpy==1.26.4\""
      ],
      "metadata": {
        "colab": {
          "base_uri": "https://localhost:8080/",
          "height": 339
        },
        "id": "MX0ooiSMcMHI",
        "outputId": "8bdd839d-7244-40ba-a15d-26d67714a3ce"
      },
      "execution_count": null,
      "outputs": [
        {
          "output_type": "stream",
          "name": "stdout",
          "text": [
            "Found existing installation: numpy 1.26.4\n",
            "Uninstalling numpy-1.26.4:\n",
            "  Successfully uninstalled numpy-1.26.4\n",
            "Collecting numpy==1.26.4\n",
            "  Using cached numpy-1.26.4-cp311-cp311-manylinux_2_17_x86_64.manylinux2014_x86_64.whl.metadata (61 kB)\n",
            "Using cached numpy-1.26.4-cp311-cp311-manylinux_2_17_x86_64.manylinux2014_x86_64.whl (18.3 MB)\n",
            "Installing collected packages: numpy\n",
            "\u001b[31mERROR: pip's dependency resolver does not currently take into account all the packages that are installed. This behaviour is the source of the following dependency conflicts.\n",
            "opencv-contrib-python 4.12.0.88 requires numpy<2.3.0,>=2; python_version >= \"3.9\", but you have numpy 1.26.4 which is incompatible.\n",
            "thinc 8.3.6 requires numpy<3.0.0,>=2.0.0, but you have numpy 1.26.4 which is incompatible.\n",
            "opencv-python-headless 4.12.0.88 requires numpy<2.3.0,>=2; python_version >= \"3.9\", but you have numpy 1.26.4 which is incompatible.\n",
            "opencv-python 4.12.0.88 requires numpy<2.3.0,>=2; python_version >= \"3.9\", but you have numpy 1.26.4 which is incompatible.\u001b[0m\u001b[31m\n",
            "\u001b[0mSuccessfully installed numpy-1.26.4\n"
          ]
        },
        {
          "output_type": "display_data",
          "data": {
            "application/vnd.colab-display-data+json": {
              "pip_warning": {
                "packages": [
                  "numpy"
                ]
              },
              "id": "13f0f11c9cb443d59bd1c1e67ea26677"
            }
          },
          "metadata": {}
        }
      ]
    },
    {
      "cell_type": "code",
      "source": [
        "import pandas as pd"
      ],
      "metadata": {
        "id": "xFzKrvZBcSTb"
      },
      "execution_count": null,
      "outputs": []
    },
    {
      "cell_type": "code",
      "source": [
        "import glob\n",
        "import pandas as pd\n",
        "import os\n",
        "import numpy as np\n",
        "import matplotlib.pyplot as plt\n",
        "import datetime"
      ],
      "metadata": {
        "id": "OGWwxsStcSKV"
      },
      "execution_count": null,
      "outputs": []
    },
    {
      "cell_type": "code",
      "source": [
        "import nibabel as nib\n",
        "import torch\n",
        "import torch.nn as nn\n",
        "import torch.optim as optim"
      ],
      "metadata": {
        "id": "qDTsywLvcW0n"
      },
      "execution_count": null,
      "outputs": []
    },
    {
      "cell_type": "code",
      "source": [
        "from monai.config import print_config\n",
        "from monai.metrics import DiceMetric\n",
        "from monai.data import DataLoader, Dataset, decollate_batch\n",
        "from monai.losses import DiceLoss\n",
        "from monai.networks.nets import SwinUNETR\n",
        "from monai.transforms import (\n",
        "    Activations,\n",
        "    EnsureChannelFirst,\n",
        "    AsDiscrete,\n",
        "    Compose,\n",
        "    LoadImage,\n",
        "    Resize,\n",
        "    ScaleIntensity,\n",
        "    ToTensor,\n",
        "    Lambda,\n",
        "    EnsureType,\n",
        ")\n",
        "from monai.utils import set_determinism\n",
        "from monai.inferers import sliding_window_inference"
      ],
      "metadata": {
        "id": "2r4fa1JBcWsP"
      },
      "execution_count": null,
      "outputs": []
    },
    {
      "cell_type": "code",
      "source": [
        "print_config()"
      ],
      "metadata": {
        "colab": {
          "base_uri": "https://localhost:8080/"
        },
        "id": "GJQfy4vAcjsy",
        "outputId": "0d2d001c-85a8-4859-dba4-ecabb4e8457e"
      },
      "execution_count": null,
      "outputs": [
        {
          "output_type": "stream",
          "name": "stdout",
          "text": [
            "MONAI version: 1.4.1rc1\n",
            "Numpy version: 1.26.4\n",
            "Pytorch version: 2.6.0+cu124\n",
            "MONAI flags: HAS_EXT = False, USE_COMPILED = False, USE_META_DICT = False\n",
            "MONAI rev id: e604d1841fe60c0ffb6978ae4116535ca8d8f34f\n",
            "MONAI __file__: /usr/local/lib/python3.11/dist-packages/monai/__init__.py\n",
            "\n",
            "Optional dependencies:\n",
            "Pytorch Ignite version: NOT INSTALLED or UNKNOWN VERSION.\n",
            "ITK version: NOT INSTALLED or UNKNOWN VERSION.\n",
            "Nibabel version: 5.3.2\n",
            "scikit-image version: 0.25.2\n",
            "scipy version: 1.16.0\n",
            "Pillow version: 11.3.0\n",
            "Tensorboard version: 2.18.0\n",
            "gdown version: 5.2.0\n",
            "TorchVision version: 0.21.0+cu124\n",
            "tqdm version: 4.67.1\n",
            "lmdb version: NOT INSTALLED or UNKNOWN VERSION.\n",
            "psutil version: 5.9.5\n",
            "pandas version: 2.2.2\n",
            "einops version: 0.8.1\n",
            "transformers version: 4.54.0\n",
            "mlflow version: NOT INSTALLED or UNKNOWN VERSION.\n",
            "pynrrd version: NOT INSTALLED or UNKNOWN VERSION.\n",
            "clearml version: NOT INSTALLED or UNKNOWN VERSION.\n",
            "\n",
            "For details about installing the optional dependencies, please visit:\n",
            "    https://docs.monai.io/en/latest/installation.html#installing-the-recommended-dependencies\n",
            "\n"
          ]
        }
      ]
    },
    {
      "cell_type": "code",
      "source": [
        "# --- 1. Data Preparation with image_size=160 ---\n",
        "image_dir = \"/content/drive/MyDrive/MNI_train_data/image_files\"\n",
        "label_dir = \"/content/drive/MyDrive/MNI_train_data/label_files_combined\"\n",
        "\n"
      ],
      "metadata": {
        "id": "uwNlX7S3cjn_"
      },
      "execution_count": null,
      "outputs": []
    },
    {
      "cell_type": "code",
      "source": [
        "lut_path = \"/content/drive/MyDrive/FreeSurferColorLUT.txt\""
      ],
      "metadata": {
        "id": "O59m-TXfduun"
      },
      "execution_count": null,
      "outputs": []
    },
    {
      "cell_type": "code",
      "source": [
        "images = sorted(glob.glob(os.path.join(image_dir, \"*.nii.gz\")))\n",
        "labels = sorted(glob.glob(os.path.join(label_dir, \"*.nii.gz\")))"
      ],
      "metadata": {
        "id": "VBs5TAhOdvLA"
      },
      "execution_count": null,
      "outputs": []
    },
    {
      "cell_type": "code",
      "source": [
        "def visualize_image(mri_image, label_image, slice_num, array = False):\n",
        "\n",
        "  if array == False:\n",
        "    mri_image = nib.load(mri_image).get_fdata()\n",
        "    label_image =nib.load(label_image).get_fdata()\n",
        "\n",
        "  df = pd.read_csv(lut_path,sep='\\s+', comment = '#', names = ['Label_ID', 'Label_Name', 'R', 'G', 'B', 'A'], usecols = ['Label_ID', 'Label_Name', 'R', 'G', 'B'])\n",
        "\n",
        "  unique_labels = np.unique(label_image)\n",
        "\n",
        "  rgb_img = np.zeros((*label_image.shape, 3), dtype = np.uint8)\n",
        "\n",
        "  for labels in unique_labels:\n",
        "     rgb_values = df.loc[df['Label_ID'] == labels, ['R', 'G', 'B']].values[0]\n",
        "     rgb_img[label_image == labels] = rgb_values\n",
        "\n",
        "  fig, axs = plt.subplots(1, 3, figsize = (15, 15))\n",
        "  axs[0].imshow(mri_image[slice_num,: ,:], cmap = 'gray')\n",
        "  axs[0].set_title('MRI Slice')\n",
        "  axs[0].axis('off')\n",
        "\n",
        "  axs[1].imshow(rgb_img[slice_num, :, :, :])\n",
        "  axs[1].set_title('Label Slice')\n",
        "  axs[1].axis('off')\n",
        "\n",
        "  axs[2].imshow(mri_image[slice_num, :, :], cmap = 'gray')\n",
        "  axs[2].imshow(rgb_img[slice_num, :, :, :], alpha = 0.5)\n",
        "  axs[2].set_title('Overlay')\n",
        "  axs[2].axis('off')\n",
        "\n",
        "  plt.show()\n"
      ],
      "metadata": {
        "id": "4ETrJOxhd4LA"
      },
      "execution_count": null,
      "outputs": []
    },
    {
      "cell_type": "code",
      "source": [
        "visualize_image(images[0],labels[0], 75)"
      ],
      "metadata": {
        "colab": {
          "base_uri": "https://localhost:8080/",
          "height": 480
        },
        "id": "23bpxDgFd5Et",
        "outputId": "5213ec2a-f247-406b-ea84-6695b0c5d3e5"
      },
      "execution_count": null,
      "outputs": [
        {
          "output_type": "display_data",
          "data": {
            "text/plain": [
              "<Figure size 1500x1500 with 3 Axes>"
            ],
            "image/png": "[encoded data removed]"
          },
          "metadata": {}
        }
      ]
    },
    {
      "cell_type": "code",
      "source": [
        "from monai.transforms import SpatialCrop, CenterSpatialCrop"
      ],
      "metadata": {
        "id": "ffs2x12VeBFc"
      },
      "execution_count": null,
      "outputs": []
    },
    {
      "cell_type": "code",
      "source": [
        "\n",
        "img_size=(160, 160, 160)"
      ],
      "metadata": {
        "id": "u47oUlOFc1Da"
      },
      "execution_count": null,
      "outputs": []
    },
    {
      "cell_type": "code",
      "source": [
        "img_transforms = Compose([\n",
        "    LoadImage(image_only=True), ToTensor(), ScaleIntensity(),\n",
        "    EnsureChannelFirst(), CenterSpatialCrop(roi_size=img_size)\n",
        "])\n",
        "seg_transforms = Compose([\n",
        "    LoadImage(image_only=True), ToTensor(),\n",
        "    EnsureChannelFirst(), CenterSpatialCrop(roi_size=img_size)\n",
        "])\n"
      ],
      "metadata": {
        "id": "9vSJ0ovvc5E2"
      },
      "execution_count": null,
      "outputs": []
    },
    {
      "cell_type": "code",
      "source": [
        "class MyBrainDataset(Dataset):\n",
        "    def __init__(self, data, img_tfms, seg_tfms):\n",
        "        super().__init__(data)\n",
        "        self.img_tfms = img_tfms\n",
        "        self.seg_tfms = seg_tfms\n",
        "    def __getitem__(self, idx):\n",
        "        d = self.data[idx]\n",
        "        image = self.img_tfms(d[\"image\"])\n",
        "        label = self.seg_tfms(d[\"label\"])\n",
        "        return image, label\n"
      ],
      "metadata": {
        "id": "kYM-dvXQc7YP"
      },
      "execution_count": null,
      "outputs": []
    },
    {
      "cell_type": "code",
      "source": [
        "data_dicts = [{\"image\": i, \"label\": s} for i, s in zip(images, labels)]\n",
        "train_files = data_dicts[:4]\n",
        "val_files   = data_dicts[4:]\n"
      ],
      "metadata": {
        "id": "sABqnS-leX62"
      },
      "execution_count": null,
      "outputs": []
    },
    {
      "cell_type": "code",
      "source": [
        "train_ds = MyBrainDataset(train_files, img_transforms, seg_transforms)\n",
        "val_ds   = MyBrainDataset(val_files,   img_transforms, seg_transforms)\n"
      ],
      "metadata": {
        "id": "jh7FITKkc5WD"
      },
      "execution_count": null,
      "outputs": []
    },
    {
      "cell_type": "code",
      "source": [
        "train_loader = DataLoader(train_ds, batch_size=1, shuffle=True,  num_workers=2)\n",
        "val_loader   = DataLoader(val_ds,   batch_size=1, shuffle=False, num_workers=2)\n"
      ],
      "metadata": {
        "id": "TB4xuuZfefb0"
      },
      "execution_count": null,
      "outputs": []
    },
    {
      "cell_type": "code",
      "source": [
        "imgt, segt = train_ds[0]\n",
        "imgt = imgt.squeeze().numpy()\n",
        "segt = segt.squeeze().numpy()\n",
        "imgt.shape, segt.shape"
      ],
      "metadata": {
        "colab": {
          "base_uri": "https://localhost:8080/"
        },
        "id": "r_HBsRnIehjr",
        "outputId": "107bc940-0aa2-4158-b494-3cef61b1f0cf"
      },
      "execution_count": null,
      "outputs": [
        {
          "output_type": "execute_result",
          "data": {
            "text/plain": [
              "((160, 160, 160), (160, 160, 160))"
            ]
          },
          "metadata": {},
          "execution_count": 20
        }
      ]
    },
    {
      "cell_type": "code",
      "source": [
        "from monai.losses import DiceCELoss\n",
        "from collections import OrderedDict\n",
        "set_determinism(seed=40)\n",
        "\n",
        "# --- 2. Model Initialization with img_size=160 and feature_size=24 ---\n",
        "model = SwinUNETR(\n",
        "    img_size=(160, 160, 160), # <-- MODIFIED as per your request\n",
        "    in_channels=1,\n",
        "    out_channels=4,\n",
        "    feature_size=24,\n",
        "    use_checkpoint=True,\n",
        ").cuda()\n",
        "model_dict = model.state_dict()\n",
        "\n",
        "pretrained_path = \"/content/drive/MyDrive/swin_tiny_patch4_window7_224.pth\"\n",
        "pretrained_weights = torch.load(pretrained_path)[\"model\"]\n",
        "\n",
        "# --- Visualize Model State Dicts ---\n",
        "print(\"--- Pretrained Swin-T Layer Names and Shapes (Sample) ---\")\n",
        "for i, (k, v) in enumerate(pretrained_weights.items()):\n",
        "    if i >= 15: break\n",
        "    print(f\"{k:<70} Shape: {v.shape}\")\n",
        "\n",
        "print(\"\\n--- Target Swin UNETR Layer Names and Shapes (Sample) ---\")\n",
        "for i, (k, v) in enumerate(model_dict.items()):\n",
        "    if i >= 15: break\n",
        "    print(f\"{k:<70} Shape: {v.shape}\")\n",
        "print(\"-\" * 80)\n",
        "\n",
        "\n",
        "# --- 3. Weight Transfer with Slicing (Same as before) ---\n",
        "def map_weights_with_slicing(pretrained_state, model_state):\n",
        "    new_state_dict = OrderedDict()\n",
        "    transferred_count = 0\n",
        "    print(\"--- Starting Weight Transfer with Slicing ---\")\n",
        "\n",
        "    for pretrained_key, pretrained_value in pretrained_state.items():\n",
        "        new_key = pretrained_key\n",
        "        if new_key.startswith('layers.0'): new_key = new_key.replace('layers.0', 'swinViT.layers1.0', 1)\n",
        "        elif new_key.startswith('layers.1'): new_key = new_key.replace('layers.1', 'swinViT.layers2.0', 1)\n",
        "        elif new_key.startswith('layers.2'): new_key = new_key.replace('layers.2', 'swinViT.layers3.0', 1)\n",
        "        elif new_key.startswith('layers.3'): new_key = new_key.replace('layers.3', 'swinViT.layers4.0', 1)\n",
        "        elif new_key.startswith('patch_embed.'): new_key = new_key.replace('patch_embed.', 'swinViT.patch_embed.', 1)\n",
        "        elif new_key.startswith('norm.'): new_key = new_key.replace('norm.', 'swinViT.norm.', 1)\n",
        "        new_key = new_key.replace('mlp.fc1.', 'mlp.linear1.')\n",
        "        new_key = new_key.replace('mlp.fc2.', 'mlp.linear2.')\n",
        "        new_key = new_key.replace('downsample.reduction.', 'downsample.proj.')\n",
        "\n",
        "        if any(x in new_key for x in [\"head\", \"relative_position\", \"decoder\", \"out.\"]):\n",
        "            continue\n",
        "\n",
        "        if new_key in model_state:\n",
        "            target_tensor = model_state[new_key]\n",
        "            if \"swinViT.patch_embed.proj.weight\" in new_key:\n",
        "                # Average the 3 RGB channels to a single channel\n",
        "                adapted_weight = pretrained_value.mean(dim=1, keepdim=True)\n",
        "                # Inflate the weights to 3D\n",
        "                inflated_weight = adapted_weight.unsqueeze(2).repeat(1, 1, target_tensor.shape[2], 1, 1)\n",
        "                if inflated_weight.shape == target_tensor.shape:\n",
        "                    new_state_dict[new_key] = inflated_weight\n",
        "                    transferred_count += 1\n",
        "                    print(f\"  -> Success (weight inflation).\")\n",
        "                else:\n",
        "                    print(f\"  -> !!! Mismatch after weight inflation. Skipping.\")\n",
        "            elif pretrained_value.shape == target_tensor.shape:\n",
        "                new_state_dict[new_key] = pretrained_value\n",
        "                transferred_count += 1\n",
        "            else:\n",
        "                print(f\"Slicing '{new_key}': From {pretrained_value.shape} to {target_tensor.shape}\")\n",
        "                slices = tuple(slice(0, t) for t in target_tensor.shape)\n",
        "                try:\n",
        "                    sliced_value = pretrained_value[slices]\n",
        "                    if sliced_value.shape == target_tensor.shape:\n",
        "                        new_state_dict[new_key] = sliced_value\n",
        "                        transferred_count += 1\n",
        "                        print(f\"  -> Success.\")\n",
        "                    else:\n",
        "                        print(f\"  -> !!! Mismatch after slicing. Skipping.\")\n",
        "                except Exception as e:\n",
        "                    print(f\"  -> !!! Slicing failed: {e}. Skipping.\")\n",
        "\n",
        "    print(f\"--- Finished Weight Transfer ---\")\n",
        "    return new_state_dict, transferred_count\n",
        "\n",
        "mapped_weights, num_transferred = map_weights_with_slicing(pretrained_weights, model_dict)\n",
        "model.load_state_dict(mapped_weights, strict=False)\n",
        "\n",
        "print(f\"\\nSuccessfully transferred and/or sliced {num_transferred} / {len(model_dict)} layers.\")\n",
        "\n",
        "# --- 5. Print Summary ---\n",
        "total_model_params = sum(p.numel() for p in model.parameters())\n",
        "transferred_params = sum(p.numel() for p in mapped_weights.values())\n",
        "total_pretrained_params = sum(p.numel() for p in pretrained_weights.values())\n",
        "percentage_params_transferred = (transferred_params / total_model_params) * 100 if total_model_params > 0 else 0\n",
        "\n",
        "total_model_layers = len(model_dict)\n",
        "percentage_layers_transferred = (num_transferred / total_model_layers) * 100\n",
        "\n",
        "print(f\"--- Weight Transfer Summary ---\")\n",
        "print(f\"Total Parameters in Swin-T (Pretrained): {total_pretrained_params:,}\")\n",
        "print(f\"Total Parameters in Swin UNETR (Target):  {total_model_params:,}\")\n",
        "print(f\"Parameters Transferred: {transferred_params:,}\")\n",
        "print(\"-\" * 35)\n",
        "print(f\"Total Layers in Swin UNETR: {total_model_layers}\")\n",
        "print(f\"Layers Updated: {num_transferred}\")\n",
        "print(f\"Percentage of Layers Updated: {percentage_layers_transferred:.2f}%\")\n",
        "print(f\"Percentage of Parameters Updated: {percentage_params_transferred:.2f}%\")"
      ],
      "metadata": {
        "colab": {
          "base_uri": "https://localhost:8080/"
        },
        "id": "hJ4odsJHdH8t",
        "outputId": "2d5585b7-1e87-40e0-a4e2-1bf9d7ddbebf"
      },
      "execution_count": null,
      "outputs": [
        {
          "output_type": "stream",
          "name": "stdout",
          "text": [
            "--- Pretrained Swin-T Layer Names and Shapes (Sample) ---\n",
            "patch_embed.proj.weight                                                Shape: torch.Size([96, 3, 4, 4])\n",
            "patch_embed.proj.bias                                                  Shape: torch.Size([96])\n",
            "patch_embed.norm.weight                                                Shape: torch.Size([96])\n",
            "patch_embed.norm.bias                                                  Shape: torch.Size([96])\n",
            "layers.0.blocks.0.norm1.weight                                         Shape: torch.Size([96])\n",
            "layers.0.blocks.0.norm1.bias                                           Shape: torch.Size([96])\n",
            "layers.0.blocks.0.attn.qkv.weight                                      Shape: torch.Size([288, 96])\n",
            "layers.0.blocks.0.attn.qkv.bias                                        Shape: torch.Size([288])\n",
            "layers.0.blocks.0.attn.proj.weight                                     Shape: torch.Size([96, 96])\n",
            "layers.0.blocks.0.attn.proj.bias                                       Shape: torch.Size([96])\n",
            "layers.0.blocks.0.norm2.weight                                         Shape: torch.Size([96])\n",
            "layers.0.blocks.0.norm2.bias                                           Shape: torch.Size([96])\n",
            "layers.0.blocks.0.mlp.fc1.weight                                       Shape: torch.Size([384, 96])\n",
            "layers.0.blocks.0.mlp.fc1.bias                                         Shape: torch.Size([384])\n",
            "layers.0.blocks.0.mlp.fc2.weight                                       Shape: torch.Size([96, 384])\n",
            "\n",
            "--- Target Swin UNETR Layer Names and Shapes (Sample) ---\n",
            "swinViT.patch_embed.proj.weight                                        Shape: torch.Size([24, 1, 2, 2, 2])\n",
            "swinViT.patch_embed.proj.bias                                          Shape: torch.Size([24])\n",
            "swinViT.layers1.0.blocks.0.norm1.weight                                Shape: torch.Size([24])\n",
            "swinViT.layers1.0.blocks.0.norm1.bias                                  Shape: torch.Size([24])\n",
            "swinViT.layers1.0.blocks.0.attn.relative_position_bias_table           Shape: torch.Size([2197, 3])\n",
            "swinViT.layers1.0.blocks.0.attn.relative_position_index                Shape: torch.Size([343, 343])\n",
            "swinViT.layers1.0.blocks.0.attn.qkv.weight                             Shape: torch.Size([72, 24])\n",
            "swinViT.layers1.0.blocks.0.attn.qkv.bias                               Shape: torch.Size([72])\n",
            "swinViT.layers1.0.blocks.0.attn.proj.weight                            Shape: torch.Size([24, 24])\n",
            "swinViT.layers1.0.blocks.0.attn.proj.bias                              Shape: torch.Size([24])\n",
            "swinViT.layers1.0.blocks.0.norm2.weight                                Shape: torch.Size([24])\n",
            "swinViT.layers1.0.blocks.0.norm2.bias                                  Shape: torch.Size([24])\n",
            "swinViT.layers1.0.blocks.0.mlp.linear1.weight                          Shape: torch.Size([96, 24])\n",
            "swinViT.layers1.0.blocks.0.mlp.linear1.bias                            Shape: torch.Size([96])\n",
            "swinViT.layers1.0.blocks.0.mlp.linear2.weight                          Shape: torch.Size([24, 96])\n",
            "--------------------------------------------------------------------------------\n",
            "--- Starting Weight Transfer with Slicing ---\n",
            "  -> !!! Mismatch after weight inflation. Skipping.\n",
            "Slicing 'swinViT.patch_embed.proj.bias': From torch.Size([96]) to torch.Size([24])\n",
            "  -> Success.\n",
            "Slicing 'swinViT.layers1.0.blocks.0.norm1.weight': From torch.Size([96]) to torch.Size([24])\n",
            "  -> Success.\n",
            "Slicing 'swinViT.layers1.0.blocks.0.norm1.bias': From torch.Size([96]) to torch.Size([24])\n",
            "  -> Success.\n",
            "Slicing 'swinViT.layers1.0.blocks.0.attn.qkv.weight': From torch.Size([288, 96]) to torch.Size([72, 24])\n",
            "  -> Success.\n",
            "Slicing 'swinViT.layers1.0.blocks.0.attn.qkv.bias': From torch.Size([288]) to torch.Size([72])\n",
            "  -> Success.\n",
            "Slicing 'swinViT.layers1.0.blocks.0.attn.proj.weight': From torch.Size([96, 96]) to torch.Size([24, 24])\n",
            "  -> Success.\n",
            "Slicing 'swinViT.layers1.0.blocks.0.attn.proj.bias': From torch.Size([96]) to torch.Size([24])\n",
            "  -> Success.\n",
            "Slicing 'swinViT.layers1.0.blocks.0.norm2.weight': From torch.Size([96]) to torch.Size([24])\n",
            "  -> Success.\n",
            "Slicing 'swinViT.layers1.0.blocks.0.norm2.bias': From torch.Size([96]) to torch.Size([24])\n",
            "  -> Success.\n",
            "Slicing 'swinViT.layers1.0.blocks.0.mlp.linear1.weight': From torch.Size([384, 96]) to torch.Size([96, 24])\n",
            "  -> Success.\n",
            "Slicing 'swinViT.layers1.0.blocks.0.mlp.linear1.bias': From torch.Size([384]) to torch.Size([96])\n",
            "  -> Success.\n",
            "Slicing 'swinViT.layers1.0.blocks.0.mlp.linear2.weight': From torch.Size([96, 384]) to torch.Size([24, 96])\n",
            "  -> Success.\n",
            "Slicing 'swinViT.layers1.0.blocks.0.mlp.linear2.bias': From torch.Size([96]) to torch.Size([24])\n",
            "  -> Success.\n",
            "Slicing 'swinViT.layers1.0.blocks.1.norm1.weight': From torch.Size([96]) to torch.Size([24])\n",
            "  -> Success.\n",
            "Slicing 'swinViT.layers1.0.blocks.1.norm1.bias': From torch.Size([96]) to torch.Size([24])\n",
            "  -> Success.\n",
            "Slicing 'swinViT.layers1.0.blocks.1.attn.qkv.weight': From torch.Size([288, 96]) to torch.Size([72, 24])\n",
            "  -> Success.\n",
            "Slicing 'swinViT.layers1.0.blocks.1.attn.qkv.bias': From torch.Size([288]) to torch.Size([72])\n",
            "  -> Success.\n",
            "Slicing 'swinViT.layers1.0.blocks.1.attn.proj.weight': From torch.Size([96, 96]) to torch.Size([24, 24])\n",
            "  -> Success.\n",
            "Slicing 'swinViT.layers1.0.blocks.1.attn.proj.bias': From torch.Size([96]) to torch.Size([24])\n",
            "  -> Success.\n",
            "Slicing 'swinViT.layers1.0.blocks.1.norm2.weight': From torch.Size([96]) to torch.Size([24])\n",
            "  -> Success.\n",
            "Slicing 'swinViT.layers1.0.blocks.1.norm2.bias': From torch.Size([96]) to torch.Size([24])\n",
            "  -> Success.\n",
            "Slicing 'swinViT.layers1.0.blocks.1.mlp.linear1.weight': From torch.Size([384, 96]) to torch.Size([96, 24])\n",
            "  -> Success.\n",
            "Slicing 'swinViT.layers1.0.blocks.1.mlp.linear1.bias': From torch.Size([384]) to torch.Size([96])\n",
            "  -> Success.\n",
            "Slicing 'swinViT.layers1.0.blocks.1.mlp.linear2.weight': From torch.Size([96, 384]) to torch.Size([24, 96])\n",
            "  -> Success.\n",
            "Slicing 'swinViT.layers1.0.blocks.1.mlp.linear2.bias': From torch.Size([96]) to torch.Size([24])\n",
            "  -> Success.\n",
            "Slicing 'swinViT.layers1.0.downsample.norm.weight': From torch.Size([384]) to torch.Size([192])\n",
            "  -> Success.\n",
            "Slicing 'swinViT.layers1.0.downsample.norm.bias': From torch.Size([384]) to torch.Size([192])\n",
            "  -> Success.\n",
            "Slicing 'swinViT.layers2.0.blocks.0.norm1.weight': From torch.Size([192]) to torch.Size([48])\n",
            "  -> Success.\n",
            "Slicing 'swinViT.layers2.0.blocks.0.norm1.bias': From torch.Size([192]) to torch.Size([48])\n",
            "  -> Success.\n",
            "Slicing 'swinViT.layers2.0.blocks.0.attn.qkv.weight': From torch.Size([576, 192]) to torch.Size([144, 48])\n",
            "  -> Success.\n",
            "Slicing 'swinViT.layers2.0.blocks.0.attn.qkv.bias': From torch.Size([576]) to torch.Size([144])\n",
            "  -> Success.\n",
            "Slicing 'swinViT.layers2.0.blocks.0.attn.proj.weight': From torch.Size([192, 192]) to torch.Size([48, 48])\n",
            "  -> Success.\n",
            "Slicing 'swinViT.layers2.0.blocks.0.attn.proj.bias': From torch.Size([192]) to torch.Size([48])\n",
            "  -> Success.\n",
            "Slicing 'swinViT.layers2.0.blocks.0.norm2.weight': From torch.Size([192]) to torch.Size([48])\n",
            "  -> Success.\n",
            "Slicing 'swinViT.layers2.0.blocks.0.norm2.bias': From torch.Size([192]) to torch.Size([48])\n",
            "  -> Success.\n",
            "Slicing 'swinViT.layers2.0.blocks.0.mlp.linear1.weight': From torch.Size([768, 192]) to torch.Size([192, 48])\n",
            "  -> Success.\n",
            "Slicing 'swinViT.layers2.0.blocks.0.mlp.linear1.bias': From torch.Size([768]) to torch.Size([192])\n",
            "  -> Success.\n",
            "Slicing 'swinViT.layers2.0.blocks.0.mlp.linear2.weight': From torch.Size([192, 768]) to torch.Size([48, 192])\n",
            "  -> Success.\n",
            "Slicing 'swinViT.layers2.0.blocks.0.mlp.linear2.bias': From torch.Size([192]) to torch.Size([48])\n",
            "  -> Success.\n",
            "Slicing 'swinViT.layers2.0.blocks.1.norm1.weight': From torch.Size([192]) to torch.Size([48])\n",
            "  -> Success.\n",
            "Slicing 'swinViT.layers2.0.blocks.1.norm1.bias': From torch.Size([192]) to torch.Size([48])\n",
            "  -> Success.\n",
            "Slicing 'swinViT.layers2.0.blocks.1.attn.qkv.weight': From torch.Size([576, 192]) to torch.Size([144, 48])\n",
            "  -> Success.\n",
            "Slicing 'swinViT.layers2.0.blocks.1.attn.qkv.bias': From torch.Size([576]) to torch.Size([144])\n",
            "  -> Success.\n",
            "Slicing 'swinViT.layers2.0.blocks.1.attn.proj.weight': From torch.Size([192, 192]) to torch.Size([48, 48])\n",
            "  -> Success.\n",
            "Slicing 'swinViT.layers2.0.blocks.1.attn.proj.bias': From torch.Size([192]) to torch.Size([48])\n",
            "  -> Success.\n",
            "Slicing 'swinViT.layers2.0.blocks.1.norm2.weight': From torch.Size([192]) to torch.Size([48])\n",
            "  -> Success.\n",
            "Slicing 'swinViT.layers2.0.blocks.1.norm2.bias': From torch.Size([192]) to torch.Size([48])\n",
            "  -> Success.\n",
            "Slicing 'swinViT.layers2.0.blocks.1.mlp.linear1.weight': From torch.Size([768, 192]) to torch.Size([192, 48])\n",
            "  -> Success.\n",
            "Slicing 'swinViT.layers2.0.blocks.1.mlp.linear1.bias': From torch.Size([768]) to torch.Size([192])\n",
            "  -> Success.\n",
            "Slicing 'swinViT.layers2.0.blocks.1.mlp.linear2.weight': From torch.Size([192, 768]) to torch.Size([48, 192])\n",
            "  -> Success.\n",
            "Slicing 'swinViT.layers2.0.blocks.1.mlp.linear2.bias': From torch.Size([192]) to torch.Size([48])\n",
            "  -> Success.\n",
            "Slicing 'swinViT.layers2.0.downsample.norm.weight': From torch.Size([768]) to torch.Size([384])\n",
            "  -> Success.\n",
            "Slicing 'swinViT.layers2.0.downsample.norm.bias': From torch.Size([768]) to torch.Size([384])\n",
            "  -> Success.\n",
            "Slicing 'swinViT.layers3.0.blocks.0.norm1.weight': From torch.Size([384]) to torch.Size([96])\n",
            "  -> Success.\n",
            "Slicing 'swinViT.layers3.0.blocks.0.norm1.bias': From torch.Size([384]) to torch.Size([96])\n",
            "  -> Success.\n",
            "Slicing 'swinViT.layers3.0.blocks.0.attn.qkv.weight': From torch.Size([1152, 384]) to torch.Size([288, 96])\n",
            "  -> Success.\n",
            "Slicing 'swinViT.layers3.0.blocks.0.attn.qkv.bias': From torch.Size([1152]) to torch.Size([288])\n",
            "  -> Success.\n",
            "Slicing 'swinViT.layers3.0.blocks.0.attn.proj.weight': From torch.Size([384, 384]) to torch.Size([96, 96])\n",
            "  -> Success.\n",
            "Slicing 'swinViT.layers3.0.blocks.0.attn.proj.bias': From torch.Size([384]) to torch.Size([96])\n",
            "  -> Success.\n",
            "Slicing 'swinViT.layers3.0.blocks.0.norm2.weight': From torch.Size([384]) to torch.Size([96])\n",
            "  -> Success.\n",
            "Slicing 'swinViT.layers3.0.blocks.0.norm2.bias': From torch.Size([384]) to torch.Size([96])\n",
            "  -> Success.\n",
            "Slicing 'swinViT.layers3.0.blocks.0.mlp.linear1.weight': From torch.Size([1536, 384]) to torch.Size([384, 96])\n",
            "  -> Success.\n",
            "Slicing 'swinViT.layers3.0.blocks.0.mlp.linear1.bias': From torch.Size([1536]) to torch.Size([384])\n",
            "  -> Success.\n",
            "Slicing 'swinViT.layers3.0.blocks.0.mlp.linear2.weight': From torch.Size([384, 1536]) to torch.Size([96, 384])\n",
            "  -> Success.\n",
            "Slicing 'swinViT.layers3.0.blocks.0.mlp.linear2.bias': From torch.Size([384]) to torch.Size([96])\n",
            "  -> Success.\n",
            "Slicing 'swinViT.layers3.0.blocks.1.norm1.weight': From torch.Size([384]) to torch.Size([96])\n",
            "  -> Success.\n",
            "Slicing 'swinViT.layers3.0.blocks.1.norm1.bias': From torch.Size([384]) to torch.Size([96])\n",
            "  -> Success.\n",
            "Slicing 'swinViT.layers3.0.blocks.1.attn.qkv.weight': From torch.Size([1152, 384]) to torch.Size([288, 96])\n",
            "  -> Success.\n",
            "Slicing 'swinViT.layers3.0.blocks.1.attn.qkv.bias': From torch.Size([1152]) to torch.Size([288])\n",
            "  -> Success.\n",
            "Slicing 'swinViT.layers3.0.blocks.1.attn.proj.weight': From torch.Size([384, 384]) to torch.Size([96, 96])\n",
            "  -> Success.\n",
            "Slicing 'swinViT.layers3.0.blocks.1.attn.proj.bias': From torch.Size([384]) to torch.Size([96])\n",
            "  -> Success.\n",
            "Slicing 'swinViT.layers3.0.blocks.1.norm2.weight': From torch.Size([384]) to torch.Size([96])\n",
            "  -> Success.\n",
            "Slicing 'swinViT.layers3.0.blocks.1.norm2.bias': From torch.Size([384]) to torch.Size([96])\n",
            "  -> Success.\n",
            "Slicing 'swinViT.layers3.0.blocks.1.mlp.linear1.weight': From torch.Size([1536, 384]) to torch.Size([384, 96])\n",
            "  -> Success.\n",
            "Slicing 'swinViT.layers3.0.blocks.1.mlp.linear1.bias': From torch.Size([1536]) to torch.Size([384])\n",
            "  -> Success.\n",
            "Slicing 'swinViT.layers3.0.blocks.1.mlp.linear2.weight': From torch.Size([384, 1536]) to torch.Size([96, 384])\n",
            "  -> Success.\n",
            "Slicing 'swinViT.layers3.0.blocks.1.mlp.linear2.bias': From torch.Size([384]) to torch.Size([96])\n",
            "  -> Success.\n",
            "Slicing 'swinViT.layers3.0.downsample.norm.weight': From torch.Size([1536]) to torch.Size([768])\n",
            "  -> Success.\n",
            "Slicing 'swinViT.layers3.0.downsample.norm.bias': From torch.Size([1536]) to torch.Size([768])\n",
            "  -> Success.\n",
            "Slicing 'swinViT.layers4.0.blocks.0.norm1.weight': From torch.Size([768]) to torch.Size([192])\n",
            "  -> Success.\n",
            "Slicing 'swinViT.layers4.0.blocks.0.norm1.bias': From torch.Size([768]) to torch.Size([192])\n",
            "  -> Success.\n",
            "Slicing 'swinViT.layers4.0.blocks.0.attn.qkv.weight': From torch.Size([2304, 768]) to torch.Size([576, 192])\n",
            "  -> Success.\n",
            "Slicing 'swinViT.layers4.0.blocks.0.attn.qkv.bias': From torch.Size([2304]) to torch.Size([576])\n",
            "  -> Success.\n",
            "Slicing 'swinViT.layers4.0.blocks.0.attn.proj.weight': From torch.Size([768, 768]) to torch.Size([192, 192])\n",
            "  -> Success.\n",
            "Slicing 'swinViT.layers4.0.blocks.0.attn.proj.bias': From torch.Size([768]) to torch.Size([192])\n",
            "  -> Success.\n",
            "Slicing 'swinViT.layers4.0.blocks.0.norm2.weight': From torch.Size([768]) to torch.Size([192])\n",
            "  -> Success.\n",
            "Slicing 'swinViT.layers4.0.blocks.0.norm2.bias': From torch.Size([768]) to torch.Size([192])\n",
            "  -> Success.\n",
            "Slicing 'swinViT.layers4.0.blocks.0.mlp.linear1.weight': From torch.Size([3072, 768]) to torch.Size([768, 192])\n",
            "  -> Success.\n",
            "Slicing 'swinViT.layers4.0.blocks.0.mlp.linear1.bias': From torch.Size([3072]) to torch.Size([768])\n",
            "  -> Success.\n",
            "Slicing 'swinViT.layers4.0.blocks.0.mlp.linear2.weight': From torch.Size([768, 3072]) to torch.Size([192, 768])\n",
            "  -> Success.\n",
            "Slicing 'swinViT.layers4.0.blocks.0.mlp.linear2.bias': From torch.Size([768]) to torch.Size([192])\n",
            "  -> Success.\n",
            "Slicing 'swinViT.layers4.0.blocks.1.norm1.weight': From torch.Size([768]) to torch.Size([192])\n",
            "  -> Success.\n",
            "Slicing 'swinViT.layers4.0.blocks.1.norm1.bias': From torch.Size([768]) to torch.Size([192])\n",
            "  -> Success.\n",
            "Slicing 'swinViT.layers4.0.blocks.1.attn.qkv.weight': From torch.Size([2304, 768]) to torch.Size([576, 192])\n",
            "  -> Success.\n",
            "Slicing 'swinViT.layers4.0.blocks.1.attn.qkv.bias': From torch.Size([2304]) to torch.Size([576])\n",
            "  -> Success.\n",
            "Slicing 'swinViT.layers4.0.blocks.1.attn.proj.weight': From torch.Size([768, 768]) to torch.Size([192, 192])\n",
            "  -> Success.\n",
            "Slicing 'swinViT.layers4.0.blocks.1.attn.proj.bias': From torch.Size([768]) to torch.Size([192])\n",
            "  -> Success.\n",
            "Slicing 'swinViT.layers4.0.blocks.1.norm2.weight': From torch.Size([768]) to torch.Size([192])\n",
            "  -> Success.\n",
            "Slicing 'swinViT.layers4.0.blocks.1.norm2.bias': From torch.Size([768]) to torch.Size([192])\n",
            "  -> Success.\n",
            "Slicing 'swinViT.layers4.0.blocks.1.mlp.linear1.weight': From torch.Size([3072, 768]) to torch.Size([768, 192])\n",
            "  -> Success.\n",
            "Slicing 'swinViT.layers4.0.blocks.1.mlp.linear1.bias': From torch.Size([3072]) to torch.Size([768])\n",
            "  -> Success.\n",
            "Slicing 'swinViT.layers4.0.blocks.1.mlp.linear2.weight': From torch.Size([768, 3072]) to torch.Size([192, 768])\n",
            "  -> Success.\n",
            "Slicing 'swinViT.layers4.0.blocks.1.mlp.linear2.bias': From torch.Size([768]) to torch.Size([192])\n",
            "  -> Success.\n",
            "--- Finished Weight Transfer ---\n",
            "\n",
            "Successfully transferred and/or sliced 103 / 159 layers.\n",
            "--- Weight Transfer Summary ---\n",
            "Total Parameters in Swin-T (Pretrained): 28,538,058\n",
            "Total Parameters in Swin UNETR (Target):  15,703,054\n",
            "Parameters Transferred: 1,187,112\n",
            "-----------------------------------\n",
            "Total Layers in Swin UNETR: 159\n",
            "Layers Updated: 103\n",
            "Percentage of Layers Updated: 64.78%\n",
            "Percentage of Parameters Updated: 7.56%\n"
          ]
        }
      ]
    },
    {
      "cell_type": "code",
      "source": [
        "from monai.metrics import HausdorffDistanceMetric, SurfaceDistanceMetric\n",
        "\n",
        "loss_function = DiceCELoss(to_onehot_y=True, softmax=True, lambda_dice=0.7, lambda_ce=0.3, include_background=True)\n",
        "\n",
        "trainable_params = [param for param in model.parameters() if param.requires_grad]\n",
        "optimizer = torch.optim.AdamW(trainable_params, lr=1e-3)\n",
        "#scheduler = torch.optim.lr_scheduler.MultiStepLR(optimizer, milestones=[10, 50, 70], gamma=0.1)\n",
        "\n",
        "dice_metric = DiceMetric(include_background=True, reduction=\"mean\", get_not_nans=False)\n",
        "\n",
        "hd95_metric = HausdorffDistanceMetric(include_background=False, percentile=95.0, reduction=\"mean\")\n",
        "asd_metric = SurfaceDistanceMetric(include_background=False, reduction=\"mean\")\n",
        "\n",
        "post_trans = Compose([\n",
        "    Activations(softmax=True),\n",
        "    AsDiscrete(argmax=True, to_onehot=4)\n",
        "])\n",
        "\n",
        "to_onehot = AsDiscrete(to_onehot=4)"
      ],
      "metadata": {
        "id": "4mBGrl0e1qo-"
      },
      "execution_count": null,
      "outputs": []
    },
    {
      "cell_type": "code",
      "source": [
        "def save_best_model(model, best_model_path):\n",
        "    torch.save(model.state_dict(), best_model_path)\n"
      ],
      "metadata": {
        "id": "O3Rc0t1-ntYP"
      },
      "execution_count": null,
      "outputs": []
    },
    {
      "cell_type": "code",
      "source": [],
      "metadata": {
        "id": "rxafimB-1pJd"
      },
      "execution_count": null,
      "outputs": []
    },
    {
      "cell_type": "code",
      "source": [
        "def load_model(model, path):\n",
        "    model.load_state_dict(torch.load(path))\n",
        "    model.eval()\n",
        "    return model"
      ],
      "metadata": {
        "id": "nIULlJtEzMJg"
      },
      "execution_count": null,
      "outputs": []
    },
    {
      "cell_type": "code",
      "source": [
        "def save_checkpoint(epoch, model, optimizer, loss, dice_mean, epoch_list, val_dice_list, hd95_list, asd_list, train_loss_list, best_metric, best_metric_epoch, checkpoint_path):\n",
        "    checkpoint = {\n",
        "    'epoch': epoch,\n",
        "    'model_state_dict': model.state_dict(),\n",
        "    'optimizer_state_dict': optimizer.state_dict(),\n",
        "    'loss': loss,\n",
        "    'dice_mean': dice_mean,\n",
        "    'epoch_list' : epoch_list,\n",
        "    'val_dice_list' : val_dice_list,\n",
        "    'train_loss_list' : train_loss_list,\n",
        "    'hd95_list': hd95_list,\n",
        "    'asd_list': asd_list,\n",
        "    'best_metric': best_metric,\n",
        "    'best_metric_epoch': best_metric_epoch,\n",
        "    }\n",
        "    torch.save(checkpoint, checkpoint_path)\n"
      ],
      "metadata": {
        "id": "UsYhbGd9zNp3"
      },
      "execution_count": null,
      "outputs": []
    },
    {
      "cell_type": "code",
      "source": [
        "def load_checkpoint(path):\n",
        "    checkpoint = torch.load(path, weights_only=False)\n",
        "    model.load_state_dict(checkpoint['model_state_dict'])\n",
        "    optimizer.load_state_dict(checkpoint['optimizer_state_dict'])\n",
        "    epoch = checkpoint['epoch']\n",
        "    loss = checkpoint['loss']\n",
        "    dice_mean = checkpoint['dice_mean']\n",
        "    epoch_list = checkpoint['epoch_list']\n",
        "    val_dice_list = checkpoint['val_dice_list']\n",
        "    hd95_list = checkpoint['hd95_list']\n",
        "    asd_list = checkpoint['asd_list']\n",
        "    train_loss_list = checkpoint['train_loss_list']\n",
        "    best_metric = checkpoint['best_metric']\n",
        "    best_metric_epoch = checkpoint['best_metric_epoch']\n",
        "    return epoch, model, optimizer, loss, dice_mean, epoch_list, val_dice_list, hd95_list, asd_list, train_loss_list, best_metric, best_metric_epoch"
      ],
      "metadata": {
        "id": "r9eWG3vmzP3L"
      },
      "execution_count": null,
      "outputs": []
    },
    {
      "cell_type": "code",
      "source": [
        "epoch, model, optimizer, loss, dice_mean, epoch_list, val_dice_list, hd95_list, asd_list, train_loss_list, best_metric, best_metric_epoch = load_checkpoint('/content/Train_Data_INFO_Biplav/Cross_Validation/Fewshot_4/Fold_Checkpoint.pth')"
      ],
      "metadata": {
        "id": "MV8ke0Nb3BO0",
        "colab": {
          "base_uri": "https://localhost:8080/",
          "height": 304
        },
        "outputId": "353ac705-6aa2-4ca2-c6d3-b4f700a326d1"
      },
      "execution_count": null,
      "outputs": [
        {
          "output_type": "error",
          "ename": "FileNotFoundError",
          "evalue": "[Errno 2] No such file or directory: '/content/Train_Data_INFO_Biplav/Cross_Validation/Fewshot_4/Fold_Checkpoint.pth'",
          "traceback": [
            "\u001b[0;31m---------------------------------------------------------------------------\u001b[0m",
            "\u001b[0;31mFileNotFoundError\u001b[0m                         Traceback (most recent call last)",
            "\u001b[0;32m/tmp/ipython-input-34-502073859.py\u001b[0m in \u001b[0;36m<cell line: 0>\u001b[0;34m()\u001b[0m\n\u001b[0;32m----> 1\u001b[0;31m \u001b[0mepoch\u001b[0m\u001b[0;34m,\u001b[0m \u001b[0mmodel\u001b[0m\u001b[0;34m,\u001b[0m \u001b[0moptimizer\u001b[0m\u001b[0;34m,\u001b[0m \u001b[0mloss\u001b[0m\u001b[0;34m,\u001b[0m \u001b[0mdice_mean\u001b[0m\u001b[0;34m,\u001b[0m \u001b[0mepoch_list\u001b[0m\u001b[0;34m,\u001b[0m \u001b[0mval_dice_list\u001b[0m\u001b[0;34m,\u001b[0m \u001b[0mhd95_list\u001b[0m\u001b[0;34m,\u001b[0m \u001b[0masd_list\u001b[0m\u001b[0;34m,\u001b[0m \u001b[0mtrain_loss_list\u001b[0m\u001b[0;34m,\u001b[0m \u001b[0mbest_metric\u001b[0m\u001b[0;34m,\u001b[0m \u001b[0mbest_metric_epoch\u001b[0m \u001b[0;34m=\u001b[0m \u001b[0mload_checkpoint\u001b[0m\u001b[0;34m(\u001b[0m\u001b[0;34m'/content/Train_Data_INFO_Biplav/Cross_Validation/Fewshot_4/Fold_Checkpoint.pth'\u001b[0m\u001b[0;34m)\u001b[0m\u001b[0;34m\u001b[0m\u001b[0;34m\u001b[0m\u001b[0m\n\u001b[0m",
            "\u001b[0;32m/tmp/ipython-input-26-1897563205.py\u001b[0m in \u001b[0;36mload_checkpoint\u001b[0;34m(path)\u001b[0m\n\u001b[1;32m      1\u001b[0m \u001b[0;32mdef\u001b[0m \u001b[0mload_checkpoint\u001b[0m\u001b[0;34m(\u001b[0m\u001b[0mpath\u001b[0m\u001b[0;34m)\u001b[0m\u001b[0;34m:\u001b[0m\u001b[0;34m\u001b[0m\u001b[0;34m\u001b[0m\u001b[0m\n\u001b[0;32m----> 2\u001b[0;31m     \u001b[0mcheckpoint\u001b[0m \u001b[0;34m=\u001b[0m \u001b[0mtorch\u001b[0m\u001b[0;34m.\u001b[0m\u001b[0mload\u001b[0m\u001b[0;34m(\u001b[0m\u001b[0mpath\u001b[0m\u001b[0;34m,\u001b[0m \u001b[0mweights_only\u001b[0m\u001b[0;34m=\u001b[0m\u001b[0;32mFalse\u001b[0m\u001b[0;34m)\u001b[0m\u001b[0;34m\u001b[0m\u001b[0;34m\u001b[0m\u001b[0m\n\u001b[0m\u001b[1;32m      3\u001b[0m     \u001b[0mmodel\u001b[0m\u001b[0;34m.\u001b[0m\u001b[0mload_state_dict\u001b[0m\u001b[0;34m(\u001b[0m\u001b[0mcheckpoint\u001b[0m\u001b[0;34m[\u001b[0m\u001b[0;34m'model_state_dict'\u001b[0m\u001b[0;34m]\u001b[0m\u001b[0;34m)\u001b[0m\u001b[0;34m\u001b[0m\u001b[0;34m\u001b[0m\u001b[0m\n\u001b[1;32m      4\u001b[0m     \u001b[0moptimizer\u001b[0m\u001b[0;34m.\u001b[0m\u001b[0mload_state_dict\u001b[0m\u001b[0;34m(\u001b[0m\u001b[0mcheckpoint\u001b[0m\u001b[0;34m[\u001b[0m\u001b[0;34m'optimizer_state_dict'\u001b[0m\u001b[0;34m]\u001b[0m\u001b[0;34m)\u001b[0m\u001b[0;34m\u001b[0m\u001b[0;34m\u001b[0m\u001b[0m\n\u001b[1;32m      5\u001b[0m     \u001b[0mepoch\u001b[0m \u001b[0;34m=\u001b[0m \u001b[0mcheckpoint\u001b[0m\u001b[0;34m[\u001b[0m\u001b[0;34m'epoch'\u001b[0m\u001b[0;34m]\u001b[0m\u001b[0;34m\u001b[0m\u001b[0;34m\u001b[0m\u001b[0m\n",
            "\u001b[0;32m/usr/local/lib/python3.11/dist-packages/torch/serialization.py\u001b[0m in \u001b[0;36mload\u001b[0;34m(f, map_location, pickle_module, weights_only, mmap, **pickle_load_args)\u001b[0m\n\u001b[1;32m   1423\u001b[0m         \u001b[0mpickle_load_args\u001b[0m\u001b[0;34m[\u001b[0m\u001b[0;34m\"encoding\"\u001b[0m\u001b[0;34m]\u001b[0m \u001b[0;34m=\u001b[0m \u001b[0;34m\"utf-8\"\u001b[0m\u001b[0;34m\u001b[0m\u001b[0;34m\u001b[0m\u001b[0m\n\u001b[1;32m   1424\u001b[0m \u001b[0;34m\u001b[0m\u001b[0m\n\u001b[0;32m-> 1425\u001b[0;31m     \u001b[0;32mwith\u001b[0m \u001b[0m_open_file_like\u001b[0m\u001b[0;34m(\u001b[0m\u001b[0mf\u001b[0m\u001b[0;34m,\u001b[0m \u001b[0;34m\"rb\"\u001b[0m\u001b[0;34m)\u001b[0m \u001b[0;32mas\u001b[0m \u001b[0mopened_file\u001b[0m\u001b[0;34m:\u001b[0m\u001b[0;34m\u001b[0m\u001b[0;34m\u001b[0m\u001b[0m\n\u001b[0m\u001b[1;32m   1426\u001b[0m         \u001b[0;32mif\u001b[0m \u001b[0m_is_zipfile\u001b[0m\u001b[0;34m(\u001b[0m\u001b[0mopened_file\u001b[0m\u001b[0;34m)\u001b[0m\u001b[0;34m:\u001b[0m\u001b[0;34m\u001b[0m\u001b[0;34m\u001b[0m\u001b[0m\n\u001b[1;32m   1427\u001b[0m             \u001b[0;31m# The zipfile reader is going to advance the current file position.\u001b[0m\u001b[0;34m\u001b[0m\u001b[0;34m\u001b[0m\u001b[0m\n",
            "\u001b[0;32m/usr/local/lib/python3.11/dist-packages/torch/serialization.py\u001b[0m in \u001b[0;36m_open_file_like\u001b[0;34m(name_or_buffer, mode)\u001b[0m\n\u001b[1;32m    749\u001b[0m \u001b[0;32mdef\u001b[0m \u001b[0m_open_file_like\u001b[0m\u001b[0;34m(\u001b[0m\u001b[0mname_or_buffer\u001b[0m\u001b[0;34m,\u001b[0m \u001b[0mmode\u001b[0m\u001b[0;34m)\u001b[0m\u001b[0;34m:\u001b[0m\u001b[0;34m\u001b[0m\u001b[0;34m\u001b[0m\u001b[0m\n\u001b[1;32m    750\u001b[0m     \u001b[0;32mif\u001b[0m \u001b[0m_is_path\u001b[0m\u001b[0;34m(\u001b[0m\u001b[0mname_or_buffer\u001b[0m\u001b[0;34m)\u001b[0m\u001b[0;34m:\u001b[0m\u001b[0;34m\u001b[0m\u001b[0;34m\u001b[0m\u001b[0m\n\u001b[0;32m--> 751\u001b[0;31m         \u001b[0;32mreturn\u001b[0m \u001b[0m_open_file\u001b[0m\u001b[0;34m(\u001b[0m\u001b[0mname_or_buffer\u001b[0m\u001b[0;34m,\u001b[0m \u001b[0mmode\u001b[0m\u001b[0;34m)\u001b[0m\u001b[0;34m\u001b[0m\u001b[0;34m\u001b[0m\u001b[0m\n\u001b[0m\u001b[1;32m    752\u001b[0m     \u001b[0;32melse\u001b[0m\u001b[0;34m:\u001b[0m\u001b[0;34m\u001b[0m\u001b[0;34m\u001b[0m\u001b[0m\n\u001b[1;32m    753\u001b[0m         \u001b[0;32mif\u001b[0m \u001b[0;34m\"w\"\u001b[0m \u001b[0;32min\u001b[0m \u001b[0mmode\u001b[0m\u001b[0;34m:\u001b[0m\u001b[0;34m\u001b[0m\u001b[0;34m\u001b[0m\u001b[0m\n",
            "\u001b[0;32m/usr/local/lib/python3.11/dist-packages/torch/serialization.py\u001b[0m in \u001b[0;36m__init__\u001b[0;34m(self, name, mode)\u001b[0m\n\u001b[1;32m    730\u001b[0m \u001b[0;32mclass\u001b[0m \u001b[0m_open_file\u001b[0m\u001b[0;34m(\u001b[0m\u001b[0m_opener\u001b[0m\u001b[0;34m)\u001b[0m\u001b[0;34m:\u001b[0m\u001b[0;34m\u001b[0m\u001b[0;34m\u001b[0m\u001b[0m\n\u001b[1;32m    731\u001b[0m     \u001b[0;32mdef\u001b[0m \u001b[0m__init__\u001b[0m\u001b[0;34m(\u001b[0m\u001b[0mself\u001b[0m\u001b[0;34m,\u001b[0m \u001b[0mname\u001b[0m\u001b[0;34m,\u001b[0m \u001b[0mmode\u001b[0m\u001b[0;34m)\u001b[0m\u001b[0;34m:\u001b[0m\u001b[0;34m\u001b[0m\u001b[0;34m\u001b[0m\u001b[0m\n\u001b[0;32m--> 732\u001b[0;31m         \u001b[0msuper\u001b[0m\u001b[0;34m(\u001b[0m\u001b[0;34m)\u001b[0m\u001b[0;34m.\u001b[0m\u001b[0m__init__\u001b[0m\u001b[0;34m(\u001b[0m\u001b[0mopen\u001b[0m\u001b[0;34m(\u001b[0m\u001b[0mname\u001b[0m\u001b[0;34m,\u001b[0m \u001b[0mmode\u001b[0m\u001b[0;34m)\u001b[0m\u001b[0;34m)\u001b[0m\u001b[0;34m\u001b[0m\u001b[0;34m\u001b[0m\u001b[0m\n\u001b[0m\u001b[1;32m    733\u001b[0m \u001b[0;34m\u001b[0m\u001b[0m\n\u001b[1;32m    734\u001b[0m     \u001b[0;32mdef\u001b[0m \u001b[0m__exit__\u001b[0m\u001b[0;34m(\u001b[0m\u001b[0mself\u001b[0m\u001b[0;34m,\u001b[0m \u001b[0;34m*\u001b[0m\u001b[0margs\u001b[0m\u001b[0;34m)\u001b[0m\u001b[0;34m:\u001b[0m\u001b[0;34m\u001b[0m\u001b[0;34m\u001b[0m\u001b[0m\n",
            "\u001b[0;31mFileNotFoundError\u001b[0m: [Errno 2] No such file or directory: '/content/Train_Data_INFO_Biplav/Cross_Validation/Fewshot_4/Fold_Checkpoint.pth'"
          ]
        }
      ]
    },
    {
      "cell_type": "code",
      "source": [
        "max_epochs = 200\n",
        "val_interval = 10"
      ],
      "metadata": {
        "id": "KDhOUuNL1xKH"
      },
      "execution_count": null,
      "outputs": []
    },
    {
      "cell_type": "code",
      "source": [
        "\n",
        "train_loss_list = []\n",
        "val_dice_list   = []\n",
        "epoch_list      = []\n",
        "hd95_list = []\n",
        "asd_list  = []\n",
        "epoch=0\n",
        "dice_mean = -1\n",
        "best_metric = -1\n",
        "best_metric_epoch = -1\n"
      ],
      "metadata": {
        "id": "U3MZRNQA162W"
      },
      "execution_count": null,
      "outputs": []
    },
    {
      "cell_type": "code",
      "source": [
        "from tqdm import tqdm"
      ],
      "metadata": {
        "id": "-Qpi6eYq18xw"
      },
      "execution_count": null,
      "outputs": []
    },
    {
      "cell_type": "code",
      "source": [
        "start_epoch=epoch"
      ],
      "metadata": {
        "id": "j6LGofiu2Ax9"
      },
      "execution_count": null,
      "outputs": []
    },
    {
      "cell_type": "code",
      "source": [
        "import torch.nn.functional as F"
      ],
      "metadata": {
        "id": "IHkzeaBn2E0h"
      },
      "execution_count": null,
      "outputs": []
    },
    {
      "cell_type": "code",
      "source": [
        "import os\n",
        "from pathlib import Path  # More modern path handling\n",
        "\n",
        "# Define paths using Path for better cross-platform compatibility\n",
        "checkpoint_path = Path('Train_Data_INFO_Biplav/Cross_Validation/Fewshot_12/Fold4_Checkpoint.pth')\n",
        "best_model_path = Path('Train_Data_INFO_Biplav/Cross_Validation/Fewshot_12/Fold4_best_dice_model.pth')\n",
        "\n",
        "# Create parent directories if they don't exist\n",
        "checkpoint_path.parent.mkdir(parents=True, exist_ok=True)\n",
        "best_model_path.parent.mkdir(parents=True, exist_ok=True)\n",
        "\n",
        "# You can then use str() when you need string paths for PyTorch saving:\n",
        "torch.save(model.state_dict(), str(best_model_path))"
      ],
      "metadata": {
        "id": "v4AR6VMU2abr"
      },
      "execution_count": null,
      "outputs": []
    },
    {
      "cell_type": "code",
      "source": [
        "#Training Loop\n",
        "for epoch in range( max_epochs):\n",
        "    print(f\"Epoch [{epoch+1}/{max_epochs}] {datetime.datetime.now()}\")\n",
        "    model.train()\n",
        "    epoch_loss = 0\n",
        "\n",
        "    for batch_data in tqdm(train_loader, leave=False):\n",
        "        inputs, label = batch_data[0].cuda(), batch_data[1].cuda()\n",
        "\n",
        "        optimizer.zero_grad()\n",
        "        outputs = model(inputs)\n",
        "        loss = loss_function(outputs, label)\n",
        "        loss.backward()\n",
        "        optimizer.step()\n",
        "\n",
        "        epoch_loss += loss.item()\n",
        "\n",
        "    epoch_loss /= len(train_loader)\n",
        "    #scheduler.step()\n",
        "    train_loss_list.append(epoch_loss)\n",
        "    print(f\"  Train loss: {epoch_loss:.4f}\")\n",
        "\n",
        "\n",
        "\n",
        "    # Validation Loop\n",
        "    if (epoch + 1) % val_interval == 0:\n",
        "        model.eval()\n",
        "        dice_vals = []\n",
        "        with torch.no_grad():\n",
        "            for val_data in tqdm(val_loader, leave=False):\n",
        "                val_inputs, val_labels = val_data[0].cuda(), val_data[1].cuda()\n",
        "                roi_size = (160, 160, 160)\n",
        "                sw_batch_size = 4\n",
        "                val_outputs = sliding_window_inference(val_inputs, roi_size, sw_batch_size, model, mode=\"gaussian\", overlap=0.5)\n",
        "                val_outputs = [post_trans(i) for i in decollate_batch(val_outputs)]\n",
        "                dice_metric(y_pred=val_outputs, y=val_labels)\n",
        "\n",
        "                val_labels_onehot = [to_onehot(i) for i in decollate_batch(val_labels)]\n",
        "\n",
        "                hd95_metric(y_pred=val_outputs, y=val_labels_onehot)\n",
        "                asd_metric(y_pred=val_outputs, y=val_labels_onehot)\n",
        "\n",
        "\n",
        "        dice_mean = dice_metric.aggregate().item()\n",
        "        dice_metric.reset()\n",
        "\n",
        "\n",
        "        hd95_mean = hd95_metric.aggregate().item()\n",
        "        asd_mean  = asd_metric.aggregate().item()\n",
        "        hd95_metric.reset()\n",
        "        asd_metric.reset()\n",
        "\n",
        "        hd95_list.append(hd95_mean)\n",
        "        asd_list.append(asd_mean)\n",
        "\n",
        "        val_dice_list.append(dice_mean)\n",
        "        epoch_list.append(epoch + 1)\n",
        "        print(f\"  Validation Dice: {dice_mean:.4f}\")\n",
        "        print(f\"  Validation HD95 : {hd95_mean:.4f} mm\")\n",
        "        print(f\"  Validation ASD  : {asd_mean:.4f} mm\")\n",
        "\n",
        "        # Save the best model\n",
        "        if dice_mean > best_metric:\n",
        "            best_metric = dice_mean\n",
        "            best_HD95 = hd95_mean\n",
        "            best_ASD  = asd_mean\n",
        "            best_metric_epoch = epoch + 1\n",
        "            save_best_model(model, best_model_path)\n",
        "            print(\"   Saved new best model\")\n",
        "\n",
        "\n",
        "\n",
        "    save_checkpoint(epoch, model, optimizer, loss, dice_mean, epoch_list, val_dice_list, hd95_list, asd_list, train_loss_list, best_metric, best_metric_epoch, checkpoint_path)\n",
        "print(f\"\\nTraining complete. Best val Dice: {best_metric:.4f}, HD95: {best_HD95}, ASD: {best_ASD} at epoch {best_metric_epoch}\")\n"
      ],
      "metadata": {
        "colab": {
          "base_uri": "https://localhost:8080/"
        },
        "id": "27suUG8P4anR",
        "outputId": "898e7dde-8f4f-497e-a99c-ce2fb2d830d9"
      },
      "execution_count": null,
      "outputs": [
        {
          "output_type": "stream",
          "name": "stdout",
          "text": [
            "Epoch [1/200] 2025-07-29 16:51:50.058533\n"
          ]
        },
        {
          "output_type": "stream",
          "name": "stderr",
          "text": []
        },
        {
          "output_type": "stream",
          "name": "stdout",
          "text": [
            "  Train loss: 1.1318\n",
            "Epoch [2/200] 2025-07-29 16:52:01.025746\n"
          ]
        },
        {
          "output_type": "stream",
          "name": "stderr",
          "text": []
        },
        {
          "output_type": "stream",
          "name": "stdout",
          "text": [
            "  Train loss: 0.9277\n",
            "Epoch [3/200] 2025-07-29 16:52:09.948666\n"
          ]
        },
        {
          "output_type": "stream",
          "name": "stderr",
          "text": []
        },
        {
          "output_type": "stream",
          "name": "stdout",
          "text": [
            "  Train loss: 0.8691\n",
            "Epoch [4/200] 2025-07-29 16:52:18.937731\n"
          ]
        },
        {
          "output_type": "stream",
          "name": "stderr",
          "text": []
        },
        {
          "output_type": "stream",
          "name": "stdout",
          "text": [
            "  Train loss: 0.8364\n",
            "Epoch [5/200] 2025-07-29 16:52:27.914332\n"
          ]
        },
        {
          "output_type": "stream",
          "name": "stderr",
          "text": []
        },
        {
          "output_type": "stream",
          "name": "stdout",
          "text": [
            "  Train loss: 0.8141\n",
            "Epoch [6/200] 2025-07-29 16:52:37.576676\n"
          ]
        },
        {
          "output_type": "stream",
          "name": "stderr",
          "text": []
        },
        {
          "output_type": "stream",
          "name": "stdout",
          "text": [
            "  Train loss: 0.7965\n",
            "Epoch [7/200] 2025-07-29 16:52:46.629816\n"
          ]
        },
        {
          "output_type": "stream",
          "name": "stderr",
          "text": []
        },
        {
          "output_type": "stream",
          "name": "stdout",
          "text": [
            "  Train loss: 0.7810\n",
            "Epoch [8/200] 2025-07-29 16:52:55.747644\n"
          ]
        },
        {
          "output_type": "stream",
          "name": "stderr",
          "text": []
        },
        {
          "output_type": "stream",
          "name": "stdout",
          "text": [
            "  Train loss: 0.7670\n",
            "Epoch [9/200] 2025-07-29 16:53:04.880843\n"
          ]
        },
        {
          "output_type": "stream",
          "name": "stderr",
          "text": []
        },
        {
          "output_type": "stream",
          "name": "stdout",
          "text": [
            "  Train loss: 0.7545\n",
            "Epoch [10/200] 2025-07-29 16:53:14.643078\n"
          ]
        },
        {
          "output_type": "stream",
          "name": "stderr",
          "text": []
        },
        {
          "output_type": "stream",
          "name": "stdout",
          "text": [
            "  Train loss: 0.7431\n"
          ]
        },
        {
          "output_type": "stream",
          "name": "stderr",
          "text": [
            "\r  0%|          | 0/21 [00:00<?, ?it/s]/usr/local/lib/python3.11/dist-packages/monai/metrics/utils.py:335: UserWarning: the prediction of class 0 is all 0, this may result in nan/inf distance.\n",
            "  warnings.warn(\n",
            "/usr/local/lib/python3.11/dist-packages/monai/metrics/utils.py:335: UserWarning: the prediction of class 1 is all 0, this may result in nan/inf distance.\n",
            "  warnings.warn(\n"
          ]
        },
        {
          "output_type": "stream",
          "name": "stdout",
          "text": [
            "  Validation Dice: 0.2496\n",
            "  Validation HD95 : 86.5070 mm\n",
            "  Validation ASD  : inf mm\n",
            "   Saved new best model\n",
            "Epoch [11/200] 2025-07-29 16:54:10.650614\n"
          ]
        },
        {
          "output_type": "stream",
          "name": "stderr",
          "text": []
        },
        {
          "output_type": "stream",
          "name": "stdout",
          "text": [
            "  Train loss: 0.7323\n",
            "Epoch [12/200] 2025-07-29 16:54:19.868790\n"
          ]
        },
        {
          "output_type": "stream",
          "name": "stderr",
          "text": []
        },
        {
          "output_type": "stream",
          "name": "stdout",
          "text": [
            "  Train loss: 0.7224\n",
            "Epoch [13/200] 2025-07-29 16:54:29.103725\n"
          ]
        },
        {
          "output_type": "stream",
          "name": "stderr",
          "text": []
        },
        {
          "output_type": "stream",
          "name": "stdout",
          "text": [
            "  Train loss: 0.7131\n",
            "Epoch [14/200] 2025-07-29 16:54:38.359704\n"
          ]
        },
        {
          "output_type": "stream",
          "name": "stderr",
          "text": []
        },
        {
          "output_type": "stream",
          "name": "stdout",
          "text": [
            "  Train loss: 0.7044\n",
            "Epoch [15/200] 2025-07-29 16:54:47.552942\n"
          ]
        },
        {
          "output_type": "stream",
          "name": "stderr",
          "text": []
        },
        {
          "output_type": "stream",
          "name": "stdout",
          "text": [
            "  Train loss: 0.6958\n",
            "Epoch [16/200] 2025-07-29 16:54:56.720388\n"
          ]
        },
        {
          "output_type": "stream",
          "name": "stderr",
          "text": []
        },
        {
          "output_type": "stream",
          "name": "stdout",
          "text": [
            "  Train loss: 0.6879\n",
            "Epoch [17/200] 2025-07-29 16:55:05.869471\n"
          ]
        },
        {
          "output_type": "stream",
          "name": "stderr",
          "text": []
        },
        {
          "output_type": "stream",
          "name": "stdout",
          "text": [
            "  Train loss: 0.6797\n",
            "Epoch [18/200] 2025-07-29 16:55:14.971054\n"
          ]
        },
        {
          "output_type": "stream",
          "name": "stderr",
          "text": []
        },
        {
          "output_type": "stream",
          "name": "stdout",
          "text": [
            "  Train loss: 0.6711\n",
            "Epoch [19/200] 2025-07-29 16:55:24.073235\n"
          ]
        },
        {
          "output_type": "stream",
          "name": "stderr",
          "text": []
        },
        {
          "output_type": "stream",
          "name": "stdout",
          "text": [
            "  Train loss: 0.6638\n",
            "Epoch [20/200] 2025-07-29 16:55:33.795866\n"
          ]
        },
        {
          "output_type": "stream",
          "name": "stderr",
          "text": []
        },
        {
          "output_type": "stream",
          "name": "stdout",
          "text": [
            "  Train loss: 0.6570\n"
          ]
        },
        {
          "output_type": "stream",
          "name": "stderr",
          "text": [
            "  0%|          | 0/21 [00:00<?, ?it/s]/usr/local/lib/python3.11/dist-packages/monai/metrics/utils.py:335: UserWarning: the prediction of class 2 is all 0, this may result in nan/inf distance.\n",
            "  warnings.warn(\n"
          ]
        },
        {
          "output_type": "stream",
          "name": "stdout",
          "text": [
            "  Validation Dice: 0.2497\n",
            "  Validation HD95 : 112.0232 mm\n",
            "  Validation ASD  : inf mm\n",
            "   Saved new best model\n",
            "Epoch [21/200] 2025-07-29 16:55:59.257198\n"
          ]
        },
        {
          "output_type": "stream",
          "name": "stderr",
          "text": []
        },
        {
          "output_type": "stream",
          "name": "stdout",
          "text": [
            "  Train loss: 0.6503\n",
            "Epoch [22/200] 2025-07-29 16:56:09.307097\n"
          ]
        },
        {
          "output_type": "stream",
          "name": "stderr",
          "text": []
        },
        {
          "output_type": "stream",
          "name": "stdout",
          "text": [
            "  Train loss: 0.6440\n",
            "Epoch [23/200] 2025-07-29 16:56:18.462314\n"
          ]
        },
        {
          "output_type": "stream",
          "name": "stderr",
          "text": []
        },
        {
          "output_type": "stream",
          "name": "stdout",
          "text": [
            "  Train loss: 0.6382\n",
            "Epoch [24/200] 2025-07-29 16:56:27.616336\n"
          ]
        },
        {
          "output_type": "stream",
          "name": "stderr",
          "text": []
        },
        {
          "output_type": "stream",
          "name": "stdout",
          "text": [
            "  Train loss: 0.6328\n",
            "Epoch [25/200] 2025-07-29 16:56:36.778851\n"
          ]
        },
        {
          "output_type": "stream",
          "name": "stderr",
          "text": []
        },
        {
          "output_type": "stream",
          "name": "stdout",
          "text": [
            "  Train loss: 0.6277\n",
            "Epoch [26/200] 2025-07-29 16:56:46.548916\n"
          ]
        },
        {
          "output_type": "stream",
          "name": "stderr",
          "text": []
        },
        {
          "output_type": "stream",
          "name": "stdout",
          "text": [
            "  Train loss: 0.6226\n",
            "Epoch [27/200] 2025-07-29 16:56:55.688326\n"
          ]
        },
        {
          "output_type": "stream",
          "name": "stderr",
          "text": []
        },
        {
          "output_type": "stream",
          "name": "stdout",
          "text": [
            "  Train loss: 0.6178\n",
            "Epoch [28/200] 2025-07-29 16:57:04.829089\n"
          ]
        },
        {
          "output_type": "stream",
          "name": "stderr",
          "text": []
        },
        {
          "output_type": "stream",
          "name": "stdout",
          "text": [
            "  Train loss: 0.6117\n",
            "Epoch [29/200] 2025-07-29 16:57:13.948440\n"
          ]
        },
        {
          "output_type": "stream",
          "name": "stderr",
          "text": []
        },
        {
          "output_type": "stream",
          "name": "stdout",
          "text": [
            "  Train loss: 0.6066\n",
            "Epoch [30/200] 2025-07-29 16:57:23.727911\n"
          ]
        },
        {
          "output_type": "stream",
          "name": "stderr",
          "text": []
        },
        {
          "output_type": "stream",
          "name": "stdout",
          "text": [
            "  Train loss: 0.6009\n"
          ]
        },
        {
          "output_type": "stream",
          "name": "stderr",
          "text": []
        },
        {
          "output_type": "stream",
          "name": "stdout",
          "text": [
            "  Validation Dice: 0.3577\n",
            "  Validation HD95 : 14.7382 mm\n",
            "  Validation ASD  : 5.9399 mm\n",
            "   Saved new best model\n",
            "Epoch [31/200] 2025-07-29 16:57:51.267741\n"
          ]
        },
        {
          "output_type": "stream",
          "name": "stderr",
          "text": []
        },
        {
          "output_type": "stream",
          "name": "stdout",
          "text": [
            "  Train loss: 0.5944\n",
            "Epoch [32/200] 2025-07-29 16:58:01.352681\n"
          ]
        },
        {
          "output_type": "stream",
          "name": "stderr",
          "text": []
        },
        {
          "output_type": "stream",
          "name": "stdout",
          "text": [
            "  Train loss: 0.5891\n",
            "Epoch [33/200] 2025-07-29 16:58:10.584675\n"
          ]
        },
        {
          "output_type": "stream",
          "name": "stderr",
          "text": []
        },
        {
          "output_type": "stream",
          "name": "stdout",
          "text": [
            "  Train loss: 0.5848\n",
            "Epoch [34/200] 2025-07-29 16:58:19.792924\n"
          ]
        },
        {
          "output_type": "stream",
          "name": "stderr",
          "text": []
        },
        {
          "output_type": "stream",
          "name": "stdout",
          "text": [
            "  Train loss: 0.5800\n",
            "Epoch [35/200] 2025-07-29 16:58:28.977650\n"
          ]
        },
        {
          "output_type": "stream",
          "name": "stderr",
          "text": []
        },
        {
          "output_type": "stream",
          "name": "stdout",
          "text": [
            "  Train loss: 0.5760\n",
            "Epoch [36/200] 2025-07-29 16:58:38.716337\n"
          ]
        },
        {
          "output_type": "stream",
          "name": "stderr",
          "text": []
        },
        {
          "output_type": "stream",
          "name": "stdout",
          "text": [
            "  Train loss: 0.5721\n",
            "Epoch [37/200] 2025-07-29 16:58:47.928482\n"
          ]
        },
        {
          "output_type": "stream",
          "name": "stderr",
          "text": []
        },
        {
          "output_type": "stream",
          "name": "stdout",
          "text": [
            "  Train loss: 0.5679\n",
            "Epoch [38/200] 2025-07-29 16:58:57.130906\n"
          ]
        },
        {
          "output_type": "stream",
          "name": "stderr",
          "text": []
        },
        {
          "output_type": "stream",
          "name": "stdout",
          "text": [
            "  Train loss: 0.5643\n",
            "Epoch [39/200] 2025-07-29 16:59:06.355190\n"
          ]
        },
        {
          "output_type": "stream",
          "name": "stderr",
          "text": []
        },
        {
          "output_type": "stream",
          "name": "stdout",
          "text": [
            "  Train loss: 0.5606\n",
            "Epoch [40/200] 2025-07-29 16:59:15.584862\n"
          ]
        },
        {
          "output_type": "stream",
          "name": "stderr",
          "text": []
        },
        {
          "output_type": "stream",
          "name": "stdout",
          "text": [
            "  Train loss: 0.5568\n"
          ]
        },
        {
          "output_type": "stream",
          "name": "stderr",
          "text": []
        },
        {
          "output_type": "stream",
          "name": "stdout",
          "text": [
            "  Validation Dice: 0.4081\n",
            "  Validation HD95 : 9.4501 mm\n",
            "  Validation ASD  : inf mm\n",
            "   Saved new best model\n",
            "Epoch [41/200] 2025-07-29 16:59:41.952275\n"
          ]
        },
        {
          "output_type": "stream",
          "name": "stderr",
          "text": []
        },
        {
          "output_type": "stream",
          "name": "stdout",
          "text": [
            "  Train loss: 0.5534\n",
            "Epoch [42/200] 2025-07-29 16:59:51.147564\n"
          ]
        },
        {
          "output_type": "stream",
          "name": "stderr",
          "text": []
        },
        {
          "output_type": "stream",
          "name": "stdout",
          "text": [
            "  Train loss: 0.5489\n",
            "Epoch [43/200] 2025-07-29 17:00:00.368197\n"
          ]
        },
        {
          "output_type": "stream",
          "name": "stderr",
          "text": []
        },
        {
          "output_type": "stream",
          "name": "stdout",
          "text": [
            "  Train loss: 0.5447\n",
            "Epoch [44/200] 2025-07-29 17:00:09.558875\n"
          ]
        },
        {
          "output_type": "stream",
          "name": "stderr",
          "text": []
        },
        {
          "output_type": "stream",
          "name": "stdout",
          "text": [
            "  Train loss: 0.5409\n",
            "Epoch [45/200] 2025-07-29 17:00:18.782003\n"
          ]
        },
        {
          "output_type": "stream",
          "name": "stderr",
          "text": []
        },
        {
          "output_type": "stream",
          "name": "stdout",
          "text": [
            "  Train loss: 0.5377\n",
            "Epoch [46/200] 2025-07-29 17:00:27.984096\n"
          ]
        },
        {
          "output_type": "stream",
          "name": "stderr",
          "text": []
        },
        {
          "output_type": "stream",
          "name": "stdout",
          "text": [
            "  Train loss: 0.5338\n",
            "Epoch [47/200] 2025-07-29 17:00:37.195773\n"
          ]
        },
        {
          "output_type": "stream",
          "name": "stderr",
          "text": []
        },
        {
          "output_type": "stream",
          "name": "stdout",
          "text": [
            "  Train loss: 0.5298\n",
            "Epoch [48/200] 2025-07-29 17:00:46.362300\n"
          ]
        },
        {
          "output_type": "stream",
          "name": "stderr",
          "text": []
        },
        {
          "output_type": "stream",
          "name": "stdout",
          "text": [
            "  Train loss: 0.5275\n",
            "Epoch [49/200] 2025-07-29 17:00:55.537650\n"
          ]
        },
        {
          "output_type": "stream",
          "name": "stderr",
          "text": []
        },
        {
          "output_type": "stream",
          "name": "stdout",
          "text": [
            "  Train loss: 0.5244\n",
            "Epoch [50/200] 2025-07-29 17:01:04.701638\n"
          ]
        },
        {
          "output_type": "stream",
          "name": "stderr",
          "text": []
        },
        {
          "output_type": "stream",
          "name": "stdout",
          "text": [
            "  Train loss: 0.5196\n"
          ]
        },
        {
          "output_type": "stream",
          "name": "stderr",
          "text": []
        },
        {
          "output_type": "stream",
          "name": "stdout",
          "text": [
            "  Validation Dice: 0.5113\n",
            "  Validation HD95 : 4.4617 mm\n",
            "  Validation ASD  : inf mm\n",
            "   Saved new best model\n",
            "Epoch [51/200] 2025-07-29 17:01:31.145445\n"
          ]
        },
        {
          "output_type": "stream",
          "name": "stderr",
          "text": []
        },
        {
          "output_type": "stream",
          "name": "stdout",
          "text": [
            "  Train loss: 0.5158\n",
            "Epoch [52/200] 2025-07-29 17:01:40.335138\n"
          ]
        },
        {
          "output_type": "stream",
          "name": "stderr",
          "text": []
        },
        {
          "output_type": "stream",
          "name": "stdout",
          "text": [
            "  Train loss: 0.5128\n",
            "Epoch [53/200] 2025-07-29 17:01:49.551862\n"
          ]
        },
        {
          "output_type": "stream",
          "name": "stderr",
          "text": []
        },
        {
          "output_type": "stream",
          "name": "stdout",
          "text": [
            "  Train loss: 0.5077\n",
            "Epoch [54/200] 2025-07-29 17:01:58.745159\n"
          ]
        },
        {
          "output_type": "stream",
          "name": "stderr",
          "text": []
        },
        {
          "output_type": "stream",
          "name": "stdout",
          "text": [
            "  Train loss: 0.5039\n",
            "Epoch [55/200] 2025-07-29 17:02:08.001047\n"
          ]
        },
        {
          "output_type": "stream",
          "name": "stderr",
          "text": []
        },
        {
          "output_type": "stream",
          "name": "stdout",
          "text": [
            "  Train loss: 0.4985\n",
            "Epoch [56/200] 2025-07-29 17:02:17.188520\n"
          ]
        },
        {
          "output_type": "stream",
          "name": "stderr",
          "text": []
        },
        {
          "output_type": "stream",
          "name": "stdout",
          "text": [
            "  Train loss: 0.4938\n",
            "Epoch [57/200] 2025-07-29 17:02:26.418382\n"
          ]
        },
        {
          "output_type": "stream",
          "name": "stderr",
          "text": []
        },
        {
          "output_type": "stream",
          "name": "stdout",
          "text": [
            "  Train loss: 0.4884\n",
            "Epoch [58/200] 2025-07-29 17:02:35.602980\n"
          ]
        },
        {
          "output_type": "stream",
          "name": "stderr",
          "text": []
        },
        {
          "output_type": "stream",
          "name": "stdout",
          "text": [
            "  Train loss: 0.4835\n",
            "Epoch [59/200] 2025-07-29 17:02:44.787594\n"
          ]
        },
        {
          "output_type": "stream",
          "name": "stderr",
          "text": []
        },
        {
          "output_type": "stream",
          "name": "stdout",
          "text": [
            "  Train loss: 0.4776\n",
            "Epoch [60/200] 2025-07-29 17:02:53.993060\n"
          ]
        },
        {
          "output_type": "stream",
          "name": "stderr",
          "text": []
        },
        {
          "output_type": "stream",
          "name": "stdout",
          "text": [
            "  Train loss: 0.4709\n"
          ]
        },
        {
          "output_type": "stream",
          "name": "stderr",
          "text": []
        },
        {
          "output_type": "stream",
          "name": "stdout",
          "text": [
            "  Validation Dice: 0.5363\n",
            "  Validation HD95 : 3.9599 mm\n",
            "  Validation ASD  : inf mm\n",
            "   Saved new best model\n",
            "Epoch [61/200] 2025-07-29 17:03:20.552261\n"
          ]
        },
        {
          "output_type": "stream",
          "name": "stderr",
          "text": []
        },
        {
          "output_type": "stream",
          "name": "stdout",
          "text": [
            "  Train loss: 0.4660\n",
            "Epoch [62/200] 2025-07-29 17:03:29.727546\n"
          ]
        },
        {
          "output_type": "stream",
          "name": "stderr",
          "text": []
        },
        {
          "output_type": "stream",
          "name": "stdout",
          "text": [
            "  Train loss: 0.4608\n",
            "Epoch [63/200] 2025-07-29 17:03:38.979523\n"
          ]
        },
        {
          "output_type": "stream",
          "name": "stderr",
          "text": []
        },
        {
          "output_type": "stream",
          "name": "stdout",
          "text": [
            "  Train loss: 0.4500\n",
            "Epoch [64/200] 2025-07-29 17:03:48.217926\n"
          ]
        },
        {
          "output_type": "stream",
          "name": "stderr",
          "text": []
        },
        {
          "output_type": "stream",
          "name": "stdout",
          "text": [
            "  Train loss: 0.4422\n",
            "Epoch [65/200] 2025-07-29 17:03:57.431350\n"
          ]
        },
        {
          "output_type": "stream",
          "name": "stderr",
          "text": []
        },
        {
          "output_type": "stream",
          "name": "stdout",
          "text": [
            "  Train loss: 0.4337\n",
            "Epoch [66/200] 2025-07-29 17:04:06.614592\n"
          ]
        },
        {
          "output_type": "stream",
          "name": "stderr",
          "text": []
        },
        {
          "output_type": "stream",
          "name": "stdout",
          "text": [
            "  Train loss: 0.4239\n",
            "Epoch [67/200] 2025-07-29 17:04:16.427996\n"
          ]
        },
        {
          "output_type": "stream",
          "name": "stderr",
          "text": []
        },
        {
          "output_type": "stream",
          "name": "stdout",
          "text": [
            "  Train loss: 0.4143\n",
            "Epoch [68/200] 2025-07-29 17:04:25.612595\n"
          ]
        },
        {
          "output_type": "stream",
          "name": "stderr",
          "text": []
        },
        {
          "output_type": "stream",
          "name": "stdout",
          "text": [
            "  Train loss: 0.4047\n",
            "Epoch [69/200] 2025-07-29 17:04:34.791099\n"
          ]
        },
        {
          "output_type": "stream",
          "name": "stderr",
          "text": []
        },
        {
          "output_type": "stream",
          "name": "stdout",
          "text": [
            "  Train loss: 0.3967\n",
            "Epoch [70/200] 2025-07-29 17:04:44.281118\n"
          ]
        },
        {
          "output_type": "stream",
          "name": "stderr",
          "text": []
        },
        {
          "output_type": "stream",
          "name": "stdout",
          "text": [
            "  Train loss: 0.3876\n"
          ]
        },
        {
          "output_type": "stream",
          "name": "stderr",
          "text": []
        },
        {
          "output_type": "stream",
          "name": "stdout",
          "text": [
            "  Validation Dice: 0.5590\n",
            "  Validation HD95 : 3.1116 mm\n",
            "  Validation ASD  : inf mm\n",
            "   Saved new best model\n",
            "Epoch [71/200] 2025-07-29 17:05:11.293553\n"
          ]
        },
        {
          "output_type": "stream",
          "name": "stderr",
          "text": []
        },
        {
          "output_type": "stream",
          "name": "stdout",
          "text": [
            "  Train loss: 0.3731\n",
            "Epoch [72/200] 2025-07-29 17:05:20.477912\n"
          ]
        },
        {
          "output_type": "stream",
          "name": "stderr",
          "text": []
        },
        {
          "output_type": "stream",
          "name": "stdout",
          "text": [
            "  Train loss: 0.3651\n",
            "Epoch [73/200] 2025-07-29 17:05:30.320788\n"
          ]
        },
        {
          "output_type": "stream",
          "name": "stderr",
          "text": []
        },
        {
          "output_type": "stream",
          "name": "stdout",
          "text": [
            "  Train loss: 0.3604\n",
            "Epoch [74/200] 2025-07-29 17:05:39.591523\n"
          ]
        },
        {
          "output_type": "stream",
          "name": "stderr",
          "text": []
        },
        {
          "output_type": "stream",
          "name": "stdout",
          "text": [
            "  Train loss: 0.3502\n",
            "Epoch [75/200] 2025-07-29 17:05:48.827332\n"
          ]
        },
        {
          "output_type": "stream",
          "name": "stderr",
          "text": []
        },
        {
          "output_type": "stream",
          "name": "stdout",
          "text": [
            "  Train loss: 0.3426\n",
            "Epoch [76/200] 2025-07-29 17:05:58.034166\n"
          ]
        },
        {
          "output_type": "stream",
          "name": "stderr",
          "text": []
        },
        {
          "output_type": "stream",
          "name": "stdout",
          "text": [
            "  Train loss: 0.3370\n",
            "Epoch [77/200] 2025-07-29 17:06:07.429700\n"
          ]
        },
        {
          "output_type": "stream",
          "name": "stderr",
          "text": []
        },
        {
          "output_type": "stream",
          "name": "stdout",
          "text": [
            "  Train loss: 0.3289\n",
            "Epoch [78/200] 2025-07-29 17:06:16.676747\n"
          ]
        },
        {
          "output_type": "stream",
          "name": "stderr",
          "text": []
        },
        {
          "output_type": "stream",
          "name": "stdout",
          "text": [
            "  Train loss: 0.3184\n",
            "Epoch [79/200] 2025-07-29 17:06:25.866101\n"
          ]
        },
        {
          "output_type": "stream",
          "name": "stderr",
          "text": []
        },
        {
          "output_type": "stream",
          "name": "stdout",
          "text": [
            "  Train loss: 0.3137\n",
            "Epoch [80/200] 2025-07-29 17:06:35.109496\n"
          ]
        },
        {
          "output_type": "stream",
          "name": "stderr",
          "text": []
        },
        {
          "output_type": "stream",
          "name": "stdout",
          "text": [
            "  Train loss: 0.3049\n"
          ]
        },
        {
          "output_type": "stream",
          "name": "stderr",
          "text": []
        },
        {
          "output_type": "stream",
          "name": "stdout",
          "text": [
            "  Validation Dice: 0.5837\n",
            "  Validation HD95 : 4.6139 mm\n",
            "  Validation ASD  : inf mm\n",
            "   Saved new best model\n",
            "Epoch [81/200] 2025-07-29 17:07:02.261557\n"
          ]
        },
        {
          "output_type": "stream",
          "name": "stderr",
          "text": []
        },
        {
          "output_type": "stream",
          "name": "stdout",
          "text": [
            "  Train loss: 0.2993\n",
            "Epoch [82/200] 2025-07-29 17:07:11.473066\n"
          ]
        },
        {
          "output_type": "stream",
          "name": "stderr",
          "text": []
        },
        {
          "output_type": "stream",
          "name": "stdout",
          "text": [
            "  Train loss: 0.2926\n",
            "Epoch [83/200] 2025-07-29 17:07:21.025194\n"
          ]
        },
        {
          "output_type": "stream",
          "name": "stderr",
          "text": []
        },
        {
          "output_type": "stream",
          "name": "stdout",
          "text": [
            "  Train loss: 0.2888\n",
            "Epoch [84/200] 2025-07-29 17:07:30.231379\n"
          ]
        },
        {
          "output_type": "stream",
          "name": "stderr",
          "text": []
        },
        {
          "output_type": "stream",
          "name": "stdout",
          "text": [
            "  Train loss: 0.2836\n",
            "Epoch [85/200] 2025-07-29 17:07:39.448883\n"
          ]
        },
        {
          "output_type": "stream",
          "name": "stderr",
          "text": []
        },
        {
          "output_type": "stream",
          "name": "stdout",
          "text": [
            "  Train loss: 0.2768\n",
            "Epoch [86/200] 2025-07-29 17:07:48.656392\n"
          ]
        },
        {
          "output_type": "stream",
          "name": "stderr",
          "text": []
        },
        {
          "output_type": "stream",
          "name": "stdout",
          "text": [
            "  Train loss: 0.2695\n",
            "Epoch [87/200] 2025-07-29 17:07:58.486638\n"
          ]
        },
        {
          "output_type": "stream",
          "name": "stderr",
          "text": []
        },
        {
          "output_type": "stream",
          "name": "stdout",
          "text": [
            "  Train loss: 0.2652\n",
            "Epoch [88/200] 2025-07-29 17:08:07.677575\n"
          ]
        },
        {
          "output_type": "stream",
          "name": "stderr",
          "text": []
        },
        {
          "output_type": "stream",
          "name": "stdout",
          "text": [
            "  Train loss: 0.2641\n",
            "Epoch [89/200] 2025-07-29 17:08:16.908970\n"
          ]
        },
        {
          "output_type": "stream",
          "name": "stderr",
          "text": []
        },
        {
          "output_type": "stream",
          "name": "stdout",
          "text": [
            "  Train loss: 0.2644\n",
            "Epoch [90/200] 2025-07-29 17:08:26.112909\n"
          ]
        },
        {
          "output_type": "stream",
          "name": "stderr",
          "text": []
        },
        {
          "output_type": "stream",
          "name": "stdout",
          "text": [
            "  Train loss: 0.2646\n"
          ]
        },
        {
          "output_type": "stream",
          "name": "stderr",
          "text": []
        },
        {
          "output_type": "stream",
          "name": "stdout",
          "text": [
            "  Validation Dice: 0.6034\n",
            "  Validation HD95 : 6.4195 mm\n",
            "  Validation ASD  : 1.7224 mm\n",
            "   Saved new best model\n",
            "Epoch [91/200] 2025-07-29 17:08:53.836177\n"
          ]
        },
        {
          "output_type": "stream",
          "name": "stderr",
          "text": []
        },
        {
          "output_type": "stream",
          "name": "stdout",
          "text": [
            "  Train loss: 0.2569\n",
            "Epoch [92/200] 2025-07-29 17:09:03.075741\n"
          ]
        },
        {
          "output_type": "stream",
          "name": "stderr",
          "text": []
        },
        {
          "output_type": "stream",
          "name": "stdout",
          "text": [
            "  Train loss: 0.2566\n",
            "Epoch [93/200] 2025-07-29 17:09:12.544614\n"
          ]
        },
        {
          "output_type": "stream",
          "name": "stderr",
          "text": []
        },
        {
          "output_type": "stream",
          "name": "stdout",
          "text": [
            "  Train loss: 0.2514\n",
            "Epoch [94/200] 2025-07-29 17:09:21.795410\n"
          ]
        },
        {
          "output_type": "stream",
          "name": "stderr",
          "text": []
        },
        {
          "output_type": "stream",
          "name": "stdout",
          "text": [
            "  Train loss: 0.2459\n",
            "Epoch [95/200] 2025-07-29 17:09:31.062543\n"
          ]
        },
        {
          "output_type": "stream",
          "name": "stderr",
          "text": []
        },
        {
          "output_type": "stream",
          "name": "stdout",
          "text": [
            "  Train loss: 0.2406\n",
            "Epoch [96/200] 2025-07-29 17:09:40.271089\n"
          ]
        },
        {
          "output_type": "stream",
          "name": "stderr",
          "text": []
        },
        {
          "output_type": "stream",
          "name": "stdout",
          "text": [
            "  Train loss: 0.2368\n",
            "Epoch [97/200] 2025-07-29 17:09:49.511730\n"
          ]
        },
        {
          "output_type": "stream",
          "name": "stderr",
          "text": []
        },
        {
          "output_type": "stream",
          "name": "stdout",
          "text": [
            "  Train loss: 0.2335\n",
            "Epoch [98/200] 2025-07-29 17:09:58.735854\n"
          ]
        },
        {
          "output_type": "stream",
          "name": "stderr",
          "text": []
        },
        {
          "output_type": "stream",
          "name": "stdout",
          "text": [
            "  Train loss: 0.2310\n",
            "Epoch [99/200] 2025-07-29 17:10:07.958868\n"
          ]
        },
        {
          "output_type": "stream",
          "name": "stderr",
          "text": []
        },
        {
          "output_type": "stream",
          "name": "stdout",
          "text": [
            "  Train loss: 0.2296\n",
            "Epoch [100/200] 2025-07-29 17:10:17.184416\n"
          ]
        },
        {
          "output_type": "stream",
          "name": "stderr",
          "text": []
        },
        {
          "output_type": "stream",
          "name": "stdout",
          "text": [
            "  Train loss: 0.2261\n"
          ]
        },
        {
          "output_type": "stream",
          "name": "stderr",
          "text": []
        },
        {
          "output_type": "stream",
          "name": "stdout",
          "text": [
            "  Validation Dice: 0.7383\n",
            "  Validation HD95 : 4.8643 mm\n",
            "  Validation ASD  : 1.2499 mm\n",
            "   Saved new best model\n",
            "Epoch [101/200] 2025-07-29 17:10:45.184937\n"
          ]
        },
        {
          "output_type": "stream",
          "name": "stderr",
          "text": []
        },
        {
          "output_type": "stream",
          "name": "stdout",
          "text": [
            "  Train loss: 0.2247\n",
            "Epoch [102/200] 2025-07-29 17:10:54.369659\n"
          ]
        },
        {
          "output_type": "stream",
          "name": "stderr",
          "text": []
        },
        {
          "output_type": "stream",
          "name": "stdout",
          "text": [
            "  Train loss: 0.2240\n",
            "Epoch [103/200] 2025-07-29 17:11:03.611166\n"
          ]
        },
        {
          "output_type": "stream",
          "name": "stderr",
          "text": []
        },
        {
          "output_type": "stream",
          "name": "stdout",
          "text": [
            "  Train loss: 0.2234\n",
            "Epoch [104/200] 2025-07-29 17:11:12.846661\n"
          ]
        },
        {
          "output_type": "stream",
          "name": "stderr",
          "text": []
        },
        {
          "output_type": "stream",
          "name": "stdout",
          "text": [
            "  Train loss: 0.2178\n",
            "Epoch [105/200] 2025-07-29 17:11:22.072438\n"
          ]
        },
        {
          "output_type": "stream",
          "name": "stderr",
          "text": []
        },
        {
          "output_type": "stream",
          "name": "stdout",
          "text": [
            "  Train loss: 0.2126\n",
            "Epoch [106/200] 2025-07-29 17:11:31.274481\n"
          ]
        },
        {
          "output_type": "stream",
          "name": "stderr",
          "text": []
        },
        {
          "output_type": "stream",
          "name": "stdout",
          "text": [
            "  Train loss: 0.2078\n",
            "Epoch [107/200] 2025-07-29 17:11:40.469842\n"
          ]
        },
        {
          "output_type": "stream",
          "name": "stderr",
          "text": []
        },
        {
          "output_type": "stream",
          "name": "stdout",
          "text": [
            "  Train loss: 0.2051\n",
            "Epoch [108/200] 2025-07-29 17:11:49.698438\n"
          ]
        },
        {
          "output_type": "stream",
          "name": "stderr",
          "text": []
        },
        {
          "output_type": "stream",
          "name": "stdout",
          "text": [
            "  Train loss: 0.1966\n",
            "Epoch [109/200] 2025-07-29 17:11:58.903920\n"
          ]
        },
        {
          "output_type": "stream",
          "name": "stderr",
          "text": []
        },
        {
          "output_type": "stream",
          "name": "stdout",
          "text": [
            "  Train loss: 0.1932\n",
            "Epoch [110/200] 2025-07-29 17:12:08.112233\n"
          ]
        },
        {
          "output_type": "stream",
          "name": "stderr",
          "text": []
        },
        {
          "output_type": "stream",
          "name": "stdout",
          "text": [
            "  Train loss: 0.1891\n"
          ]
        },
        {
          "output_type": "stream",
          "name": "stderr",
          "text": []
        },
        {
          "output_type": "stream",
          "name": "stdout",
          "text": [
            "  Validation Dice: 0.7374\n",
            "  Validation HD95 : 4.1093 mm\n",
            "  Validation ASD  : 1.1158 mm\n",
            "Epoch [111/200] 2025-07-29 17:12:35.242337\n"
          ]
        },
        {
          "output_type": "stream",
          "name": "stderr",
          "text": []
        },
        {
          "output_type": "stream",
          "name": "stdout",
          "text": [
            "  Train loss: 0.1857\n",
            "Epoch [112/200] 2025-07-29 17:12:44.443867\n"
          ]
        },
        {
          "output_type": "stream",
          "name": "stderr",
          "text": []
        },
        {
          "output_type": "stream",
          "name": "stdout",
          "text": [
            "  Train loss: 0.1911\n",
            "Epoch [113/200] 2025-07-29 17:12:53.705162\n"
          ]
        },
        {
          "output_type": "stream",
          "name": "stderr",
          "text": []
        },
        {
          "output_type": "stream",
          "name": "stdout",
          "text": [
            "  Train loss: 0.1780\n",
            "Epoch [114/200] 2025-07-29 17:13:02.942231\n"
          ]
        },
        {
          "output_type": "stream",
          "name": "stderr",
          "text": []
        },
        {
          "output_type": "stream",
          "name": "stdout",
          "text": [
            "  Train loss: 0.1861\n",
            "Epoch [115/200] 2025-07-29 17:13:12.188172\n"
          ]
        },
        {
          "output_type": "stream",
          "name": "stderr",
          "text": []
        },
        {
          "output_type": "stream",
          "name": "stdout",
          "text": [
            "  Train loss: 0.1752\n",
            "Epoch [116/200] 2025-07-29 17:13:21.396895\n"
          ]
        },
        {
          "output_type": "stream",
          "name": "stderr",
          "text": []
        },
        {
          "output_type": "stream",
          "name": "stdout",
          "text": [
            "  Train loss: 0.1672\n",
            "Epoch [117/200] 2025-07-29 17:13:30.612071\n"
          ]
        },
        {
          "output_type": "stream",
          "name": "stderr",
          "text": []
        },
        {
          "output_type": "stream",
          "name": "stdout",
          "text": [
            "  Train loss: 0.1615\n",
            "Epoch [118/200] 2025-07-29 17:13:39.849679\n"
          ]
        },
        {
          "output_type": "stream",
          "name": "stderr",
          "text": []
        },
        {
          "output_type": "stream",
          "name": "stdout",
          "text": [
            "  Train loss: 0.1472\n",
            "Epoch [119/200] 2025-07-29 17:13:49.066559\n"
          ]
        },
        {
          "output_type": "stream",
          "name": "stderr",
          "text": []
        },
        {
          "output_type": "stream",
          "name": "stdout",
          "text": [
            "  Train loss: 0.1334\n",
            "Epoch [120/200] 2025-07-29 17:13:58.274409\n"
          ]
        },
        {
          "output_type": "stream",
          "name": "stderr",
          "text": []
        },
        {
          "output_type": "stream",
          "name": "stdout",
          "text": [
            "  Train loss: 0.1274\n"
          ]
        },
        {
          "output_type": "stream",
          "name": "stderr",
          "text": []
        },
        {
          "output_type": "stream",
          "name": "stdout",
          "text": [
            "  Validation Dice: 0.7376\n",
            "  Validation HD95 : 2.6930 mm\n",
            "  Validation ASD  : 0.8037 mm\n",
            "Epoch [121/200] 2025-07-29 17:14:24.863893\n"
          ]
        },
        {
          "output_type": "stream",
          "name": "stderr",
          "text": []
        },
        {
          "output_type": "stream",
          "name": "stdout",
          "text": [
            "  Train loss: 0.1283\n",
            "Epoch [122/200] 2025-07-29 17:14:34.077132\n"
          ]
        },
        {
          "output_type": "stream",
          "name": "stderr",
          "text": []
        },
        {
          "output_type": "stream",
          "name": "stdout",
          "text": [
            "  Train loss: 0.1154\n",
            "Epoch [123/200] 2025-07-29 17:14:43.317030\n"
          ]
        },
        {
          "output_type": "stream",
          "name": "stderr",
          "text": []
        },
        {
          "output_type": "stream",
          "name": "stdout",
          "text": [
            "  Train loss: 0.1106\n",
            "Epoch [124/200] 2025-07-29 17:14:53.183690\n"
          ]
        },
        {
          "output_type": "stream",
          "name": "stderr",
          "text": []
        },
        {
          "output_type": "stream",
          "name": "stdout",
          "text": [
            "  Train loss: 0.0992\n",
            "Epoch [125/200] 2025-07-29 17:15:02.409436\n"
          ]
        },
        {
          "output_type": "stream",
          "name": "stderr",
          "text": []
        },
        {
          "output_type": "stream",
          "name": "stdout",
          "text": [
            "  Train loss: 0.0981\n",
            "Epoch [126/200] 2025-07-29 17:15:11.604714\n"
          ]
        },
        {
          "output_type": "stream",
          "name": "stderr",
          "text": []
        },
        {
          "output_type": "stream",
          "name": "stdout",
          "text": [
            "  Train loss: 0.0896\n",
            "Epoch [127/200] 2025-07-29 17:15:20.835737\n"
          ]
        },
        {
          "output_type": "stream",
          "name": "stderr",
          "text": []
        },
        {
          "output_type": "stream",
          "name": "stdout",
          "text": [
            "  Train loss: 0.0908\n",
            "Epoch [128/200] 2025-07-29 17:15:30.645681\n"
          ]
        },
        {
          "output_type": "stream",
          "name": "stderr",
          "text": []
        },
        {
          "output_type": "stream",
          "name": "stdout",
          "text": [
            "  Train loss: 0.0890\n",
            "Epoch [129/200] 2025-07-29 17:15:39.849479\n"
          ]
        },
        {
          "output_type": "stream",
          "name": "stderr",
          "text": []
        },
        {
          "output_type": "stream",
          "name": "stdout",
          "text": [
            "  Train loss: 0.0891\n",
            "Epoch [130/200] 2025-07-29 17:15:49.106472\n"
          ]
        },
        {
          "output_type": "stream",
          "name": "stderr",
          "text": []
        },
        {
          "output_type": "stream",
          "name": "stdout",
          "text": [
            "  Train loss: 0.0763\n"
          ]
        },
        {
          "output_type": "stream",
          "name": "stderr",
          "text": []
        },
        {
          "output_type": "stream",
          "name": "stdout",
          "text": [
            "  Validation Dice: 0.7568\n",
            "  Validation HD95 : 2.9695 mm\n",
            "  Validation ASD  : 0.9862 mm\n",
            "   Saved new best model\n",
            "Epoch [131/200] 2025-07-29 17:16:18.751022\n"
          ]
        },
        {
          "output_type": "stream",
          "name": "stderr",
          "text": []
        },
        {
          "output_type": "stream",
          "name": "stdout",
          "text": [
            "  Train loss: 0.0722\n",
            "Epoch [132/200] 2025-07-29 17:16:28.025676\n"
          ]
        },
        {
          "output_type": "stream",
          "name": "stderr",
          "text": []
        },
        {
          "output_type": "stream",
          "name": "stdout",
          "text": [
            "  Train loss: 0.0695\n",
            "Epoch [133/200] 2025-07-29 17:16:37.288170\n"
          ]
        },
        {
          "output_type": "stream",
          "name": "stderr",
          "text": []
        },
        {
          "output_type": "stream",
          "name": "stdout",
          "text": [
            "  Train loss: 0.0684\n",
            "Epoch [134/200] 2025-07-29 17:16:46.521871\n"
          ]
        },
        {
          "output_type": "stream",
          "name": "stderr",
          "text": []
        },
        {
          "output_type": "stream",
          "name": "stdout",
          "text": [
            "  Train loss: 0.0645\n",
            "Epoch [135/200] 2025-07-29 17:16:55.757666\n"
          ]
        },
        {
          "output_type": "stream",
          "name": "stderr",
          "text": []
        },
        {
          "output_type": "stream",
          "name": "stdout",
          "text": [
            "  Train loss: 0.0596\n",
            "Epoch [136/200] 2025-07-29 17:17:04.957830\n"
          ]
        },
        {
          "output_type": "stream",
          "name": "stderr",
          "text": []
        },
        {
          "output_type": "stream",
          "name": "stdout",
          "text": [
            "  Train loss: 0.0588\n",
            "Epoch [137/200] 2025-07-29 17:17:14.139194\n"
          ]
        },
        {
          "output_type": "stream",
          "name": "stderr",
          "text": []
        },
        {
          "output_type": "stream",
          "name": "stdout",
          "text": [
            "  Train loss: 0.0614\n",
            "Epoch [138/200] 2025-07-29 17:17:23.305966\n"
          ]
        },
        {
          "output_type": "stream",
          "name": "stderr",
          "text": []
        },
        {
          "output_type": "stream",
          "name": "stdout",
          "text": [
            "  Train loss: 0.0623\n",
            "Epoch [139/200] 2025-07-29 17:17:32.454790\n"
          ]
        },
        {
          "output_type": "stream",
          "name": "stderr",
          "text": []
        },
        {
          "output_type": "stream",
          "name": "stdout",
          "text": [
            "  Train loss: 0.0628\n",
            "Epoch [140/200] 2025-07-29 17:17:41.653071\n"
          ]
        },
        {
          "output_type": "stream",
          "name": "stderr",
          "text": []
        },
        {
          "output_type": "stream",
          "name": "stdout",
          "text": [
            "  Train loss: 0.0647\n"
          ]
        },
        {
          "output_type": "stream",
          "name": "stderr",
          "text": []
        },
        {
          "output_type": "stream",
          "name": "stdout",
          "text": [
            "  Validation Dice: 0.7548\n",
            "  Validation HD95 : 2.9128 mm\n",
            "  Validation ASD  : 0.8772 mm\n",
            "Epoch [141/200] 2025-07-29 17:18:09.590232\n"
          ]
        },
        {
          "output_type": "stream",
          "name": "stderr",
          "text": []
        },
        {
          "output_type": "stream",
          "name": "stdout",
          "text": [
            "  Train loss: 0.0602\n",
            "Epoch [142/200] 2025-07-29 17:18:18.887148\n"
          ]
        },
        {
          "output_type": "stream",
          "name": "stderr",
          "text": []
        },
        {
          "output_type": "stream",
          "name": "stdout",
          "text": [
            "  Train loss: 0.0520\n",
            "Epoch [143/200] 2025-07-29 17:18:28.250480\n"
          ]
        },
        {
          "output_type": "stream",
          "name": "stderr",
          "text": []
        },
        {
          "output_type": "stream",
          "name": "stdout",
          "text": [
            "  Train loss: 0.0536\n",
            "Epoch [144/200] 2025-07-29 17:18:37.647635\n"
          ]
        },
        {
          "output_type": "stream",
          "name": "stderr",
          "text": []
        },
        {
          "output_type": "stream",
          "name": "stdout",
          "text": [
            "  Train loss: 0.0544\n",
            "Epoch [145/200] 2025-07-29 17:18:47.636713\n"
          ]
        },
        {
          "output_type": "stream",
          "name": "stderr",
          "text": []
        },
        {
          "output_type": "stream",
          "name": "stdout",
          "text": [
            "  Train loss: 0.0554\n",
            "Epoch [146/200] 2025-07-29 17:18:57.028021\n"
          ]
        },
        {
          "output_type": "stream",
          "name": "stderr",
          "text": []
        },
        {
          "output_type": "stream",
          "name": "stdout",
          "text": [
            "  Train loss: 0.0527\n",
            "Epoch [147/200] 2025-07-29 17:19:06.375299\n"
          ]
        },
        {
          "output_type": "stream",
          "name": "stderr",
          "text": []
        },
        {
          "output_type": "stream",
          "name": "stdout",
          "text": [
            "  Train loss: 0.0531\n",
            "Epoch [148/200] 2025-07-29 17:19:15.730153\n"
          ]
        },
        {
          "output_type": "stream",
          "name": "stderr",
          "text": []
        },
        {
          "output_type": "stream",
          "name": "stdout",
          "text": [
            "  Train loss: 0.0465\n",
            "Epoch [149/200] 2025-07-29 17:19:25.710841\n"
          ]
        },
        {
          "output_type": "stream",
          "name": "stderr",
          "text": []
        },
        {
          "output_type": "stream",
          "name": "stdout",
          "text": [
            "  Train loss: 0.0420\n",
            "Epoch [150/200] 2025-07-29 17:19:35.093280\n"
          ]
        },
        {
          "output_type": "stream",
          "name": "stderr",
          "text": []
        },
        {
          "output_type": "stream",
          "name": "stdout",
          "text": [
            "  Train loss: 0.0388\n"
          ]
        },
        {
          "output_type": "stream",
          "name": "stderr",
          "text": []
        },
        {
          "output_type": "stream",
          "name": "stdout",
          "text": [
            "  Validation Dice: 0.7571\n",
            "  Validation HD95 : 2.9138 mm\n",
            "  Validation ASD  : 0.8846 mm\n",
            "   Saved new best model\n",
            "Epoch [151/200] 2025-07-29 17:20:02.576537\n"
          ]
        },
        {
          "output_type": "stream",
          "name": "stderr",
          "text": []
        },
        {
          "output_type": "stream",
          "name": "stdout",
          "text": [
            "  Train loss: 0.0393\n",
            "Epoch [152/200] 2025-07-29 17:20:11.866391\n"
          ]
        },
        {
          "output_type": "stream",
          "name": "stderr",
          "text": []
        },
        {
          "output_type": "stream",
          "name": "stdout",
          "text": [
            "  Train loss: 0.0357\n",
            "Epoch [153/200] 2025-07-29 17:20:21.185063\n"
          ]
        },
        {
          "output_type": "stream",
          "name": "stderr",
          "text": []
        },
        {
          "output_type": "stream",
          "name": "stdout",
          "text": [
            "  Train loss: 0.0343\n",
            "Epoch [154/200] 2025-07-29 17:20:30.523829\n"
          ]
        },
        {
          "output_type": "stream",
          "name": "stderr",
          "text": []
        },
        {
          "output_type": "stream",
          "name": "stdout",
          "text": [
            "  Train loss: 0.0328\n",
            "Epoch [155/200] 2025-07-29 17:20:39.867537\n"
          ]
        },
        {
          "output_type": "stream",
          "name": "stderr",
          "text": []
        },
        {
          "output_type": "stream",
          "name": "stdout",
          "text": [
            "  Train loss: 0.0329\n",
            "Epoch [156/200] 2025-07-29 17:20:49.193042\n"
          ]
        },
        {
          "output_type": "stream",
          "name": "stderr",
          "text": []
        },
        {
          "output_type": "stream",
          "name": "stdout",
          "text": [
            "  Train loss: 0.0319\n",
            "Epoch [157/200] 2025-07-29 17:20:58.537640\n"
          ]
        },
        {
          "output_type": "stream",
          "name": "stderr",
          "text": []
        },
        {
          "output_type": "stream",
          "name": "stdout",
          "text": [
            "  Train loss: 0.0307\n",
            "Epoch [158/200] 2025-07-29 17:21:08.093840\n"
          ]
        },
        {
          "output_type": "stream",
          "name": "stderr",
          "text": []
        },
        {
          "output_type": "stream",
          "name": "stdout",
          "text": [
            "  Train loss: 0.0291\n",
            "Epoch [159/200] 2025-07-29 17:21:17.377610\n"
          ]
        },
        {
          "output_type": "stream",
          "name": "stderr",
          "text": []
        },
        {
          "output_type": "stream",
          "name": "stdout",
          "text": [
            "  Train loss: 0.0296\n",
            "Epoch [160/200] 2025-07-29 17:21:26.678866\n"
          ]
        },
        {
          "output_type": "stream",
          "name": "stderr",
          "text": []
        },
        {
          "output_type": "stream",
          "name": "stdout",
          "text": [
            "  Train loss: 0.0317\n"
          ]
        },
        {
          "output_type": "stream",
          "name": "stderr",
          "text": []
        },
        {
          "output_type": "stream",
          "name": "stdout",
          "text": [
            "  Validation Dice: 0.7556\n",
            "  Validation HD95 : 2.9288 mm\n",
            "  Validation ASD  : 0.8969 mm\n",
            "Epoch [161/200] 2025-07-29 17:21:54.180341\n"
          ]
        },
        {
          "output_type": "stream",
          "name": "stderr",
          "text": []
        },
        {
          "output_type": "stream",
          "name": "stdout",
          "text": [
            "  Train loss: 0.0346\n",
            "Epoch [162/200] 2025-07-29 17:22:04.100376\n"
          ]
        },
        {
          "output_type": "stream",
          "name": "stderr",
          "text": []
        },
        {
          "output_type": "stream",
          "name": "stdout",
          "text": [
            "  Train loss: 0.0331\n",
            "Epoch [163/200] 2025-07-29 17:22:13.407283\n"
          ]
        },
        {
          "output_type": "stream",
          "name": "stderr",
          "text": []
        },
        {
          "output_type": "stream",
          "name": "stdout",
          "text": [
            "  Train loss: 0.0320\n",
            "Epoch [164/200] 2025-07-29 17:22:22.739269\n"
          ]
        },
        {
          "output_type": "stream",
          "name": "stderr",
          "text": []
        },
        {
          "output_type": "stream",
          "name": "stdout",
          "text": [
            "  Train loss: 0.0389\n",
            "Epoch [165/200] 2025-07-29 17:22:32.028496\n"
          ]
        },
        {
          "output_type": "stream",
          "name": "stderr",
          "text": []
        },
        {
          "output_type": "stream",
          "name": "stdout",
          "text": [
            "  Train loss: 0.0347\n",
            "Epoch [166/200] 2025-07-29 17:22:41.960402\n"
          ]
        },
        {
          "output_type": "stream",
          "name": "stderr",
          "text": []
        },
        {
          "output_type": "stream",
          "name": "stdout",
          "text": [
            "  Train loss: 0.0361\n",
            "Epoch [167/200] 2025-07-29 17:22:51.223252\n"
          ]
        },
        {
          "output_type": "stream",
          "name": "stderr",
          "text": []
        },
        {
          "output_type": "stream",
          "name": "stdout",
          "text": [
            "  Train loss: 0.0363\n",
            "Epoch [168/200] 2025-07-29 17:23:00.504180\n"
          ]
        },
        {
          "output_type": "stream",
          "name": "stderr",
          "text": []
        },
        {
          "output_type": "stream",
          "name": "stdout",
          "text": [
            "  Train loss: 0.0409\n",
            "Epoch [169/200] 2025-07-29 17:23:09.764791\n"
          ]
        },
        {
          "output_type": "stream",
          "name": "stderr",
          "text": []
        },
        {
          "output_type": "stream",
          "name": "stdout",
          "text": [
            "  Train loss: 0.0385\n",
            "Epoch [170/200] 2025-07-29 17:23:19.672677\n"
          ]
        },
        {
          "output_type": "stream",
          "name": "stderr",
          "text": []
        },
        {
          "output_type": "stream",
          "name": "stdout",
          "text": [
            "  Train loss: 0.0320\n"
          ]
        },
        {
          "output_type": "stream",
          "name": "stderr",
          "text": []
        },
        {
          "output_type": "stream",
          "name": "stdout",
          "text": [
            "  Validation Dice: 0.7571\n",
            "  Validation HD95 : 2.8905 mm\n",
            "  Validation ASD  : 0.8995 mm\n",
            "   Saved new best model\n",
            "Epoch [171/200] 2025-07-29 17:23:47.839102\n"
          ]
        },
        {
          "output_type": "stream",
          "name": "stderr",
          "text": []
        },
        {
          "output_type": "stream",
          "name": "stdout",
          "text": [
            "  Train loss: 0.0296\n",
            "Epoch [172/200] 2025-07-29 17:23:57.138886\n"
          ]
        },
        {
          "output_type": "stream",
          "name": "stderr",
          "text": []
        },
        {
          "output_type": "stream",
          "name": "stdout",
          "text": [
            "  Train loss: 0.0267\n",
            "Epoch [173/200] 2025-07-29 17:24:06.455555\n"
          ]
        },
        {
          "output_type": "stream",
          "name": "stderr",
          "text": []
        },
        {
          "output_type": "stream",
          "name": "stdout",
          "text": [
            "  Train loss: 0.0281\n",
            "Epoch [174/200] 2025-07-29 17:24:15.736890\n"
          ]
        },
        {
          "output_type": "stream",
          "name": "stderr",
          "text": []
        },
        {
          "output_type": "stream",
          "name": "stdout",
          "text": [
            "  Train loss: 0.0304\n",
            "Epoch [175/200] 2025-07-29 17:24:25.097091\n"
          ]
        },
        {
          "output_type": "stream",
          "name": "stderr",
          "text": []
        },
        {
          "output_type": "stream",
          "name": "stdout",
          "text": [
            "  Train loss: 0.0290\n",
            "Epoch [176/200] 2025-07-29 17:24:34.417700\n"
          ]
        },
        {
          "output_type": "stream",
          "name": "stderr",
          "text": []
        },
        {
          "output_type": "stream",
          "name": "stdout",
          "text": [
            "  Train loss: 0.0309\n",
            "Epoch [177/200] 2025-07-29 17:24:43.680599\n"
          ]
        },
        {
          "output_type": "stream",
          "name": "stderr",
          "text": []
        },
        {
          "output_type": "stream",
          "name": "stdout",
          "text": [
            "  Train loss: 0.0302\n",
            "Epoch [178/200] 2025-07-29 17:24:52.912696\n"
          ]
        },
        {
          "output_type": "stream",
          "name": "stderr",
          "text": []
        },
        {
          "output_type": "stream",
          "name": "stdout",
          "text": [
            "  Train loss: 0.0342\n",
            "Epoch [179/200] 2025-07-29 17:25:02.168883\n"
          ]
        },
        {
          "output_type": "stream",
          "name": "stderr",
          "text": []
        },
        {
          "output_type": "stream",
          "name": "stdout",
          "text": [
            "  Train loss: 0.0297\n",
            "Epoch [180/200] 2025-07-29 17:25:11.427880\n"
          ]
        },
        {
          "output_type": "stream",
          "name": "stderr",
          "text": []
        },
        {
          "output_type": "stream",
          "name": "stdout",
          "text": [
            "  Train loss: 0.0291\n"
          ]
        },
        {
          "output_type": "stream",
          "name": "stderr",
          "text": []
        },
        {
          "output_type": "stream",
          "name": "stdout",
          "text": [
            "  Validation Dice: 0.7576\n",
            "  Validation HD95 : 2.6661 mm\n",
            "  Validation ASD  : 0.8276 mm\n",
            "   Saved new best model\n",
            "Epoch [181/200] 2025-07-29 17:25:39.576002\n"
          ]
        },
        {
          "output_type": "stream",
          "name": "stderr",
          "text": []
        },
        {
          "output_type": "stream",
          "name": "stdout",
          "text": [
            "  Train loss: 0.0280\n",
            "Epoch [182/200] 2025-07-29 17:25:48.858584\n"
          ]
        },
        {
          "output_type": "stream",
          "name": "stderr",
          "text": []
        },
        {
          "output_type": "stream",
          "name": "stdout",
          "text": [
            "  Train loss: 0.0297\n",
            "Epoch [183/200] 2025-07-29 17:25:58.391878\n"
          ]
        },
        {
          "output_type": "stream",
          "name": "stderr",
          "text": []
        },
        {
          "output_type": "stream",
          "name": "stdout",
          "text": [
            "  Train loss: 0.0266\n",
            "Epoch [184/200] 2025-07-29 17:26:07.660667\n"
          ]
        },
        {
          "output_type": "stream",
          "name": "stderr",
          "text": []
        },
        {
          "output_type": "stream",
          "name": "stdout",
          "text": [
            "  Train loss: 0.0250\n",
            "Epoch [185/200] 2025-07-29 17:26:16.939522\n"
          ]
        },
        {
          "output_type": "stream",
          "name": "stderr",
          "text": []
        },
        {
          "output_type": "stream",
          "name": "stdout",
          "text": [
            "  Train loss: 0.0221\n",
            "Epoch [186/200] 2025-07-29 17:26:26.175981\n"
          ]
        },
        {
          "output_type": "stream",
          "name": "stderr",
          "text": []
        },
        {
          "output_type": "stream",
          "name": "stdout",
          "text": [
            "  Train loss: 0.0213\n",
            "Epoch [187/200] 2025-07-29 17:26:36.046231\n"
          ]
        },
        {
          "output_type": "stream",
          "name": "stderr",
          "text": []
        },
        {
          "output_type": "stream",
          "name": "stdout",
          "text": [
            "  Train loss: 0.0202\n",
            "Epoch [188/200] 2025-07-29 17:26:45.322079\n"
          ]
        },
        {
          "output_type": "stream",
          "name": "stderr",
          "text": []
        },
        {
          "output_type": "stream",
          "name": "stdout",
          "text": [
            "  Train loss: 0.0208\n",
            "Epoch [189/200] 2025-07-29 17:26:54.523202\n"
          ]
        },
        {
          "output_type": "stream",
          "name": "stderr",
          "text": []
        },
        {
          "output_type": "stream",
          "name": "stdout",
          "text": [
            "  Train loss: 0.0209\n",
            "Epoch [190/200] 2025-07-29 17:27:03.776380\n"
          ]
        },
        {
          "output_type": "stream",
          "name": "stderr",
          "text": []
        },
        {
          "output_type": "stream",
          "name": "stdout",
          "text": [
            "  Train loss: 0.0238\n"
          ]
        },
        {
          "output_type": "stream",
          "name": "stderr",
          "text": []
        },
        {
          "output_type": "stream",
          "name": "stdout",
          "text": [
            "  Validation Dice: 0.7543\n",
            "  Validation HD95 : 2.8954 mm\n",
            "  Validation ASD  : 0.9101 mm\n",
            "Epoch [191/200] 2025-07-29 17:27:32.444310\n"
          ]
        },
        {
          "output_type": "stream",
          "name": "stderr",
          "text": []
        },
        {
          "output_type": "stream",
          "name": "stdout",
          "text": [
            "  Train loss: 0.0211\n",
            "Epoch [192/200] 2025-07-29 17:27:41.696035\n"
          ]
        },
        {
          "output_type": "stream",
          "name": "stderr",
          "text": []
        },
        {
          "output_type": "stream",
          "name": "stdout",
          "text": [
            "  Train loss: 0.0241\n",
            "Epoch [193/200] 2025-07-29 17:27:51.540166\n"
          ]
        },
        {
          "output_type": "stream",
          "name": "stderr",
          "text": []
        },
        {
          "output_type": "stream",
          "name": "stdout",
          "text": [
            "  Train loss: 0.0221\n",
            "Epoch [194/200] 2025-07-29 17:28:00.801006\n"
          ]
        },
        {
          "output_type": "stream",
          "name": "stderr",
          "text": []
        },
        {
          "output_type": "stream",
          "name": "stdout",
          "text": [
            "  Train loss: 0.0219\n",
            "Epoch [195/200] 2025-07-29 17:28:10.082312\n"
          ]
        },
        {
          "output_type": "stream",
          "name": "stderr",
          "text": []
        },
        {
          "output_type": "stream",
          "name": "stdout",
          "text": [
            "  Train loss: 0.0227\n",
            "Epoch [196/200] 2025-07-29 17:28:19.337967\n"
          ]
        },
        {
          "output_type": "stream",
          "name": "stderr",
          "text": []
        },
        {
          "output_type": "stream",
          "name": "stdout",
          "text": [
            "  Train loss: 0.0209\n",
            "Epoch [197/200] 2025-07-29 17:28:28.619609\n"
          ]
        },
        {
          "output_type": "stream",
          "name": "stderr",
          "text": []
        },
        {
          "output_type": "stream",
          "name": "stdout",
          "text": [
            "  Train loss: 0.0209\n",
            "Epoch [198/200] 2025-07-29 17:28:37.888225\n"
          ]
        },
        {
          "output_type": "stream",
          "name": "stderr",
          "text": []
        },
        {
          "output_type": "stream",
          "name": "stdout",
          "text": [
            "  Train loss: 0.0226\n",
            "Epoch [199/200] 2025-07-29 17:28:47.145778\n"
          ]
        },
        {
          "output_type": "stream",
          "name": "stderr",
          "text": []
        },
        {
          "output_type": "stream",
          "name": "stdout",
          "text": [
            "  Train loss: 0.0198\n",
            "Epoch [200/200] 2025-07-29 17:28:56.423283\n"
          ]
        },
        {
          "output_type": "stream",
          "name": "stderr",
          "text": []
        },
        {
          "output_type": "stream",
          "name": "stdout",
          "text": [
            "  Train loss: 0.0187\n"
          ]
        },
        {
          "output_type": "stream",
          "name": "stderr",
          "text": []
        },
        {
          "output_type": "stream",
          "name": "stdout",
          "text": [
            "  Validation Dice: 0.7545\n",
            "  Validation HD95 : 2.7762 mm\n",
            "  Validation ASD  : 0.8576 mm\n",
            "\n",
            "Training complete. Best val Dice: 0.7576, HD95: 2.6661386489868164, ASD: 0.8275553584098816 at epoch 180\n"
          ]
        }
      ]
    },
    {
      "cell_type": "code",
      "source": [
        "len(train_loss_list), len(val_dice_list), len(epoch_list)\n"
      ],
      "metadata": {
        "colab": {
          "base_uri": "https://localhost:8080/"
        },
        "id": "fSWJG6mGCPAD",
        "outputId": "99979c29-da52-45c6-c28e-968f3956d24d"
      },
      "execution_count": null,
      "outputs": [
        {
          "output_type": "execute_result",
          "data": {
            "text/plain": [
              "(200, 20, 20)"
            ]
          },
          "metadata": {},
          "execution_count": 48
        }
      ]
    },
    {
      "cell_type": "code",
      "source": [
        "from matplotlib import rcParams\n",
        "\n",
        "rcParams['font.weight'] = 'bold'"
      ],
      "metadata": {
        "id": "zgeApk7uKTty"
      },
      "execution_count": null,
      "outputs": []
    },
    {
      "cell_type": "code",
      "source": [
        "fig, axs = plt.subplots(2, 2, figsize=(15, 10))\n",
        "axs[0 ,0].plot(range(1, max_epochs+1), train_loss_list, label=\"Train Loss\")\n",
        "axs[0, 0].set_xlabel(\"Epoch\")\n",
        "axs[0, 0].set_ylabel(\"Loss\")\n",
        "axs[0, 0].set_title(\"Training Loss Over Epochs\")\n",
        "axs[0, 0].legend()\n",
        "\n",
        "axs[0, 1].plot(epoch_list, val_dice_list, label=\"Val Dice\")\n",
        "axs[0, 1].set_xlabel(\"Epoch\")\n",
        "axs[0, 1].set_ylabel(\"Dice\")\n",
        "axs[0, 1].set_title(\"Validation Dice Over Epochs\")\n",
        "axs[0, 1].legend()\n",
        "\n",
        "\"\"\"\n",
        "axs[1, 0].plot(range(1, max_epochs+1), 1 - np.array(train_loss_list[:]), label=\"Train Accuracy\")\n",
        "axs[1, 0].set_xlabel(\"Epoch\")\n",
        "axs[1, 0].set_ylabel(\"Accuracy\")\n",
        "axs[1, 0].set_title(\"Training Accuracy Over Epochs\")\n",
        "axs[1, 0].legend()\n",
        "\"\"\"\n",
        "\n",
        "axs[1, 0].plot(epoch_list, val_dice_list, label=\"Val Dice\")\n",
        "axs[1, 0].plot(range(1, max_epochs+1), train_loss_list, label=\"Train Loss\")\n",
        "axs[1, 0].set_xlabel(\"Epoch\")\n",
        "axs[1, 0].set_ylabel(\"Accuracy\")\n",
        "axs[1, 0].set_title(\"Train Loss and Validation Dice Over Epochs\")\n",
        "axs[1, 0].legend()\n",
        "\n",
        "plt.show()\n"
      ],
      "metadata": {
        "colab": {
          "base_uri": "https://localhost:8080/",
          "height": 872
        },
        "id": "Xx7gztEyK1Ru",
        "outputId": "cfdb6517-5e78-48f3-fd77-1d42af4c2051"
      },
      "execution_count": null,
      "outputs": [
        {
          "output_type": "display_data",
          "data": {
            "text/plain": [
              "<Figure size 1500x1000 with 4 Axes>"
            ],
            "image/png": "[encoded data removed]"
          },
          "metadata": {}
        }
      ]
    },
    {
      "cell_type": "code",
      "source": [
        "new_val_list = val_dice_list*10\n",
        "new_hd95_list = hd95_list*10\n",
        "new_asd_list = asd_list*10"
      ],
      "metadata": {
        "id": "ategfkGzK3WV"
      },
      "execution_count": null,
      "outputs": []
    },
    {
      "cell_type": "code",
      "source": [
        "df = pd.DataFrame({'Max_Epoch': epoch,\n",
        "                     \"Epoch_list\": range(1, max_epochs+1),\n",
        "                     \"Validation_List\": new_val_list,\n",
        "                     \"HD95_List\": new_hd95_list,\n",
        "                     \"ASD_List\": new_asd_list,\n",
        "                     \"Train_Loss_List\": train_loss_list,\n",
        "                     \"Best_Dice\": best_metric,\n",
        "                     \"Best_Dice_Epoch\": best_metric_epoch,\n",
        "                    \"Best_HD95\": best_HD95,\n",
        "                    \"Best_ASD\": best_ASD})\n",
        "\n",
        "file_path = \"/content/drive/MyDrive/Train_Data_INFO2/Cross4__Tuning_data_info.csv\"\n",
        "\n",
        "df.to_csv(file_path, index=False)\n",
        "print(f\"File saved to: {os.path.abspath(file_path)}\")"
      ],
      "metadata": {
        "colab": {
          "base_uri": "https://localhost:8080/"
        },
        "id": "LQm45BxrLiTl",
        "outputId": "f6aeb202-b706-4820-9a2a-d13adc7edf8e"
      },
      "execution_count": null,
      "outputs": [
        {
          "output_type": "stream",
          "name": "stdout",
          "text": [
            "File saved to: /content/drive/MyDrive/Train_Data_INFO2/Cross4__Tuning_data_info.csv\n"
          ]
        }
      ]
    },
    {
      "cell_type": "code",
      "source": [
        "os.listdir()"
      ],
      "metadata": {
        "id": "YY3ids8mLrS3"
      },
      "execution_count": null,
      "outputs": []
    },
    {
      "cell_type": "code",
      "source": [
        "%cd -"
      ],
      "metadata": {
        "id": "ul_10AXyOa46"
      },
      "execution_count": null,
      "outputs": []
    },
    {
      "cell_type": "code",
      "source": [
        "num_classes=4"
      ],
      "metadata": {
        "id": "odcH2gL4OkAM"
      },
      "execution_count": null,
      "outputs": []
    },
    {
      "cell_type": "code",
      "source": [
        "# Model Evaluation\n",
        "model.load_state_dict(torch.load(best_model_path))\n",
        "model.eval()\n",
        "\n",
        "def dice_score(pred, target, num_classes):\n",
        "    \"\"\"\n",
        "    Calculate Dice score for each class and the combined hippocampus structure.\n",
        "    \"\"\"\n",
        "    dice_scores = torch.zeros(num_classes, device=pred.device)\n",
        "\n",
        "    for class_idx in range(num_classes):\n",
        "        pred_mask = (pred == class_idx).float()\n",
        "        target_mask = (target == class_idx).float()\n",
        "\n",
        "        intersection = (pred_mask * target_mask).sum()\n",
        "        pred_volume = pred_mask.sum()\n",
        "        target_volume = target_mask.sum()\n",
        "\n",
        "        if pred_volume + target_volume == 0:\n",
        "            dice_scores[class_idx] = 1.0\n",
        "        else:\n",
        "            dice_scores[class_idx] = (2 * intersection) / (pred_volume + target_volume)\n",
        "\n",
        "    hippocampus_classes = [1, 2, 3]\n",
        "    pred_hippocampus = torch.zeros_like(pred, device=pred.device)\n",
        "    target_hippocampus = torch.zeros_like(target, device=target.device)\n",
        "\n",
        "    for class_idx in hippocampus_classes:\n",
        "        pred_hippocampus = pred_hippocampus + (pred == class_idx).float()\n",
        "        target_hippocampus = target_hippocampus + (target == class_idx).float()\n",
        "\n",
        "    pred_hippocampus = (pred_hippocampus > 0).float()\n",
        "    target_hippocampus = (target_hippocampus > 0).float()\n",
        "\n",
        "    intersection = (pred_hippocampus * target_hippocampus).sum()\n",
        "    pred_volume = pred_hippocampus.sum()\n",
        "    target_volume = target_hippocampus.sum()\n",
        "\n",
        "    if pred_volume + target_volume == 0:\n",
        "        hippocampus_dice = 1.0\n",
        "    else:\n",
        "        hippocampus_dice = (2 * intersection) / (pred_volume + target_volume)\n",
        "\n",
        "    return dice_scores, hippocampus_dice\n",
        "\n",
        "# Validation with Dice, HD95, and ASD\n",
        "test_dice_list = []\n",
        "test_hd95_list = []\n",
        "test_asd_list = []\n",
        "class_dice = {'hippocampus': [], 'CA1': [], 'CA4DG': [], 'subiculum': []}\n",
        "class_hd95 = {'hippocampus': [], 'CA1': [], 'CA4DG': [], 'subiculum': []}\n",
        "class_asd = {'hippocampus': [], 'CA1': [], 'CA4DG': [], 'subiculum': []}\n",
        "\n",
        "to_onehot = AsDiscrete(to_onehot=num_classes)\n",
        "\n",
        "with torch.no_grad():\n",
        "    for val_data in val_loader:\n",
        "        val_inputs, val_labels = val_data[0].cuda(), val_data[1].cuda()\n",
        "        roi_size = (160, 160, 160)\n",
        "        sw_batch_size = 4\n",
        "        val_outputs = sliding_window_inference(val_inputs, roi_size, sw_batch_size, model, mode=\"gaussian\", overlap=0.5)\n",
        "\n",
        "        # Convert logits to one-hot format\n",
        "        val_outputs_post = [post_trans(i) for i in decollate_batch(val_outputs)]\n",
        "        val_labels_onehot = [to_onehot(i) for i in decollate_batch(val_labels)]\n",
        "\n",
        "        # Convert to class indices for Dice score computation\n",
        "        val_outputs_indices = torch.argmax(val_outputs, dim=1)\n",
        "\n",
        "        # Calculate Dice scores\n",
        "        dice_scores, hippocampus_dice = dice_score(val_outputs_indices, val_labels, num_classes=4)\n",
        "        class_dice['hippocampus'].append(hippocampus_dice.item())\n",
        "        class_dice['CA1'].append(dice_scores[1].item())\n",
        "        class_dice['CA4DG'].append(dice_scores[2].item())\n",
        "        class_dice['subiculum'].append(dice_scores[3].item())\n",
        "        test_dice_list.append(dice_scores.mean().item())\n",
        "\n",
        "        # Compute overall HD95 and ASD\n",
        "        hd95_metric(y_pred=val_outputs_post, y=val_labels_onehot)\n",
        "        asd_metric(y_pred=val_outputs_post, y=val_labels_onehot)\n",
        "        test_hd95_list.append(hd95_metric.aggregate().item())\n",
        "        test_asd_list.append(asd_metric.aggregate().item())\n",
        "        hd95_metric.reset()\n",
        "        asd_metric.reset()\n",
        "\n",
        "        # Compute per-class HD95 and ASD\n",
        "        for class_idx in [1, 2, 3]:\n",
        "            pred_mask = (val_outputs_indices == class_idx).float()  # Shape: [1, 160, 160, 160]\n",
        "            target_mask = (val_labels == class_idx).float()        # Shape: [1, 160, 160, 160]\n",
        "            # Convert to one-hot format: [num_classes, 160, 160, 160]\n",
        "            pred_onehot = torch.zeros((num_classes, 160, 160, 160), device=pred_mask.device)\n",
        "            target_onehot = torch.zeros((num_classes, 160, 160, 160), device=target_mask.device)\n",
        "            for i in range(num_classes):\n",
        "                pred_onehot[i] = (pred_mask == i).float().squeeze(0)  # Squeeze batch dim\n",
        "                target_onehot[i] = (target_mask == i).float().squeeze(0)  # Squeeze batch dim\n",
        "            hd95_metric(y_pred=[pred_onehot], y=[target_onehot])\n",
        "            asd_metric(y_pred=[pred_onehot], y=[target_onehot])\n",
        "            class_hd95[['CA1', 'CA4DG', 'subiculum'][class_idx-1]].append(hd95_metric.aggregate().item())\n",
        "            class_asd[['CA1', 'CA4DG', 'subiculum'][class_idx-1]].append(asd_metric.aggregate().item())\n",
        "            hd95_metric.reset()\n",
        "            asd_metric.reset()\n",
        "\n",
        "        # Compute hippocampus combined HD95 and ASD\n",
        "        hippocampus_classes = [1, 2, 3]\n",
        "        pred_hippocampus = torch.zeros_like(val_outputs_indices, device=val_outputs_indices.device)\n",
        "        target_hippocampus = torch.zeros_like(val_labels, device=val_labels.device)\n",
        "        for class_idx in hippocampus_classes:\n",
        "            pred_hippocampus = pred_hippocampus + (val_outputs_indices == class_idx).float()\n",
        "            target_hippocampus = target_hippocampus + (val_labels == class_idx).float()\n",
        "        pred_hippocampus = (pred_hippocampus > 0).float()  # Shape: [1, 160, 160, 160]\n",
        "        target_hippocampus = (target_hippocampus > 0).float()  # Shape: [1, 160, 160, 160]\n",
        "        # Convert to one-hot format for binary (background vs. hippocampus): [2, 160, 160, 160]\n",
        "        pred_hippocampus_onehot = torch.zeros((2, 160, 160, 160), device=pred_hippocampus.device)\n",
        "        target_hippocampus_onehot = torch.zeros((2, 160, 160, 160), device=target_hippocampus.device)\n",
        "        pred_hippocampus_onehot[0] = (pred_hippocampus == 0).float().squeeze(0)\n",
        "        pred_hippocampus_onehot[1] = pred_hippocampus.squeeze(0)\n",
        "        target_hippocampus_onehot[0] = (target_hippocampus == 0).float().squeeze(0)\n",
        "        target_hippocampus_onehot[1] = target_hippocampus.squeeze(0)\n",
        "        hd95_metric(y_pred=[pred_hippocampus_onehot], y=[target_hippocampus_onehot])\n",
        "        asd_metric(y_pred=[pred_hippocampus_onehot], y=[target_hippocampus_onehot])\n",
        "        class_hd95['hippocampus'].append(hd95_metric.aggregate().item())\n",
        "        class_asd['hippocampus'].append(asd_metric.aggregate().item())\n",
        "        hd95_metric.reset()\n",
        "        asd_metric.reset()\n",
        "\n",
        "        print(f\"Validation - Mean Dice: {test_dice_list[-1]:.4f}, HD95: {test_hd95_list[-1]:.4f}, ASD: {test_asd_list[-1]:.4f}\")\n",
        "        print(f\"Hippocampus: Dice: {class_dice['hippocampus'][-1]:.4f}, HD95: {class_hd95['hippocampus'][-1]:.4f}, ASD: {class_asd['hippocampus'][-1]:.4f}\")\n",
        "        print(f\"CA1: Dice: {class_dice['CA1'][-1]:.4f}, HD95: {class_hd95['CA1'][-1]:.4f}, ASD: {class_asd['CA1'][-1]:.4f}\")\n",
        "        print(f\"CA4DG: Dice: {class_dice['CA4DG'][-1]:.4f}, HD95: {class_hd95['CA4DG'][-1]:.4f}, ASD: {class_asd['CA4DG'][-1]:.4f}\")\n",
        "        print(f\"Subiculum: Dice: {class_dice['subiculum'][-1]:.4f}, HD95: {class_hd95['subiculum'][-1]:.4f}, ASD: {class_asd['subiculum'][-1]:.4f}\\n\")\n",
        "\n",
        "# Calculate final statistics\n",
        "def get_stats(values):\n",
        "    return np.mean(values), np.std(values)\n",
        "\n",
        "overall_dice_mean, overall_dice_std = get_stats(test_dice_list)\n",
        "hippocampus_dice_mean, hippocampus_dice_std = get_stats(class_dice['hippocampus'])\n",
        "ca1_dice_mean, ca1_dice_std = get_stats(class_dice['CA1'])\n",
        "ca4dg_dice_mean, ca4dg_dice_std = get_stats(class_dice['CA4DG'])\n",
        "sub_dice_mean, sub_dice_std = get_stats(class_dice['subiculum'])\n",
        "\n",
        "overall_hd95_mean, overall_hd95_std = get_stats(test_hd95_list)\n",
        "hippocampus_hd95_mean, hippocampus_hd95_std = get_stats(class_hd95['hippocampus'])\n",
        "ca1_hd95_mean, ca1_hd95_std = get_stats(class_hd95['CA1'])\n",
        "ca4dg_hd95_mean, ca4dg_hd95_std = get_stats(class_hd95['CA4DG'])\n",
        "sub_hd95_mean, sub_hd95_std = get_stats(class_hd95['subiculum'])\n",
        "\n",
        "overall_asd_mean, overall_asd_std = get_stats(test_asd_list)\n",
        "hippocampus_asd_mean, hippocampus_asd_std = get_stats(class_asd['hippocampus'])\n",
        "ca1_asd_mean, ca1_asd_std = get_stats(class_asd['CA1'])\n",
        "ca4dg_asd_mean, ca4dg_asd_std = get_stats(class_asd['CA4DG'])\n",
        "sub_asd_mean, sub_asd_std = get_stats(class_asd['subiculum'])\n",
        "\n",
        "print(\"\\nFinal Test Metrics:\")\n",
        "print(f\"Overall: Dice: {overall_dice_mean:.4f} ± {overall_dice_std:.4f}, HD95: {overall_hd95_mean:.4f} ± {overall_hd95_std:.4f}, ASD: {overall_asd_mean:.4f} ± {overall_asd_std:.4f}\")\n",
        "print(f\"Hippocampus: Dice: {hippocampus_dice_mean:.4f} ± {hippocampus_dice_std:.4f}, HD95: {hippocampus_hd95_mean:.4f} ± {hippocampus_hd95_std:.4f}, ASD: {hippocampus_asd_mean:.4f} ± {hippocampus_asd_std:.4f}\")\n",
        "print(f\"CA1: Dice: {ca1_dice_mean:.4f} ± {ca1_dice_std:.4f}, HD95: {ca1_hd95_mean:.4f} ± {ca1_hd95_std:.4f}, ASD: {ca1_asd_mean:.4f} ± {ca1_asd_std:.4f}\")\n",
        "print(f\"CA4DG: Dice: {ca4dg_dice_mean:.4f} ± {ca4dg_dice_std:.4f}, HD95: {ca4dg_hd95_mean:.4f} ± {ca4dg_hd95_std:.4f}, ASD: {ca4dg_asd_mean:.4f} ± {ca4dg_asd_std:.4f}\")\n",
        "print(f\"Subiculum: Dice: {sub_dice_mean:.4f} ± {sub_dice_std:.4f}, HD95: {sub_hd95_mean:.4f} ± {sub_hd95_std:.4f}, ASD: {sub_asd_mean:.4f} ± {sub_asd_std:.4f}\")"
      ],
      "metadata": {
        "colab": {
          "base_uri": "https://localhost:8080/"
        },
        "id": "wS8AeE6eMsIk",
        "outputId": "ec14c03b-a9b4-4c06-f24f-b63fc92155eb"
      },
      "execution_count": null,
      "outputs": [
        {
          "output_type": "stream",
          "name": "stderr",
          "text": [
            "/usr/local/lib/python3.11/dist-packages/monai/metrics/utils.py:330: UserWarning: the ground truth of class 1 is all 0, this may result in nan/inf distance.\n",
            "  warnings.warn(\n",
            "/usr/local/lib/python3.11/dist-packages/monai/metrics/utils.py:330: UserWarning: the ground truth of class 2 is all 0, this may result in nan/inf distance.\n",
            "  warnings.warn(\n"
          ]
        },
        {
          "output_type": "stream",
          "name": "stdout",
          "text": [
            "Validation - Mean Dice: 0.8239, HD95: 1.7454, ASD: 0.5339\n",
            "Hippocampus: Dice: 0.8540, HD95: 2.2361, ASD: 0.5824\n",
            "CA1: Dice: 0.7390, HD95: 2.0000, ASD: 0.6241\n",
            "CA4DG: Dice: 0.7467, HD95: 2.2361, ASD: 0.5592\n",
            "Subiculum: Dice: 0.8103, HD95: 1.0000, ASD: 0.4183\n",
            "\n",
            "Validation - Mean Dice: 0.7342, HD95: 2.4317, ASD: 1.1290\n",
            "Hippocampus: Dice: 0.8094, HD95: 2.2361, ASD: 1.3652\n",
            "CA1: Dice: 0.6713, HD95: 2.4495, ASD: 1.1928\n",
            "CA4DG: Dice: 0.6062, HD95: 2.4495, ASD: 1.4554\n",
            "Subiculum: Dice: 0.6598, HD95: 2.3961, ASD: 0.7389\n",
            "\n",
            "Validation - Mean Dice: 0.7793, HD95: 2.1574, ASD: 0.6268\n",
            "Hippocampus: Dice: 0.8543, HD95: 2.0000, ASD: 0.5818\n",
            "CA1: Dice: 0.7348, HD95: 2.0000, ASD: 0.5659\n",
            "CA4DG: Dice: 0.6919, HD95: 2.2361, ASD: 0.6448\n",
            "Subiculum: Dice: 0.6910, HD95: 2.2361, ASD: 0.6698\n",
            "\n",
            "Validation - Mean Dice: 0.7505, HD95: 3.4930, ASD: 0.9199\n",
            "Hippocampus: Dice: 0.8072, HD95: 3.4051, ASD: 0.9335\n",
            "CA1: Dice: 0.6934, HD95: 3.3166, ASD: 0.9297\n",
            "CA4DG: Dice: 0.6017, HD95: 4.0000, ASD: 0.9679\n",
            "Subiculum: Dice: 0.7074, HD95: 3.1623, ASD: 0.8622\n",
            "\n",
            "Validation - Mean Dice: 0.7802, HD95: 2.0787, ASD: 0.6673\n",
            "Hippocampus: Dice: 0.8212, HD95: 2.2361, ASD: 0.6890\n",
            "CA1: Dice: 0.7217, HD95: 2.0000, ASD: 0.6479\n",
            "CA4DG: Dice: 0.6901, HD95: 2.0000, ASD: 0.6120\n",
            "Subiculum: Dice: 0.7095, HD95: 2.2361, ASD: 0.7419\n",
            "\n",
            "Validation - Mean Dice: 0.7219, HD95: 4.0492, ASD: 1.1253\n",
            "Hippocampus: Dice: 0.7782, HD95: 3.1542, ASD: 0.9879\n",
            "CA1: Dice: 0.6432, HD95: 3.0000, ASD: 1.0082\n",
            "CA4DG: Dice: 0.6410, HD95: 3.3166, ASD: 0.9840\n",
            "Subiculum: Dice: 0.6039, HD95: 5.8310, ASD: 1.3836\n",
            "\n",
            "Validation - Mean Dice: 0.7825, HD95: 1.7154, ASD: 0.5982\n",
            "Hippocampus: Dice: 0.8522, HD95: 2.0000, ASD: 0.5730\n",
            "CA1: Dice: 0.7458, HD95: 1.7321, ASD: 0.6007\n",
            "CA4DG: Dice: 0.6990, HD95: 2.0000, ASD: 0.6351\n",
            "Subiculum: Dice: 0.6854, HD95: 1.4142, ASD: 0.5587\n",
            "\n",
            "Validation - Mean Dice: 0.7064, HD95: 3.7043, ASD: 1.0312\n",
            "Hippocampus: Dice: 0.7798, HD95: 2.2361, ASD: 0.8747\n",
            "CA1: Dice: 0.6496, HD95: 2.2361, ASD: 0.8047\n",
            "CA4DG: Dice: 0.6145, HD95: 2.2361, ASD: 0.8119\n",
            "Subiculum: Dice: 0.5619, HD95: 6.6407, ASD: 1.4770\n",
            "\n",
            "Validation - Mean Dice: 0.7754, HD95: 2.3548, ASD: 0.7174\n",
            "Hippocampus: Dice: 0.8380, HD95: 2.0000, ASD: 0.7015\n",
            "CA1: Dice: 0.7210, HD95: 2.2361, ASD: 0.7198\n",
            "CA4DG: Dice: 0.6915, HD95: 2.8284, ASD: 0.7764\n",
            "Subiculum: Dice: 0.6896, HD95: 2.0000, ASD: 0.6558\n",
            "\n",
            "Validation - Mean Dice: 0.7616, HD95: 2.4655, ASD: 0.7802\n",
            "Hippocampus: Dice: 0.8421, HD95: 2.0000, ASD: 0.6178\n",
            "CA1: Dice: 0.7202, HD95: 2.2361, ASD: 0.6048\n",
            "CA4DG: Dice: 0.6727, HD95: 2.8284, ASD: 0.7905\n",
            "Subiculum: Dice: 0.6540, HD95: 2.3321, ASD: 0.9453\n",
            "\n",
            "Validation - Mean Dice: 0.7650, HD95: 2.6882, ASD: 0.8055\n",
            "Hippocampus: Dice: 0.8215, HD95: 2.2361, ASD: 0.6625\n",
            "CA1: Dice: 0.7007, HD95: 2.2361, ASD: 0.6744\n",
            "CA4DG: Dice: 0.6796, HD95: 2.8284, ASD: 0.7717\n",
            "Subiculum: Dice: 0.6800, HD95: 3.0000, ASD: 0.9705\n",
            "\n",
            "Validation - Mean Dice: 0.7551, HD95: 2.7593, ASD: 0.8403\n",
            "Hippocampus: Dice: 0.8182, HD95: 2.2361, ASD: 0.8034\n",
            "CA1: Dice: 0.6893, HD95: 3.0000, ASD: 0.9071\n",
            "CA4DG: Dice: 0.6615, HD95: 2.4495, ASD: 0.7581\n",
            "Subiculum: Dice: 0.6700, HD95: 2.8284, ASD: 0.8556\n",
            "\n",
            "Validation - Mean Dice: 0.7416, HD95: 3.1988, ASD: 0.9957\n",
            "Hippocampus: Dice: 0.8137, HD95: 3.3166, ASD: 1.0997\n",
            "CA1: Dice: 0.6719, HD95: 2.8284, ASD: 0.9680\n",
            "CA4DG: Dice: 0.6661, HD95: 3.1623, ASD: 1.1664\n",
            "Subiculum: Dice: 0.6287, HD95: 3.6056, ASD: 0.8527\n",
            "\n",
            "Validation - Mean Dice: 0.7695, HD95: 1.9107, ASD: 0.7348\n",
            "Hippocampus: Dice: 0.8329, HD95: 1.7321, ASD: 0.7937\n",
            "CA1: Dice: 0.7288, HD95: 2.0000, ASD: 0.8151\n",
            "CA4DG: Dice: 0.6783, HD95: 2.0000, ASD: 0.6633\n",
            "Subiculum: Dice: 0.6715, HD95: 1.7321, ASD: 0.7261\n",
            "\n",
            "Validation - Mean Dice: 0.7155, HD95: 2.7423, ASD: 0.9214\n",
            "Hippocampus: Dice: 0.8041, HD95: 2.2361, ASD: 0.7279\n",
            "CA1: Dice: 0.6725, HD95: 2.2361, ASD: 0.7767\n",
            "CA4DG: Dice: 0.5686, HD95: 2.8284, ASD: 0.9393\n",
            "Subiculum: Dice: 0.6214, HD95: 3.1623, ASD: 1.0483\n",
            "\n",
            "Validation - Mean Dice: 0.7488, HD95: 2.7304, ASD: 0.9448\n",
            "Hippocampus: Dice: 0.8149, HD95: 2.0000, ASD: 0.8633\n",
            "CA1: Dice: 0.7042, HD95: 2.0000, ASD: 0.8708\n",
            "CA4DG: Dice: 0.6391, HD95: 2.4495, ASD: 0.8847\n",
            "Subiculum: Dice: 0.6523, HD95: 3.7417, ASD: 1.0790\n",
            "\n",
            "Validation - Mean Dice: 0.7288, HD95: 3.2559, ASD: 0.8989\n",
            "Hippocampus: Dice: 0.7879, HD95: 2.8284, ASD: 0.8365\n",
            "CA1: Dice: 0.6449, HD95: 3.0000, ASD: 0.9695\n",
            "CA4DG: Dice: 0.6223, HD95: 3.1623, ASD: 0.7669\n",
            "Subiculum: Dice: 0.6484, HD95: 3.6056, ASD: 0.9603\n",
            "\n",
            "Validation - Mean Dice: 0.7689, HD95: 2.8240, ASD: 0.7499\n",
            "Hippocampus: Dice: 0.8160, HD95: 2.2361, ASD: 0.6935\n",
            "CA1: Dice: 0.6809, HD95: 2.2361, ASD: 0.7354\n",
            "CA4DG: Dice: 0.6780, HD95: 2.2361, ASD: 0.6815\n",
            "Subiculum: Dice: 0.7170, HD95: 4.0000, ASD: 0.8327\n",
            "\n",
            "Validation - Mean Dice: 0.7748, HD95: 1.9894, ASD: 0.6907\n",
            "Hippocampus: Dice: 0.8360, HD95: 1.7321, ASD: 0.6343\n",
            "CA1: Dice: 0.7137, HD95: 1.7321, ASD: 0.6576\n",
            "CA4DG: Dice: 0.6988, HD95: 2.2361, ASD: 0.6780\n",
            "Subiculum: Dice: 0.6870, HD95: 2.0000, ASD: 0.7367\n",
            "\n",
            "Validation - Mean Dice: 0.7661, HD95: 3.0787, ASD: 0.8794\n",
            "Hippocampus: Dice: 0.8534, HD95: 1.7321, ASD: 0.5962\n",
            "CA1: Dice: 0.7194, HD95: 2.0000, ASD: 0.6465\n",
            "CA4DG: Dice: 0.6865, HD95: 2.2361, ASD: 0.6711\n",
            "Subiculum: Dice: 0.6589, HD95: 5.0000, ASD: 1.3208\n",
            "\n",
            "Validation - Mean Dice: 0.7601, HD95: 2.6159, ASD: 0.7881\n",
            "Hippocampus: Dice: 0.8278, HD95: 2.0000, ASD: 0.6746\n",
            "CA1: Dice: 0.7017, HD95: 2.2361, ASD: 0.7327\n",
            "CA4DG: Dice: 0.6587, HD95: 2.4495, ASD: 0.7162\n",
            "Subiculum: Dice: 0.6805, HD95: 3.1623, ASD: 0.9153\n",
            "\n",
            "\n",
            "Final Test Metrics:\n",
            "Overall: Dice: 0.7576 ± 0.0262, HD95: 2.6661 ± 0.6210, ASD: 0.8276 ± 0.1608\n",
            "Hippocampus: Dice: 0.8220 ± 0.0226, HD95: 2.2757 ± 0.4777, ASD: 0.7758 ± 0.1931\n",
            "CA1: Dice: 0.6985 ± 0.0302, HD95: 2.3196 ± 0.4370, ASD: 0.7834 ± 0.1610\n",
            "CA4DG: Dice: 0.6616 ± 0.0404, HD95: 2.5795 ± 0.5010, ASD: 0.8064 ± 0.2038\n",
            "Subiculum: Dice: 0.6709 ± 0.0477, HD95: 3.0994 ± 1.3724, ASD: 0.8928 ± 0.2570\n"
          ]
        }
      ]
    },
    {
      "cell_type": "code",
      "source": [
        "individual_data = pd.DataFrame({\n",
        "    'Mean Dice': test_dice_list,\n",
        "    'Mean HD95': test_hd95_list,\n",
        "    'Mean ASD': test_asd_list,\n",
        "    'Dice Hippocampus': class_dice['hippocampus'],\n",
        "    'Dice CA1': class_dice['CA1'],\n",
        "    'Dice CA4DG': class_dice['CA4DG'],\n",
        "    'Dice Subiculum': class_dice['subiculum'],\n",
        "    'HD95 Hippocampus': class_hd95['hippocampus'],\n",
        "    'HD95 CA1': class_hd95['CA1'],\n",
        "    'HD95 CA4DG': class_hd95['CA4DG'],\n",
        "    'HD95 Subiculum': class_hd95['subiculum'],\n",
        "    'ASD Hippocampus': class_asd['hippocampus'],\n",
        "    'ASD CA1': class_asd['CA1'],\n",
        "    'ASD CA4DG': class_asd['CA4DG'],\n",
        "    'ASD Subiculum': class_asd['subiculum']\n",
        "})\n",
        "\n",
        "individual_data.insert(0, 'Sample ID', list(range(1, len(test_dice_list) + 1)))\n",
        "\n",
        "individual_data.to_csv('/content/drive/MyDrive/Train_Data_INFO2/4_Cross_Domain_individual_metrics.csv', index=False)"
      ],
      "metadata": {
        "id": "KOSwBUK7NfOI"
      },
      "execution_count": null,
      "outputs": []
    },
    {
      "cell_type": "code",
      "source": [
        "metrics_dict = {\n",
        "    'Region': ['Overall', 'Hippocampus', 'CA1', 'CA4DG', 'Subiculum'],\n",
        "    'Dice_Mean': [overall_dice_mean, hippocampus_dice_mean, ca1_dice_mean, ca4dg_dice_mean, sub_dice_mean],\n",
        "    'Dice_Std': [overall_dice_std, hippocampus_dice_std, ca1_dice_std, ca4dg_dice_std, sub_dice_std],\n",
        "    'HD95_Mean': [overall_hd95_mean, hippocampus_hd95_mean, ca1_hd95_mean, ca4dg_hd95_mean, sub_hd95_mean],\n",
        "    'HD95_Std': [overall_hd95_std, hippocampus_hd95_std, ca1_hd95_std, ca4dg_hd95_std, sub_hd95_std],\n",
        "    'ASD_Mean': [overall_asd_mean, hippocampus_asd_mean, ca1_asd_mean, ca4dg_asd_mean, sub_asd_mean],\n",
        "    'ASD_Std': [overall_asd_std, hippocampus_asd_std, ca1_asd_std, ca4dg_asd_std, sub_asd_std]\n",
        "}\n",
        "\n",
        "metrics_df = pd.DataFrame(metrics_dict)\n",
        "\n",
        "metrics_file_path = \"/content/drive/MyDrive/Train_Data_INFO2/4_Cross_Domain_overall_test_metrics.csv\"\n",
        "\n",
        "metrics_df.to_csv(metrics_file_path, index=False)\n",
        "print(f\"Final test metrics saved to: {os.path.abspath(metrics_file_path)}\")"
      ],
      "metadata": {
        "colab": {
          "base_uri": "https://localhost:8080/"
        },
        "id": "Yo76lPxgPP_I",
        "outputId": "7a36c5f8-bfd5-4fcc-c71b-bf736cb0c592"
      },
      "execution_count": null,
      "outputs": [
        {
          "output_type": "stream",
          "name": "stdout",
          "text": [
            "Final test metrics saved to: /content/drive/MyDrive/Train_Data_INFO2/4_Cross_Domain_overall_test_metrics.csv\n"
          ]
        }
      ]
    },
    {
      "cell_type": "code",
      "source": [],
      "metadata": {
        "id": "NaStzytvQdeq"
      },
      "execution_count": null,
      "outputs": []
    }
  ]
}